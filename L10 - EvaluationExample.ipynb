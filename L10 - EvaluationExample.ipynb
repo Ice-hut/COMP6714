{
 "cells": [
  {
   "cell_type": "markdown",
   "metadata": {},
   "source": [
    "<!--\n",
    "Title:  COMP6714 L8 Evaluation - A Complete Example  \n",
    "Author: Wei Wang  \n",
    "Date:   September 21, 2015  \n",
    "-->\n",
    "\n",
    "## A Complete Example for IR Evaluation\n",
    "\n",
    "## Packages needed\n",
    "\n",
    "You need to install the `tabulate` package: \n",
    "\n",
    "`pip install tabulate`. \n",
    "\n",
    "### Setting\n",
    "\n",
    "* Let the *ground truth* be $D_1, D_3, D_4$. \n",
    "* System A returns $D_1, D_2$. \n",
    "* System B returns $D_1, D_2, D_3, D_4, D_5, D_6, D_7$. \n",
    "\n",
    "### Questions\n",
    "\n",
    "1. What are the precision and recall of System A? \n",
    "2. What are the precision and recall of System B? \n",
    "3. Which system is better? \n",
    "4. Draw the raw precision-recall graph.\n",
    "5. Assume that Systems A and B are actually the same system ran for two different queries. Draw the 11-point interpolated precision-recall graph.\n",
    "6. What is the average precision? \n",
    "7. Assume that Systems A and B are actually the same system ran for two different queries. What is the MAP?\n",
    "8. What is the R-precision for System B? \n",
    "\n",
    "\n",
    "<!-- \n",
    "    Leave some space so that answers are not shown directly. \n",
    "--> \n",
    "<br />\n",
    "<br />\n",
    "<br />\n",
    "<br />\n",
    "<br />\n",
    "<br />\n",
    "<br />\n",
    "<br />\n",
    "<br />\n",
    "<br />\n",
    "<br />\n",
    "<br />\n",
    "<br />\n",
    "<br />\n",
    "<br />\n",
    "<br />\n",
    "<br />\n",
    "<br />\n",
    "<br />\n",
    "<br />\n",
    "<br />\n",
    "<br />\n",
    "<br />\n",
    "<br />\n",
    "\n",
    "\n",
    "\n",
    "\n",
    "\n",
    "\n",
    "\n",
    "\n",
    "\n",
    "\n",
    "\n",
    "\n",
    "\n"
   ]
  },
  {
   "cell_type": "markdown",
   "metadata": {},
   "source": [
    "## More Detailes About the 11-point Interpolated Precision-Recall Graph\n",
    "\n",
    "Some of the information on the Web is not entirely correct/accurate, including [this popular one](http://datamin.ubbcluj.ro/wiki/index.php/Evaluation%5Fmethods%5Fin%5Ftext%5Fcategorization#11-point%5Faverage%5Fprecision)\n",
    "\n",
    "We present a version based on the following paper: \n",
    "\n",
    "> Simone Teufel. 2007. An Overview of evaluation methods in TREC Ad-hoc Information Retrieval and TREC Question Answering. In Evaluation of Text and Speech Systems. L. Dybkjaer, H. Hemsen, W. Minker (Eds.) Springer, Dordrecht (The Netherlands).\n",
    "\n",
    "Let $r_0, r_1, r_2, \\ldots, r_{10}$ be the 11 recall values at $0, 0.1, 0.2, \\ldots, 1.0$, respectively. The interpolated precision of the $i$th query for the recall $r_j$ is defined as\n",
    "$$\n",
    "    \\tilde{P}_i(r_j) = \\begin{cases}\n",
    "                         \\max_{r_j \\leq r < r_{j+1}} P_i(R = r) & \\text{ , if such $r$ exists}, \\\\\n",
    "                         \\tilde{P}_i(r_{j+1})                  & \\text{ , otherwise.}\n",
    "                       \\end{cases}\n",
    "$$\n",
    "Then, we can define the average interpolated precisions for each $r_j$ as \n",
    "$$\n",
    "    AP_{r_j} = \\frac{1}{N}\\sum_{i=1}^N \\tilde{P}_{i}(r_j)\n",
    "$$\n",
    "Finally, we can draw the $AP_{r_j}$ vs $r_j$ curve. \n",
    "\n"
   ]
  },
  {
   "cell_type": "markdown",
   "metadata": {},
   "source": [
    "**Exercises**:\n",
    "1. How to calculate $\\tilde{P}_i(r_{0})$?\n",
    "2. How to calculate $\\tilde{P}_i(r_{10})$?\n",
    "3. Find an algorithm to calculate $\\tilde{P}_i(r_{j})$, for $0 \\leq j \\leq 10$ efficiently. "
   ]
  },
  {
   "cell_type": "markdown",
   "metadata": {},
   "source": [
    "**Answers**:\n",
    "1. With some reasoning about the recursive definition, we can show that $\\tilde{P}_i(r_{0}=0.0) = \\max_{r \\in \\mathcal{R}} P_i(R=r)$, where $\\mathcal{R}$ are recall values actually obtained (in other words, if there are $L$ relevant documents in the ground truth, $\\mathcal{R} = \\{0, \\frac{1}{L}, \\frac{2}{L}, \\ldots, 1\\}$. \n",
    "\n",
    "2. In theory, $\\tilde{P}_i(r_{10}=1.0)$ should always be measured. If not in practice, we use the default value of 0.  \n",
    "\n",
    "3. Firstly, since we only care about the maximum precision value at the same recall value, we only need to measure raw precision and recall values at the position where a relevant document is retrieved. Secondly, by the recursive nature of the definition, we should compute $\\tilde{P}_i(r_{j})$ in the decreasing order of $r_j$. The pseudocode is shown below:\n",
    "\n",
    "```\n",
    "// assume two arrays, P[k] and R[k], hold recorded precision and recall values, \n",
    "// in the increasing order of recalls\n",
    "INTERP_R[10] = R[-1]\n",
    "FOR j = 9 DOWNTO 0 DO\n",
    "    Let S be the set of k such that R[k] >= (j-1)/10\n",
    "    maxP = max( R[j+1], max_{k \\in S}(P[k]) )\n",
    "ENDFOR\n",
    "```"
   ]
  },
  {
   "cell_type": "markdown",
   "metadata": {},
   "source": [
    "### Answers\n",
    "\n",
    "**Answer 1**: Prec(A) = 1/2; Recall(A) = 1/3"
   ]
  },
  {
   "cell_type": "markdown",
   "metadata": {},
   "source": [
    "**Answer 2**: Prec(B) = 3/7; Recall(B) = 3/3"
   ]
  },
  {
   "cell_type": "markdown",
   "metadata": {},
   "source": [
    "**Answer 3**: F1(A) = 2/5; F1(B) = 3/5"
   ]
  },
  {
   "cell_type": "markdown",
   "metadata": {},
   "source": [
    "**Answer 4**: See the table below. We highlight the rows where a relevant document is retrieved.  \n",
    "\n",
    "<div class=\"tableblock\">\n",
    "<table rules=\"all\" frame=\"border\" cellpadding=\"4\" cellspacing=\"0\" width=\"100%\">\n",
    "<colgroup><col width=\"14%\">\n",
    "<col width=\"14%\">\n",
    "<col width=\"14%\">\n",
    "<col width=\"14%\">\n",
    "<col width=\"14%\">\n",
    "<col width=\"14%\">\n",
    "<col width=\"14%\">\n",
    "</colgroup><tbody>\n",
    "<tr>\n",
    "<td align=\"left\" valign=\"top\"><p class=\"table\"><strong>k-th Output</strong></p></td>\n",
    "<td align=\"left\" valign=\"top\"><p class=\"table\">Judgement</p></td>\n",
    "<td align=\"left\" valign=\"top\"><p class=\"table\"><strong>Prec @ k (A)</strong></p></td>\n",
    "<td align=\"left\" valign=\"top\"><p class=\"table\"><strong>Recall @ k (A)</strong></p></td>\n",
    "<td align=\"left\" valign=\"top\"><p class=\"table\">Judgement</p></td>\n",
    "<td align=\"left\" valign=\"top\"><p class=\"table\"><strong>Prec @ k (B)</strong></p></td>\n",
    "<td align=\"left\" valign=\"top\"><p class=\"table\"><strong>Recall @ k (B)</strong></p></td>\n",
    "</tr>\n",
    "<tr>\n",
    "<td align=\"left\" valign=\"top\"><p class=\"table\">1</p></td>\n",
    "<td align=\"left\" valign=\"top\" BGCOLOR=\"#ffff00\"><p class=\"table\">R</p></td>\n",
    "<td align=\"left\" valign=\"top\" BGCOLOR=\"#ffff00\" ><p class=\"table\">1/1</p></td>\n",
    "<td align=\"left\" valign=\"top\" BGCOLOR=\"#ffff00\"><p class=\"table\">1/3</p></td>\n",
    "<td align=\"left\" valign=\"top\" BGCOLOR=\"#ffff00\"><p class=\"table\">R</p></td>\n",
    "<td align=\"left\" valign=\"top\" BGCOLOR=\"#ffff00\"><p class=\"table\">1/1</p></td>\n",
    "<td align=\"left\" valign=\"top\" BGCOLOR=\"#ffff00\"><p class=\"table\">1/3</p></td>\n",
    "</tr>\n",
    "<tr>\n",
    "<td align=\"left\" valign=\"top\"><p class=\"table\">2</p></td>\n",
    "<td align=\"left\" valign=\"top\"><p class=\"table\">N</p></td>\n",
    "<td align=\"left\" valign=\"top\"><p class=\"table\">1/2</p></td>\n",
    "<td align=\"left\" valign=\"top\"><p class=\"table\">1/3</p></td>\n",
    "<td align=\"left\" valign=\"top\"><p class=\"table\">N</p></td>\n",
    "<td align=\"left\" valign=\"top\"><p class=\"table\">1/2</p></td>\n",
    "<td align=\"left\" valign=\"top\"><p class=\"table\">1/3</p></td>\n",
    "</tr>\n",
    "<tr>\n",
    "<td align=\"left\" valign=\"top\"><p class=\"table\">3</p></td>\n",
    "<td align=\"left\" valign=\"top\"><p class=\"table\"></p></td>\n",
    "<td align=\"left\" valign=\"top\"><p class=\"table\"></p></td>\n",
    "<td align=\"left\" valign=\"top\"><p class=\"table\"></p></td>\n",
    "<td align=\"left\" valign=\"top\" BGCOLOR=\"#ffff00\"><p class=\"table\">R</p></td>\n",
    "<td align=\"left\" valign=\"top\" BGCOLOR=\"#ffff00\"><p class=\"table\">2/3</p></td>\n",
    "<td align=\"left\" valign=\"top\" BGCOLOR=\"#ffff00\"><p class=\"table\">2/3</p></td>\n",
    "</tr>\n",
    "<tr>\n",
    "<td align=\"left\" valign=\"top\"><p class=\"table\">4</p></td>\n",
    "<td align=\"left\" valign=\"top\"><p class=\"table\"></p></td>\n",
    "<td align=\"left\" valign=\"top\"><p class=\"table\"></p></td>\n",
    "<td align=\"left\" valign=\"top\"><p class=\"table\"></p></td>\n",
    "<td align=\"left\" valign=\"top\" BGCOLOR=\"#ffff00\"><p class=\"table\">R</p></td>\n",
    "<td align=\"left\" valign=\"top\" BGCOLOR=\"#ffff00\"><p class=\"table\">3/4</p></td>\n",
    "<td align=\"left\" valign=\"top\" BGCOLOR=\"#ffff00\"><p class=\"table\">3/3</p></td>\n",
    "</tr>\n",
    "<tr>\n",
    "<td align=\"left\" valign=\"top\"><p class=\"table\">5</p></td>\n",
    "<td align=\"left\" valign=\"top\"><p class=\"table\"></p></td>\n",
    "<td align=\"left\" valign=\"top\"><p class=\"table\"></p></td>\n",
    "<td align=\"left\" valign=\"top\"><p class=\"table\"></p></td>\n",
    "<td align=\"left\" valign=\"top\"><p class=\"table\">N</p></td>\n",
    "<td align=\"left\" valign=\"top\"><p class=\"table\">3/5</p></td>\n",
    "<td align=\"left\" valign=\"top\"><p class=\"table\">3/3</p></td>\n",
    "</tr>\n",
    "<tr>\n",
    "<td align=\"left\" valign=\"top\"><p class=\"table\">6</p></td>\n",
    "<td align=\"left\" valign=\"top\"><p class=\"table\"></p></td>\n",
    "<td align=\"left\" valign=\"top\"><p class=\"table\"></p></td>\n",
    "<td align=\"left\" valign=\"top\"><p class=\"table\"></p></td>\n",
    "<td align=\"left\" valign=\"top\"><p class=\"table\">N</p></td>\n",
    "<td align=\"left\" valign=\"top\"><p class=\"table\">3/6</p></td>\n",
    "<td align=\"left\" valign=\"top\"><p class=\"table\">3/3</p></td>\n",
    "</tr>\n",
    "<tr>\n",
    "<td align=\"left\" valign=\"top\"><p class=\"table\">7</p></td>\n",
    "<td align=\"left\" valign=\"top\"><p class=\"table\"></p></td>\n",
    "<td align=\"left\" valign=\"top\"><p class=\"table\"></p></td>\n",
    "<td align=\"left\" valign=\"top\"><p class=\"table\"></p></td>\n",
    "<td align=\"left\" valign=\"top\"><p class=\"table\">N</p></td>\n",
    "<td align=\"left\" valign=\"top\"><p class=\"table\">3/7</p></td>\n",
    "<td align=\"left\" valign=\"top\"><p class=\"table\">3/3</p></td>\n",
    "</tr>\n",
    "</tbody>\n",
    "</table>\n",
    "</div>\n",
    "\n",
    "We show the resulting figure for System B below. \n",
    "\n"
   ]
  },
  {
   "cell_type": "code",
   "execution_count": 1,
   "metadata": {
    "collapsed": false
   },
   "outputs": [
    {
     "data": {
      "image/png": "[encoded data removed]",
      "text/plain": [
       "<matplotlib.figure.Figure at 0x1052eb390>"
      ]
     },
     "metadata": {},
     "output_type": "display_data"
    }
   ],
   "source": [
    "%matplotlib inline\n",
    "import numpy as np\n",
    "import matplotlib.pyplot as plt\n",
    "\n",
    "B_raw_recalls    = np.array([1/3, 1/3, 2/3, 3/3, 3/3, 3/3, 3/3])\n",
    "B_raw_precisions = np.array([1/1, 1/2, 2/3, 3/4, 3/5, 3/6, 3/7])\n",
    "\n",
    "plt.xlim(0, 1.1) \n",
    "plt.ylim(0, 1.1)\n",
    "\n",
    "line, = plt.plot(B_raw_recalls, B_raw_precisions, 'o-', linewidth=2)\n",
    "plt.show()"
   ]
  },
  {
   "cell_type": "markdown",
   "metadata": {},
   "source": [
    "**Answer 5**: Perform the interpolation on precisions and we have the table below. \n",
    "\n",
    "<div class=\"tableblock\">\n",
    "<table rules=\"all\" frame=\"border\" cellpadding=\"4\" cellspacing=\"0\" width=\"100%\">\n",
    "<colgroup>\n",
    "<col width=\"14%\">\n",
    "<col width=\"28%\">\n",
    "<col width=\"28%\">\n",
    "<col width=\"28%\">\n",
    "</colgroup><tbody>\n",
    "<tr>\n",
    "<td align=\"left\" valign=\"top\"><p class=\"table\"><strong>r_j</strong></p></td>\n",
    "<td align=\"left\" valign=\"top\"><p class=\"table\"><strong>Interp. Prec (A)</strong></p></td>\n",
    "<td align=\"left\" valign=\"top\"><p class=\"table\"><strong>Interp. Prec (B)</strong></p></td>\n",
    "<td align=\"left\" valign=\"top\"><p class=\"table\"><strong>Avg. Interp. Prec (B)</strong></p></td>\n",
    "</tr>\n",
    "<tr>\n",
    "<td align=\"left\" valign=\"top\"><p class=\"table\">0.0</p></td>\n",
    "<td align=\"left\" valign=\"top\"><p class=\"table\">1/1</p></td>\n",
    "<td align=\"left\" valign=\"top\"><p class=\"table\">1/1</p></td>\n",
    "<td align=\"left\" valign=\"top\"><p class=\"table\">1.0</p></td>\n",
    "</tr>\n",
    "<tr>\n",
    "<td align=\"left\" valign=\"top\"><p class=\"table\">0.1</p></td>\n",
    "<td align=\"left\" valign=\"top\"><p class=\"table\">1/1</p></td>\n",
    "<td align=\"left\" valign=\"top\"><p class=\"table\">1/1</p></td>\n",
    "<td align=\"left\" valign=\"top\"><p class=\"table\">1.0</p></td>\n",
    "</tr>\n",
    "<tr>\n",
    "<td align=\"left\" valign=\"top\"><p class=\"table\">0.2</p></td>\n",
    "<td align=\"left\" valign=\"top\"><p class=\"table\">1/1</p></td>\n",
    "<td align=\"left\" valign=\"top\"><p class=\"table\">1/1</p></td>\n",
    "<td align=\"left\" valign=\"top\"><p class=\"table\">1.0</p></td>\n",
    "</tr>\n",
    "<tr>\n",
    "<td align=\"left\" valign=\"top\"><p class=\"table\">0.3</p></td>\n",
    "<td align=\"left\" valign=\"top\"><p class=\"table\">1/1</p></td>\n",
    "<td align=\"left\" valign=\"top\"><p class=\"table\">1/1</p></td>\n",
    "<td align=\"left\" valign=\"top\"><p class=\"table\">1.0</p></td>\n",
    "</tr>\n",
    "<tr>\n",
    "<td align=\"left\" valign=\"top\"><p class=\"table\">0.4</p></td>\n",
    "<td align=\"left\" valign=\"top\"><p class=\"table\">0</p></td>\n",
    "<td align=\"left\" valign=\"top\"><p class=\"table\">3/4</p></td>\n",
    "<td align=\"left\" valign=\"top\"><p class=\"table\">0.375</p></td>\n",
    "</tr>\n",
    "<tr>\n",
    "<td align=\"left\" valign=\"top\"><p class=\"table\">0.5</p></td>\n",
    "<td align=\"left\" valign=\"top\"><p class=\"table\">0</p></td>\n",
    "<td align=\"left\" valign=\"top\"><p class=\"table\">3/4</p></td>\n",
    "<td align=\"left\" valign=\"top\"><p class=\"table\">0.375</p></td>\n",
    "</tr>\n",
    "<tr>\n",
    "<td align=\"left\" valign=\"top\"><p class=\"table\">0.6</p></td>\n",
    "<td align=\"left\" valign=\"top\"><p class=\"table\">0</p></td>\n",
    "<td align=\"left\" valign=\"top\"><p class=\"table\">3/4</p></td>\n",
    "<td align=\"left\" valign=\"top\"><p class=\"table\">0.375</p></td>\n",
    "</tr>\n",
    "<tr>\n",
    "<td align=\"left\" valign=\"top\"><p class=\"table\">0.7</p></td>\n",
    "<td align=\"left\" valign=\"top\"><p class=\"table\">0</p></td>\n",
    "<td align=\"left\" valign=\"top\"><p class=\"table\">3/4</p></td>\n",
    "<td align=\"left\" valign=\"top\"><p class=\"table\">0.375</p></td>\n",
    "</tr>\n",
    "<tr>\n",
    "<td align=\"left\" valign=\"top\"><p class=\"table\">0.8</p></td>\n",
    "<td align=\"left\" valign=\"top\"><p class=\"table\">0</p></td>\n",
    "<td align=\"left\" valign=\"top\"><p class=\"table\">3/4</p></td>\n",
    "<td align=\"left\" valign=\"top\"><p class=\"table\">0.375</p></td>\n",
    "</tr>\n",
    "<tr>\n",
    "<td align=\"left\" valign=\"top\"><p class=\"table\">0.9</p></td>\n",
    "<td align=\"left\" valign=\"top\"><p class=\"table\">0</p></td>\n",
    "<td align=\"left\" valign=\"top\"><p class=\"table\">3/4</p></td>\n",
    "<td align=\"left\" valign=\"top\"><p class=\"table\">0.375</p></td>\n",
    "</tr>\n",
    "<tr>\n",
    "<td align=\"left\" valign=\"top\"><p class=\"table\">1.0</p></td>\n",
    "<td align=\"left\" valign=\"top\"><p class=\"table\">0</p></td>\n",
    "<td align=\"left\" valign=\"top\"><p class=\"table\">3/4</p></td>\n",
    "<td align=\"left\" valign=\"top\"><p class=\"table\">0.375</p></td>\n",
    "</tr>\n",
    "</tbody>\n",
    "</table>\n",
    "</div>\n",
    "\n",
    "\n",
    "We obtain the above by 3 steps. \n",
    "\n",
    "*Step 1*: We perform the 11-point interpolation for precisions for System B, as follows. \n",
    "\n",
    "\n",
    "\n"
   ]
  },
  {
   "cell_type": "code",
   "execution_count": 2,
   "metadata": {
    "collapsed": false
   },
   "outputs": [
    {
     "name": "stdout",
     "output_type": "stream",
     "text": [
      "  Recall    Raw Precision\n",
      "--------  ---------------\n",
      "0.333333         1\n",
      "0.333333         0.5\n",
      "0.666667         0.666667\n",
      "1                0.75\n",
      "1                0.6\n",
      "1                0.5\n",
      "1                0.428571\n",
      "\n",
      "  Recall    Interp. Precision\n",
      "--------  -------------------\n",
      "     0                   1\n",
      "     0.1                 1\n",
      "     0.2                 1\n",
      "     0.3                 1\n",
      "     0.4                 0.75\n",
      "     0.5                 0.75\n",
      "     0.6                 0.75\n",
      "     0.7                 0.75\n",
      "     0.8                 0.75\n",
      "     0.9                 0.75\n",
      "     1                   0.75\n",
      "\n"
     ]
    },
    {
     "data": {
      "image/png": "[encoded data removed]",
      "text/plain": [
       "<matplotlib.figure.Figure at 0x10612ff98>"
      ]
     },
     "metadata": {},
     "output_type": "display_data"
    }
   ],
   "source": [
    "from tabulate import tabulate # c.f., https://pypi.python.org/pypi/tabulate\n",
    "from math import *\n",
    "\n",
    "def eleven_point_interpolated_precisions(sorted_raw_precisions, sorted_raw_recalls):\n",
    "    # Detailed instructions to calculate the 11-point interpolated precisions are available at \n",
    "    # https://ccc.inaoep.mx/~villasen/bib/AN%20OVERVIEW%20OF%20EVALUATION%20METHODS%20IN%20TREC%20AD%20HOC%20IR%20AND%20TREC%20QA.pdf\n",
    "    #\n",
    "    # Note that some of the descriptions online is not correct (including this widely cited one:\n",
    "    # http://datamin.ubbcluj.ro/wiki/index.php/Evaluation_methods_in_text_categorization#11-point_average_precision)\n",
    "    # \n",
    "    # The `sorted_raw_precisions` array is sorted by increasing corresponding recall. \n",
    "    # \n",
    "    interpolated_precisions = np.zeros(11)\n",
    "    k = 0\n",
    "    for j in range(11):\n",
    "        current_recall = float(j) / 10.0\n",
    "        # 1) find precision values to the right of current_recall - currently, just use brute force\n",
    "        while k < len(sorted_raw_recalls):\n",
    "            if sorted_raw_recalls[k] < current_recall:\n",
    "                k += 1\n",
    "            else:\n",
    "                break\n",
    "        # either at the end of the list (which needs special care) or the first >= current_recall\n",
    "        if k < len(sorted_raw_recalls):\n",
    "            interpolated_precisions[j] = np.max(sorted_raw_precisions[k:]) # will throw an exception if input array is empty\n",
    "        else:\n",
    "            interpolated_precisions[j] = 0         \n",
    "    \n",
    "    return interpolated_precisions\n",
    "\n",
    "def dump(precisions, recalls):\n",
    "    interp_precisions = eleven_point_interpolated_precisions(precisions, recalls)\n",
    "    \n",
    "    table = zip(recalls, precisions)\n",
    "    print( tabulate(table, headers=[\"Recall\",\"Raw Precision\"]) )\n",
    "    print()\n",
    "    \n",
    "    rs = [float(i)/10.0 for i in range(11)]\n",
    "    table = zip(rs, interp_precisions)\n",
    "    print( tabulate(table, headers=[\"Recall\",\"Interp. Precision\"]) )\n",
    "    print()\n",
    "\n",
    "# just repeat the same definition again \n",
    "B_raw_recalls    = np.array([1/3, 1/3, 2/3, 3/3, 3/3, 3/3, 3/3])\n",
    "B_raw_precisions = np.array([1/1, 1/2, 2/3, 3/4, 3/5, 3/6, 3/7])\n",
    "dump(B_raw_precisions, B_raw_recalls)\n",
    "\n",
    "plt.xlim(0, 1.1) \n",
    "plt.ylim(0, 1.1)\n",
    "\n",
    "B_interp_precisions = eleven_point_interpolated_precisions(B_raw_precisions, B_raw_recalls)\n",
    "line,  = plt.plot(B_raw_recalls,                      B_raw_precisions,    'x-', linewidth=2)\n",
    "line2, = plt.plot([float(i)/10.0 for i in range(11)], B_interp_precisions, 'o-', linewidth=2)\n",
    "\n",
    "plt.show()"
   ]
  },
  {
   "cell_type": "markdown",
   "metadata": {},
   "source": [
    "*Step 2*: Do the same for System A. "
   ]
  },
  {
   "cell_type": "code",
   "execution_count": 3,
   "metadata": {
    "collapsed": false
   },
   "outputs": [
    {
     "name": "stdout",
     "output_type": "stream",
     "text": [
      "  Recall    Raw Precision\n",
      "--------  ---------------\n",
      "0.333333              1\n",
      "0.333333              0.5\n",
      "\n",
      "  Recall    Interp. Precision\n",
      "--------  -------------------\n",
      "     0                      1\n",
      "     0.1                    1\n",
      "     0.2                    1\n",
      "     0.3                    1\n",
      "     0.4                    0\n",
      "     0.5                    0\n",
      "     0.6                    0\n",
      "     0.7                    0\n",
      "     0.8                    0\n",
      "     0.9                    0\n",
      "     1                      0\n",
      "\n"
     ]
    },
    {
     "data": {
      "image/png": "[encoded data removed]",
      "text/plain": [
       "<matplotlib.figure.Figure at 0x1047dc160>"
      ]
     },
     "metadata": {},
     "output_type": "display_data"
    }
   ],
   "source": [
    "plt.xlim(0, 1.1) \n",
    "plt.ylim(0, 1.1)\n",
    "\n",
    "A_raw_recalls    = np.array([1/3, 1/3])\n",
    "A_raw_precisions = np.array([1/1, 1/2])\n",
    "dump(A_raw_precisions, A_raw_recalls)\n",
    "\n",
    "A_interp_precisions = eleven_point_interpolated_precisions(A_raw_precisions, A_raw_recalls)\n",
    "line, = plt.plot(A_raw_recalls, A_raw_precisions, 'x-', linewidth=2)\n",
    "line2, = plt.plot([float(i)/10.0 for i in range(11)], A_interp_precisions, 'o-', linewidth=2)\n",
    "\n",
    "plt.show()\n"
   ]
  },
  {
   "cell_type": "markdown",
   "metadata": {},
   "source": [
    "\n",
    "*Step 3*: We do the averaging across the two queries. "
   ]
  },
  {
   "cell_type": "code",
   "execution_count": 4,
   "metadata": {
    "collapsed": false
   },
   "outputs": [
    {
     "data": {
      "image/png": "[encoded data removed]",
      "text/plain": [
       "<matplotlib.figure.Figure at 0x1060b4630>"
      ]
     },
     "metadata": {},
     "output_type": "display_data"
    }
   ],
   "source": [
    "A_interp_precisions = eleven_point_interpolated_precisions(A_raw_precisions, A_raw_recalls)\n",
    "B_interp_precisions = eleven_point_interpolated_precisions(B_raw_precisions, B_raw_recalls)\n",
    "\n",
    "# put them into one matrix\n",
    "mat = np.hstack((A_interp_precisions,B_interp_precisions)).reshape(2, 11)\n",
    "avg_precisions = np.mean(mat, axis = 0)\n",
    "#print(mat)\n",
    "#print(avg_precisions)\n",
    "\n",
    "plt.xlim(0, 1.1) \n",
    "plt.ylim(0, 1.1)\n",
    "\n",
    "line,  = plt.plot([float(i)/10.0 for i in range(11)], A_interp_precisions, 'x-', linewidth=2)\n",
    "line2, = plt.plot([float(i)/10.0 for i in range(11)], B_interp_precisions, 'o-', linewidth=2)\n",
    "line3, = plt.plot([float(i)/10.0 for i in range(11)], avg_precisions,      '+-', linewidth=2)\n",
    "\n",
    "plt.show()"
   ]
  },
  {
   "cell_type": "markdown",
   "metadata": {},
   "source": [
    "To summarize, we obtain the final plot (the red line) by\n",
    "1. For each query, \n",
    "   1. Compute the raw precisions for each query at each position (in fact, one can calculate raw precisions *only* at the position where a relevant document is retrieved). \n",
    "   2. Obtain the interpolated precisions at each of the 11 points. \n",
    "2. Average the interpolated precisions across all queries, and plot the final line.  "
   ]
  },
  {
   "cell_type": "markdown",
   "metadata": {},
   "source": [
    "**Answer 6**: Avg Prec (A) = (1/1) / 3 = 1/3; Avg Prec (B) = (1/1 + 2/3 + 3/4) / 3 = 29/36. \n",
    "\n",
    "The key part is that average precisions essentially only count precisions at positions where a relevant document is retrieved. This makes the result independent of how many documents are returned. \n",
    "\n",
    "For System A, we can deem precisions for the 2nd and 3rd relevant document as 0, as they are not returned. "
   ]
  },
  {
   "cell_type": "markdown",
   "metadata": {},
   "source": [
    "**Answer 7**: MAP = (1/3 + 29/36) / 2 = 41/72. "
   ]
  },
  {
   "cell_type": "markdown",
   "metadata": {},
   "source": [
    "**Answer 8**: R = 3, so R-precision = Prec @ 3. For System B, it is 2/3."
   ]
  },
  {
   "cell_type": "code",
   "execution_count": null,
   "metadata": {
    "collapsed": true
   },
   "outputs": [],
   "source": []
  }
 ],
 "metadata": {
  "kernelspec": {
   "display_name": "Python 3",
   "language": "python",
   "name": "python3"
  },
  "language_info": {
   "codemirror_mode": {
    "name": "ipython",
    "version": 3
   },
   "file_extension": ".py",
   "mimetype": "text/x-python",
   "name": "python",
   "nbconvert_exporter": "python",
   "pygments_lexer": "ipython3",
   "version": "3.4.5"
  }
 },
 "nbformat": 4,
 "nbformat_minor": 0
}
