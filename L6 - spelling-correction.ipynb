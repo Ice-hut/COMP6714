{
 "cells": [
  {
   "cell_type": "markdown",
   "metadata": {},
   "source": [
    "# Introduction\n",
    "\n",
    "This notebook gives a simple implementation of the noisy channel model for non-word spelling correction. It also includes the demonstration of the Zipf law. \n"
   ]
  },
  {
   "cell_type": "code",
   "execution_count": 6,
   "metadata": {
    "collapsed": false
   },
   "outputs": [
    {
     "name": "stdout",
     "output_type": "stream",
     "text": [
      "Populating the interactive namespace from numpy and matplotlib\n"
     ]
    }
   ],
   "source": [
    "# Boring preliminaries\n",
    "%pylab inline\n",
    "import re\n",
    "import math\n",
    "import string\n",
    "from collections import Counter\n",
    "from __future__ import division\n",
    "\n",
    "# %pylab inline causes numpy.sum() overriding builtin's sum(). \n",
    "import builtins as base"
   ]
  },
  {
   "cell_type": "markdown",
   "metadata": {},
   "source": [
    "## (1) Data: Text and Words\n",
    "\n",
    "\n",
    "Before we can do things with words, we need some words.  First we need some *text*, possibly from a *file*.  Then we can break the text into words.  I happen to have a big text called `big.txt`.  We can read it, and see how big it is (in characters):"
   ]
  },
  {
   "cell_type": "code",
   "execution_count": 7,
   "metadata": {
    "collapsed": false
   },
   "outputs": [
    {
     "data": {
      "text/plain": [
       "6488666"
      ]
     },
     "execution_count": 7,
     "metadata": {},
     "output_type": "execute_result"
    }
   ],
   "source": [
    "# save space\n",
    "import gzip\n",
    "with gzip.open('./asset/big.txt.gz', 'rt') as f:\n",
    "    TEXT = f.read()\n",
    "\n",
    "len(TEXT)"
   ]
  },
  {
   "cell_type": "markdown",
   "metadata": {},
   "source": [
    "So, six million characters.\n",
    "\n",
    "Now let's break the text up into words (or more formal-sounding, *tokens*).  For now we'll ignore all the punctuation and numbers, and anything that is not a letter."
   ]
  },
  {
   "cell_type": "code",
   "execution_count": 8,
   "metadata": {
    "collapsed": false
   },
   "outputs": [],
   "source": [
    "def tokens(text):\n",
    "    \"List all the word tokens (consecutive letters) in a text. Normalize to lowercase.\"\n",
    "    return re.findall('[a-z]+', text.lower()) "
   ]
  },
  {
   "cell_type": "code",
   "execution_count": 9,
   "metadata": {
    "collapsed": false
   },
   "outputs": [
    {
     "data": {
      "text/plain": [
       "['this', 'is', 'a', 'test', 'this', 'is']"
      ]
     },
     "execution_count": 9,
     "metadata": {},
     "output_type": "execute_result"
    }
   ],
   "source": [
    "tokens('This is: A test, 1, 2, 3, this is.')"
   ]
  },
  {
   "cell_type": "code",
   "execution_count": 10,
   "metadata": {
    "collapsed": false
   },
   "outputs": [
    {
     "data": {
      "text/plain": [
       "1105285"
      ]
     },
     "execution_count": 10,
     "metadata": {},
     "output_type": "execute_result"
    }
   ],
   "source": [
    "WORDS = tokens(TEXT)\n",
    "len(WORDS)"
   ]
  },
  {
   "cell_type": "markdown",
   "metadata": {},
   "source": [
    "So, a million words.  Here are the first 10:\n",
    "\n"
   ]
  },
  {
   "cell_type": "code",
   "execution_count": 11,
   "metadata": {
    "collapsed": false
   },
   "outputs": [
    {
     "name": "stdout",
     "output_type": "stream",
     "text": [
      "['the', 'project', 'gutenberg', 'ebook', 'of', 'the', 'adventures', 'of', 'sherlock', 'holmes']\n"
     ]
    }
   ],
   "source": [
    "print(WORDS[:10])"
   ]
  },
  {
   "cell_type": "markdown",
   "metadata": {},
   "source": [
    "## (2) The Bag-of-Words Model\n",
    "\n",
    "\n",
    "The list `WORDS` is a list of the words in the `TEXT`, but it can also serve as a *generative model* of text. We know that language is very complicated, but we can create a simplified model of language that captures part of the complexity.  In the *bag of words* model, we ignore the order of words, but maintain their frequency.  Think of it this way: take all the words from the text, and throw them into a bag.  Shake the bag, and then generating a sentence consists of pulling words out of the bag one at a time.  Chances are it won't be grammatical or sensible, but it will have words in roughly the right proportions.  Here's a function to sample an *n* word sentence from a bag of words:"
   ]
  },
  {
   "cell_type": "code",
   "execution_count": 12,
   "metadata": {
    "collapsed": false
   },
   "outputs": [],
   "source": [
    "def sample(bag, n=10):\n",
    "    \"Sample a random n-word sentence from the model described by the bag of words.\"\n",
    "    return ' '.join(random.choice(bag) for _ in range(n))"
   ]
  },
  {
   "cell_type": "code",
   "execution_count": 13,
   "metadata": {
    "collapsed": false
   },
   "outputs": [
    {
     "data": {
      "text/plain": [
       "'of listed meeting painlessly condition two virtue though quite prince'"
      ]
     },
     "execution_count": 13,
     "metadata": {},
     "output_type": "execute_result"
    }
   ],
   "source": [
    "sample(WORDS)"
   ]
  },
  {
   "cell_type": "markdown",
   "metadata": {},
   "source": [
    "Another representation for a bag of words is a `Counter`, which is a dictionary of `{'word': count}` pairs.  For example,"
   ]
  },
  {
   "cell_type": "code",
   "execution_count": 14,
   "metadata": {
    "collapsed": false
   },
   "outputs": [
    {
     "data": {
      "text/plain": [
       "Counter({'a': 2, 'is': 2, 'it': 1, 'test': 2, 'this': 1})"
      ]
     },
     "execution_count": 14,
     "metadata": {},
     "output_type": "execute_result"
    }
   ],
   "source": [
    "Counter(tokens('Is this a test? It is a test!'))"
   ]
  },
  {
   "cell_type": "markdown",
   "metadata": {},
   "source": [
    "A `Counter` is like a `dict`, but with a few extra methods.  Let's make a `Counter` for the big list of `WORDS` and get a feel for what's there:"
   ]
  },
  {
   "cell_type": "code",
   "execution_count": 15,
   "metadata": {
    "collapsed": false
   },
   "outputs": [
    {
     "name": "stdout",
     "output_type": "stream",
     "text": [
      "[('the', 80030), ('of', 40025), ('and', 38313), ('to', 28766), ('in', 22050), ('a', 21155), ('that', 12512), ('he', 12401), ('was', 11410), ('it', 10681)]\n"
     ]
    }
   ],
   "source": [
    "COUNTS = Counter(WORDS)\n",
    "\n",
    "print(COUNTS.most_common(10))"
   ]
  },
  {
   "cell_type": "code",
   "execution_count": 16,
   "metadata": {
    "collapsed": false
   },
   "outputs": [
    {
     "name": "stdout",
     "output_type": "stream",
     "text": [
      "80030 the\n",
      "83 rare\n",
      "38313 and\n",
      "0 neverbeforeseen\n",
      "460 words\n"
     ]
    }
   ],
   "source": [
    "for w in tokens('the rare and neverbeforeseen words'):\n",
    "    print(COUNTS[w], w)"
   ]
  },
  {
   "cell_type": "markdown",
   "metadata": {},
   "source": [
    "In 1935, linguist George Zipf noted that in any big text, the *n*th most frequent word appears with a frequency of about 1/*n* of the most frequent word. He get's credit for *Zipf's Law*, even though Felix Auerbach made the same observation in 1913.  If we plot the frequency of words, most common first, on a log-log plot, they should come out as a straight line if Zipf's Law holds.  Here we see that it is a fairly close fit:"
   ]
  },
  {
   "cell_type": "code",
   "execution_count": 17,
   "metadata": {
    "collapsed": false
   },
   "outputs": [
    {
     "data": {
      "image/png": "[encoded data removed]",
      "text/plain": [
       "<matplotlib.figure.Figure at 0x10d0d7278>"
      ]
     },
     "metadata": {},
     "output_type": "display_data"
    }
   ],
   "source": [
    "M = COUNTS['the']\n",
    "yscale('log'); xscale('log'); title('Frequency of n-th most frequent word and 1/n line.')\n",
    "plot([c for (w, c) in COUNTS.most_common()])\n",
    "plot([M/i for i in range(1, len(COUNTS)+1)]);"
   ]
  },
  {
   "cell_type": "code",
   "execution_count": 18,
   "metadata": {
    "collapsed": false
   },
   "outputs": [
    {
     "name": "stdout",
     "output_type": "stream",
     "text": [
      "actress: 7\n",
      "cress: 0\n",
      "caress: 3\n",
      "access: 56\n",
      "across: 222\n",
      "acres: 36\n"
     ]
    }
   ],
   "source": [
    "cands = ['actress', 'cress', 'caress', 'access', 'across', 'acres']\n",
    "pairs = [(w, COUNTS[w]) for w in cands]\n",
    "for pair in pairs:\n",
    "    print('{}: {}'.format(pair[0], pair[1]))"
   ]
  },
  {
   "cell_type": "code",
   "execution_count": 19,
   "metadata": {
    "collapsed": false,
    "scrolled": true
   },
   "outputs": [
    {
     "name": "stdout",
     "output_type": "stream",
     "text": [
      "across / access in the bigw corpus = 3.9642857142857144\n",
      "across / access in the COCA corpus = 3.2627031697175872\n"
     ]
    }
   ],
   "source": [
    "print('across / access in the bigw corpus =', 222.0 / 56)\n",
    "print('across / access in the COCA corpus =', 120844.0 / 37038)"
   ]
  },
  {
   "cell_type": "markdown",
   "metadata": {},
   "source": [
    "Converting the absolute count to a probability number is easy. "
   ]
  },
  {
   "cell_type": "code",
   "execution_count": 20,
   "metadata": {
    "collapsed": false
   },
   "outputs": [
    {
     "data": {
      "text/plain": [
       "1105285"
      ]
     },
     "execution_count": 20,
     "metadata": {},
     "output_type": "execute_result"
    }
   ],
   "source": [
    "base.sum(COUNTS.values())\n"
   ]
  },
  {
   "cell_type": "code",
   "execution_count": 21,
   "metadata": {
    "collapsed": false
   },
   "outputs": [],
   "source": [
    "def pdist(counter):\n",
    "    \"Make a probability distribution, given evidence from a Counter.\"\n",
    "    N = int(base.sum(counter.values()))\n",
    "    return lambda x: counter[x]/N\n",
    "\n",
    "P = pdist(COUNTS)"
   ]
  },
  {
   "cell_type": "code",
   "execution_count": 27,
   "metadata": {
    "collapsed": false,
    "scrolled": true
   },
   "outputs": [
    {
     "name": "stdout",
     "output_type": "stream",
     "text": [
      "P(actress) \t= 6.333208e-06\n",
      "P(cress) \t= 0.000000e+00\n",
      "P(caress) \t= 2.714232e-06\n",
      "P(access) \t= 5.066567e-05\n",
      "P(across) \t= 2.008532e-04\n",
      "P(acres) \t= 3.257078e-05\n"
     ]
    }
   ],
   "source": [
    "for w in cands:\n",
    "    print('P({}) \\t= {:8.6e}'.format(w, P(w)))"
   ]
  },
  {
   "cell_type": "markdown",
   "metadata": {},
   "source": [
    "(3) Task: Spelling Correction\n",
    "========\n",
    "\n",
    "Given a word *w*, find the most likely correction *c* = `correct(`*w*`)`. We solve this problem in two steps:\n",
    "1. Find a set of *candidates*. \n",
    "2. Score each word in the candidates based on the noisy channel model. \n",
    "\n",
    "In the noisy channel model, we model\n",
    "$$\n",
    "P(c|w) \\propto P(w|c) \\cdot P(c)\n",
    "$$\n",
    "\n",
    "For $P(c)$, known as the *prior*, we will just use `P(c)`. For $P(w|c)$, known as the *likelihood*, we score it using some heuristic function based on the *edit distance* between $w$ and $c$. Also we limit the set of candidates to those whose edit distance to $w$ is no more than 2. \n",
    "\n",
    "\n",
    "        \n"
   ]
  },
  {
   "cell_type": "code",
   "execution_count": 38,
   "metadata": {
    "collapsed": false
   },
   "outputs": [],
   "source": [
    "def known(words):\n",
    "    \"Return the subset of words that are actually in the dictionary.\"\n",
    "    return {w for w in words if w in COUNTS}\n",
    "\n",
    "def edits0(word): \n",
    "    \"Return all strings that are zero edits away from word (i.e., just word itself).\"\n",
    "    return {word}\n",
    "\n",
    "def edits2(word):\n",
    "    \"Return all strings that are two edits away from this word.\"\n",
    "    return {e2 for e1 in edits1(word) for e2 in edits1(e1)}"
   ]
  },
  {
   "cell_type": "markdown",
   "metadata": {},
   "source": [
    "The functions `known` and `edits0` are easy; and `edits2` is easy if we assume we have `edits1`:"
   ]
  },
  {
   "cell_type": "markdown",
   "metadata": {},
   "source": [
    "Now for `edits1(word)`: the set of candidate words that are one edit away. For example, given `\"wird\"`, this would include `\"weird\"` (inserting an `e`) and `\"word\"` (replacing a `i` with a `o`), and also `\"iwrd\"` (transposing `w` and `i`; then `known` can be used to filter this out of the set of final candidates). How could we get them?  One way is to *split* the original word in all possible places, each split forming a *pair* of words, `(a, b)`, before and after the place, and at each place, either delete, transpose, replace, or insert a letter:\n",
    "\n",
    "<table>\n",
    "  <tr><td> pairs: <td><tt> Ø+wird <td><tt> w+ird <td><tt> wi+rd <td><tt>wir+d<td><tt>wird+Ø<td><i>Notes:</i><tt> (<i>a</i>, <i>b</i>)</tt> pair</i>\n",
    "  <tr><td> deletions: <td><tt>Ø+ird<td><tt> w+rd<td><tt> wi+d<td><tt> wir+Ø<td><td><i>Delete first char of b</i>\n",
    "  <tr><td> transpositions: <td><tt>Ø+iwrd<td><tt> w+rid<td><tt> wi+dr</tt><td><td><td><i>Swap first two chars of b\n",
    "  <tr><td> replacements: <td><tt>Ø+?ird<td><tt> w+?rd<td><tt> wi+?d<td><tt> wir+?</tt><td><td><i>Replace char at start of b\n",
    "  <tr><td> insertions: <td><tt>Ø+?+wird<td><tt> w+?+ird<td><tt> wi+?+rd<td><tt> wir+?+d<td><tt> wird+?+Ø</tt><td><i>Insert char between a and b\n",
    "</table>"
   ]
  },
  {
   "cell_type": "code",
   "execution_count": 39,
   "metadata": {
    "collapsed": false
   },
   "outputs": [],
   "source": [
    "def edits1(word):\n",
    "    \"Return all strings that are one edit away from this word.\"\n",
    "    pairs      = splits(word)\n",
    "    deletes    = [a+b[1:]           for (a, b) in pairs if b]\n",
    "    transposes = [a+b[1]+b[0]+b[2:] for (a, b) in pairs if len(b) > 1]\n",
    "    replaces   = [a+c+b[1:]         for (a, b) in pairs for c in alphabet if b]\n",
    "    inserts    = [a+c+b             for (a, b) in pairs for c in alphabet]\n",
    "    return set(deletes + transposes + replaces + inserts)\n",
    "\n",
    "def splits(word):\n",
    "    \"Return a list of all possible (first, rest) pairs that comprise word.\"\n",
    "    return [(word[:i], word[i:]) \n",
    "            for i in range(len(word)+1)]\n",
    "\n",
    "alphabet = 'abcdefghijklmnopqrstuvwxyz'"
   ]
  },
  {
   "cell_type": "code",
   "execution_count": 40,
   "metadata": {
    "collapsed": false
   },
   "outputs": [
    {
     "data": {
      "text/plain": [
       "[('', 'wird'), ('w', 'ird'), ('wi', 'rd'), ('wir', 'd'), ('wird', '')]"
      ]
     },
     "execution_count": 40,
     "metadata": {},
     "output_type": "execute_result"
    }
   ],
   "source": [
    "splits('wird')"
   ]
  },
  {
   "cell_type": "code",
   "execution_count": 41,
   "metadata": {
    "collapsed": false
   },
   "outputs": [
    {
     "name": "stdout",
     "output_type": "stream",
     "text": [
      "{'wird'}\n"
     ]
    }
   ],
   "source": [
    "print(edits0('wird'))"
   ]
  },
  {
   "cell_type": "code",
   "execution_count": 42,
   "metadata": {
    "collapsed": false
   },
   "outputs": [
    {
     "name": "stdout",
     "output_type": "stream",
     "text": [
      "{'witrd', 'wirad', 'wirds', 'wsrd', 'iwird', 'fwird', 'wdird', 'twird', 'ward', 'zird', 'wurd', 'jwird', 'wirnd', 'wirdv', 'sird', 'wirdb', 'wirdg', 'wicrd', 'wirud', 'wivrd', 'wirde', 'wixd', 'wild', 'wwird', 'wihd', 'wqrd', 'wimd', 'wirg', 'wtird', 'wircd', 'wiard', 'kwird', 'qird', 'widrd', 'wivd', 'pwird', 'wmrd', 'xird', 'wiqd', 'weird', 'wirdw', 'wiird', 'wirdu', 'wiry', 'wiud', 'wyird', 'mird', 'wirfd', 'wirxd', 'wizd', 'gird', 'wiprd', 'wirk', 'wirda', 'gwird', 'wirtd', 'fird', 'bwird', 'wsird', 'wired', 'wzird', 'hwird', 'wid', 'wiod', 'wijrd', 'wirpd', 'oird', 'wlird', 'wirw', 'wirdi', 'qwird', 'wirzd', 'wpird', 'wfrd', 'wirt', 'wxrd', 'eird', 'vird', 'wvrd', 'wzrd', 'kird', 'uird', 'wierd', 'wiryd', 'wirdl', 'rird', 'whird', 'wirdj', 'wiri', 'wirc', 'uwird', 'wirdy', 'yird', 'wiwd', 'wirdt', 'bird', 'wiyrd', 'owird', 'wirdd', 'widr', 'wqird', 'wrid', 'wicd', 'wirv', 'wihrd', 'wirf', 'wiurd', 'wirhd', 'wirs', 'hird', 'wirbd', 'wiwrd', 'jird', 'wxird', 'wirld', 'wirqd', 'wirdk', 'wgrd', 'aird', 'pird', 'wisd', 'wirz', 'wvird', 'wikrd', 'wisrd', 'wkrd', 'wirh', 'wiad', 'wirx', 'wjird', 'wcrd', 'wibrd', 'wtrd', 'wiord', 'rwird', 'wgird', 'wirod', 'wirgd', 'wird', 'wir', 'whrd', 'wwrd', 'wibd', 'widd', 'wirm', 'wirr', 'woird', 'ird', 'wiro', 'wdrd', 'wfird', 'wikd', 'lwird', 'zwird', 'wirrd', 'iwrd', 'ewird', 'cird', 'wnrd', 'wigrd', 'wirsd', 'wirdp', 'wirdq', 'wilrd', 'wira', 'wigd', 'wmird', 'wjrd', 'wirj', 'wirq', 'waird', 'awird', 'wire', 'wiru', 'swird', 'wirp', 'wirl', 'wind', 'wcird', 'wkird', 'wrd', 'wiyd', 'wirdr', 'tird', 'iird', 'wnird', 'mwird', 'nwird', 'wbird', 'wixrd', 'vwird', 'wifrd', 'wiqrd', 'ywird', 'wlrd', 'wijd', 'wipd', 'wrrd', 'wimrd', 'wirn', 'wirjd', 'wirdm', 'wuird', 'wprd', 'wyrd', 'wirb', 'wirdh', 'wirvd', 'wirdf', 'word', 'wirdo', 'wiid', 'wirdx', 'witd', 'dwird', 'wrird', 'werd', 'lird', 'wifd', 'xwird', 'wbrd', 'wirid', 'wirmd', 'wizrd', 'wirdn', 'dird', 'nird', 'wied', 'wirwd', 'wirdc', 'cwird', 'winrd', 'wirkd', 'wirdz'}\n"
     ]
    }
   ],
   "source": [
    "print(edits1('wird'))"
   ]
  },
  {
   "cell_type": "code",
   "execution_count": 43,
   "metadata": {
    "collapsed": false,
    "scrolled": true
   },
   "outputs": [
    {
     "name": "stdout",
     "output_type": "stream",
     "text": [
      "24254\n"
     ]
    }
   ],
   "source": [
    "print(len(edits2('wird')))"
   ]
  },
  {
   "cell_type": "markdown",
   "metadata": {},
   "source": [
    "Now we implement `correct`."
   ]
  },
  {
   "cell_type": "code",
   "execution_count": 44,
   "metadata": {
    "collapsed": true
   },
   "outputs": [],
   "source": [
    "from math import exp\n",
    "\n",
    "BETA = 1.0\n",
    "\n",
    "def score(err, beta = BETA):\n",
    "    return exp(-beta * err)"
   ]
  },
  {
   "cell_type": "code",
   "execution_count": 45,
   "metadata": {
    "collapsed": false
   },
   "outputs": [
    {
     "name": "stdout",
     "output_type": "stream",
     "text": [
      "beta = 0.5\tscore(1) = 0.6065306597126334\tscore(2) = 0.36787944117144233\n",
      "beta = 1.0\tscore(1) = 0.36787944117144233\tscore(2) = 0.1353352832366127\n",
      "beta = 1.5\tscore(1) = 0.22313016014842982\tscore(2) = 0.049787068367863944\n",
      "beta = 2.0\tscore(1) = 0.1353352832366127\tscore(2) = 0.01831563888873418\n"
     ]
    }
   ],
   "source": [
    "for b in [0.5, 1.0, 1.5, 2.0]:\n",
    "    print('beta = {}\\tscore(1) = {}\\tscore(2) = {}'.format(b, score(1, b), score(2, b)))"
   ]
  },
  {
   "cell_type": "code",
   "execution_count": 57,
   "metadata": {
    "collapsed": false
   },
   "outputs": [],
   "source": [
    "DEBUG = True\n",
    "def correct(word):\n",
    "    \"Find the best spelling correction for this word.\"\n",
    "    if known([word]):\n",
    "        print('Error: this function only works with words not in the dictionary.')\n",
    "        return word\n",
    "    \n",
    "    # get the candidates that are <=2 distance away from word\n",
    "    candidates = [(w, 1) for w in known(edits1(word))]\n",
    "    candidates.extend([(w, 2) for w in known(edits2(word))])\n",
    "    if len(candidates) == 0:\n",
    "        print('Warning: no candidate found for {}. I do not know how to correct it.'.format(word))\n",
    "        return word\n",
    "    # general case\n",
    "    \n",
    "    best_cand = None\n",
    "    best_prob = -1.0\n",
    "    for cand, err in candidates:\n",
    "        prob = P(cand) * score(err)\n",
    "        # debug\n",
    "        if DEBUG:\n",
    "            print('.. c = {} (err = {}) => Prob = {} <= prior = {}, likelihood = {}'.format(\n",
    "                    cand, err, prob, P(cand), score(err)))\n",
    "        \n",
    "        if prob > best_prob: \n",
    "            best_cand = cand \n",
    "            best_prob = prob\n",
    "    \n",
    "    return best_cand"
   ]
  },
  {
   "cell_type": "code",
   "execution_count": 59,
   "metadata": {
    "collapsed": false
   },
   "outputs": [
    {
     "name": "stdout",
     "output_type": "stream",
     "text": [
      ".. c = wordy (err = 2) => Prob = 1.2244378892015426e-07 <= prior = 9.047440252966429e-07, likelihood = 0.1353352832366127\n",
      ".. c = windy (err = 2) => Prob = 2.4488757784030853e-07 <= prior = 1.8094880505932859e-06, likelihood = 0.1353352832366127\n",
      ".. c = wired (err = 2) => Prob = 4.897751556806171e-07 <= prior = 3.6189761011865717e-06, likelihood = 0.1353352832366127\n",
      ".. c = wiry (err = 2) => Prob = 1.2244378892015426e-07 <= prior = 9.047440252966429e-07, likelihood = 0.1353352832366127\n"
     ]
    },
    {
     "data": {
      "text/plain": [
       "'wired'"
      ]
     },
     "execution_count": 59,
     "metadata": {},
     "output_type": "execute_result"
    }
   ],
   "source": [
    "correct('wirxdy')"
   ]
  },
  {
   "cell_type": "markdown",
   "metadata": {},
   "source": [
    "## Points to Ponder\n",
    "\n",
    "Consider the following questions: \n",
    "\n",
    "* Consider two candidates with the same edit distance. Which candidate will be selected by the model? \n",
    "* What's the **essential** role of `score(err)` function in this model? (Hint: what's the effect if I can the base from $e$ to some other constant?)\n",
    "* In the textbook/slides, a more detailed error model (named $M_1$) is used. Understand the advantage of $M_1$ against the simple error model (named $M_0$) used in this implementation. How many parameters are there for $M_1$ assuming the alphabet size is $|\\Sigma|$? \n",
    "* Can you think of another error model considering the fact that the prefix and suffix of a word is less likely to have spelling errors? \n"
   ]
  },
  {
   "cell_type": "markdown",
   "metadata": {},
   "source": [
    "Some more tests."
   ]
  },
  {
   "cell_type": "code",
   "execution_count": 62,
   "metadata": {
    "collapsed": false,
    "scrolled": true
   },
   "outputs": [
    {
     "name": "stdout",
     "output_type": "stream",
     "text": [
      ".. c = bog (err = 1) => Prob = 6.656734528586606e-07 <= prior = 1.8094880505932859e-06, likelihood = 0.36787944117144233\n",
      ".. c = gong (err = 1) => Prob = 3.328367264293303e-07 <= prior = 9.047440252966429e-07, likelihood = 0.36787944117144233\n",
      ".. c = fog (err = 1) => Prob = 7.655244707874597e-06 <= prior = 2.0809112581822788e-05, likelihood = 0.36787944117144233\n",
      ".. c = agog (err = 1) => Prob = 3.328367264293303e-07 <= prior = 9.047440252966429e-07, likelihood = 0.36787944117144233\n",
      ".. c = ogg (err = 1) => Prob = 6.9895712550159365e-06 <= prior = 1.8999624531229502e-05, likelihood = 0.36787944117144233\n",
      ".. c = gag (err = 1) => Prob = 6.656734528586606e-07 <= prior = 1.8094880505932859e-06, likelihood = 0.36787944117144233\n",
      ".. c = god (err = 1) => Prob = 0.00012081973169384689 <= prior = 0.0003284220811826814, likelihood = 0.36787944117144233\n",
      ".. c = dog (err = 1) => Prob = 2.1301550491477138e-05 <= prior = 5.790361761898515e-05, likelihood = 0.36787944117144233\n",
      ".. c = log (err = 1) => Prob = 6.656734528586605e-06 <= prior = 1.8094880505932858e-05, likelihood = 0.36787944117144233\n",
      ".. c = gig (err = 1) => Prob = 9.98510179287991e-07 <= prior = 2.714232075889929e-06, likelihood = 0.36787944117144233\n",
      ".. c = go (err = 1) => Prob = 0.0003012172374185439 <= prior = 0.0008187933428934618, likelihood = 0.36787944117144233\n",
      ".. c = got (err = 1) => Prob = 9.319428340021248e-05 <= prior = 0.00025332832708306, likelihood = 0.36787944117144233\n",
      ".. c = jot (err = 2) => Prob = 2.4488757784030853e-07 <= prior = 1.8094880505932859e-06, likelihood = 0.1353352832366127\n",
      ".. c = dig (err = 2) => Prob = 6.122189446007713e-07 <= prior = 4.5237201264832144e-06, likelihood = 0.1353352832366127\n",
      ".. c = fog (err = 2) => Prob = 2.816207145163548e-06 <= prior = 2.0809112581822788e-05, likelihood = 0.1353352832366127\n",
      ".. c = on (err = 2) => Prob = 0.0008133940897965847 <= prior = 0.006010214560045599, likelihood = 0.1353352832366127\n",
      ".. c = rag (err = 2) => Prob = 7.346627335209256e-07 <= prior = 5.428464151779858e-06, likelihood = 0.1353352832366127\n",
      ".. c = frog (err = 2) => Prob = 3.673313667604628e-07 <= prior = 2.714232075889929e-06, likelihood = 0.1353352832366127\n",
      ".. c = cot (err = 2) => Prob = 1.4693254670418513e-06 <= prior = 1.0856928303559716e-05, likelihood = 0.1353352832366127\n",
      ".. c = fo (err = 2) => Prob = 4.897751556806171e-07 <= prior = 3.6189761011865717e-06, likelihood = 0.1353352832366127\n",
      ".. c = row (err = 2) => Prob = 3.183538511924011e-06 <= prior = 2.3523344657712718e-05, likelihood = 0.1353352832366127\n",
      ".. c = bob (err = 2) => Prob = 3.673313667604628e-07 <= prior = 2.714232075889929e-06, likelihood = 0.1353352832366127\n",
      ".. c = or (err = 2) => Prob = 0.0006553191583006656 <= prior = 0.004842190023387633, likelihood = 0.1353352832366127\n",
      ".. c = gong (err = 2) => Prob = 1.2244378892015426e-07 <= prior = 9.047440252966429e-07, likelihood = 0.1353352832366127\n",
      ".. c = agog (err = 2) => Prob = 1.2244378892015426e-07 <= prior = 9.047440252966429e-07, likelihood = 0.1353352832366127\n",
      ".. c = wig (err = 2) => Prob = 6.122189446007713e-07 <= prior = 4.5237201264832144e-06, likelihood = 0.1353352832366127\n",
      ".. c = bug (err = 2) => Prob = 1.2244378892015426e-07 <= prior = 9.047440252966429e-07, likelihood = 0.1353352832366127\n",
      ".. c = pop (err = 2) => Prob = 3.673313667604628e-07 <= prior = 2.714232075889929e-06, likelihood = 0.1353352832366127\n",
      ".. c = loi (err = 2) => Prob = 1.2244378892015426e-07 <= prior = 9.047440252966429e-07, likelihood = 0.1353352832366127\n",
      ".. c = logs (err = 2) => Prob = 9.795503113612341e-07 <= prior = 7.2379522023731435e-06, likelihood = 0.1353352832366127\n",
      ".. c = go (err = 2) => Prob = 0.00011081162897273961 <= prior = 0.0008187933428934618, likelihood = 0.1353352832366127\n",
      ".. c = leg (err = 2) => Prob = 1.7754349393422367e-05 <= prior = 0.00013118788366801322, likelihood = 0.1353352832366127\n",
      ".. c = po (err = 2) => Prob = 3.673313667604628e-07 <= prior = 2.714232075889929e-06, likelihood = 0.1353352832366127\n",
      ".. c = boy (err = 2) => Prob = 2.069300032750607e-05 <= prior = 0.00015290174027513266, likelihood = 0.1353352832366127\n",
      ".. c = foo (err = 2) => Prob = 1.2244378892015426e-07 <= prior = 9.047440252966429e-07, likelihood = 0.1353352832366127\n",
      ".. c = job (err = 2) => Prob = 1.3468816781216968e-06 <= prior = 9.952184278263072e-06, likelihood = 0.1353352832366127\n",
      ".. c = sg (err = 2) => Prob = 1.2244378892015426e-07 <= prior = 9.047440252966429e-07, likelihood = 0.1353352832366127\n",
      ".. c = gouge (err = 2) => Prob = 7.346627335209256e-07 <= prior = 5.428464151779858e-06, likelihood = 0.1353352832366127\n",
      ".. c = vot (err = 2) => Prob = 2.4488757784030853e-07 <= prior = 1.8094880505932859e-06, likelihood = 0.1353352832366127\n",
      ".. c = cod (err = 2) => Prob = 7.346627335209256e-07 <= prior = 5.428464151779858e-06, likelihood = 0.1353352832366127\n",
      ".. c = for (err = 2) => Prob = 0.0008498823388947907 <= prior = 0.006279828279583999, likelihood = 0.1353352832366127\n",
      ".. c = vol (err = 2) => Prob = 9.917946902532495e-06 <= prior = 7.328426604902808e-05, likelihood = 0.1353352832366127\n",
      ".. c = tug (err = 2) => Prob = 4.897751556806171e-07 <= prior = 3.6189761011865717e-06, likelihood = 0.1353352832366127\n",
      ".. c = gold (err = 2) => Prob = 1.530547361501928e-05 <= prior = 0.00011309300316208036, likelihood = 0.1353352832366127\n",
      ".. c = song (err = 2) => Prob = 4.652863978965862e-06 <= prior = 3.4380272961272434e-05, likelihood = 0.1353352832366127\n",
      ".. c = nag (err = 2) => Prob = 2.4488757784030853e-07 <= prior = 1.8094880505932859e-06, likelihood = 0.1353352832366127\n",
      ".. c = sov (err = 2) => Prob = 2.4488757784030853e-07 <= prior = 1.8094880505932859e-06, likelihood = 0.1353352832366127\n",
      ".. c = gr (err = 2) => Prob = 4.897751556806171e-07 <= prior = 3.6189761011865717e-06, likelihood = 0.1353352832366127\n",
      ".. c = big (err = 2) => Prob = 1.004039069145265e-05 <= prior = 7.418901007432472e-05, likelihood = 0.1353352832366127\n",
      ".. c = oh (err = 2) => Prob = 5.0201953457263245e-05 <= prior = 0.0003709450503716236, likelihood = 0.1353352832366127\n",
      ".. c = too (err = 2) => Prob = 6.709919632824454e-05 <= prior = 0.0004957997258625604, likelihood = 0.1353352832366127\n",
      ".. c = gone (err = 2) => Prob = 2.9386509340837024e-05 <= prior = 0.0002171385660711943, likelihood = 0.1353352832366127\n",
      ".. c = gen (err = 2) => Prob = 1.2244378892015426e-07 <= prior = 9.047440252966429e-07, likelihood = 0.1353352832366127\n",
      ".. c = non (err = 2) => Prob = 5.020195345726325e-06 <= prior = 3.709450503716236e-05, likelihood = 0.1353352832366127\n",
      ".. c = goat (err = 2) => Prob = 3.673313667604628e-07 <= prior = 2.714232075889929e-06, likelihood = 0.1353352832366127\n",
      ".. c = you (err = 2) => Prob = 0.0006883789813091072 <= prior = 0.005086470910217727, likelihood = 0.1353352832366127\n",
      ".. c = beg (err = 2) => Prob = 6.856852179528639e-06 <= prior = 5.0665665416612006e-05, likelihood = 0.1353352832366127\n",
      ".. c = gay (err = 2) => Prob = 4.285532612205399e-06 <= prior = 3.16660408853825e-05, likelihood = 0.1353352832366127\n",
      ".. c = won (err = 2) => Prob = 2.4611201572951007e-05 <= prior = 0.00018185354908462523, likelihood = 0.1353352832366127\n",
      ".. c = cow (err = 2) => Prob = 8.571065224410799e-07 <= prior = 6.333208177076501e-06, likelihood = 0.1353352832366127\n",
      ".. c = ga (err = 2) => Prob = 1.2244378892015426e-07 <= prior = 9.047440252966429e-07, likelihood = 0.1353352832366127\n",
      ".. c = gang (err = 2) => Prob = 1.2244378892015426e-06 <= prior = 9.047440252966429e-06, likelihood = 0.1353352832366127\n",
      ".. c = dug (err = 2) => Prob = 1.836656833802314e-06 <= prior = 1.3571160379449644e-05, likelihood = 0.1353352832366127\n",
      ".. c = nos (err = 2) => Prob = 1.2244378892015426e-07 <= prior = 9.047440252966429e-07, likelihood = 0.1353352832366127\n",
      ".. c = tag (err = 2) => Prob = 2.4488757784030853e-07 <= prior = 1.8094880505932859e-06, likelihood = 0.1353352832366127\n",
      ".. c = sob (err = 2) => Prob = 2.326431989482931e-06 <= prior = 1.7190136480636217e-05, likelihood = 0.1353352832366127\n",
      ".. c = lot (err = 2) => Prob = 4.285532612205399e-06 <= prior = 3.16660408853825e-05, likelihood = 0.1353352832366127\n",
      ".. c = ion (err = 2) => Prob = 1.2244378892015426e-07 <= prior = 9.047440252966429e-07, likelihood = 0.1353352832366127\n",
      ".. c = gun (err = 2) => Prob = 7.713958701969718e-06 <= prior = 5.69988735936885e-05, likelihood = 0.1353352832366127\n",
      ".. c = gods (err = 2) => Prob = 3.673313667604628e-07 <= prior = 2.714232075889929e-06, likelihood = 0.1353352832366127\n",
      ".. c = toy (err = 2) => Prob = 8.571065224410799e-07 <= prior = 6.333208177076501e-06, likelihood = 0.1353352832366127\n",
      ".. c = rug (err = 2) => Prob = 1.2244378892015426e-06 <= prior = 9.047440252966429e-06, likelihood = 0.1353352832366127\n",
      ".. c = cob (err = 2) => Prob = 1.2244378892015426e-07 <= prior = 9.047440252966429e-07, likelihood = 0.1353352832366127\n",
      ".. c = fogs (err = 2) => Prob = 1.2244378892015426e-07 <= prior = 9.047440252966429e-07, likelihood = 0.1353352832366127\n",
      ".. c = com (err = 2) => Prob = 4.897751556806171e-07 <= prior = 3.6189761011865717e-06, likelihood = 0.1353352832366127\n",
      ".. c = keg (err = 2) => Prob = 2.4488757784030853e-07 <= prior = 1.8094880505932859e-06, likelihood = 0.1353352832366127\n",
      ".. c = gros (err = 2) => Prob = 1.2244378892015426e-07 <= prior = 9.047440252966429e-07, likelihood = 0.1353352832366127\n",
      ".. c = gap (err = 2) => Prob = 5.7548580792472504e-06 <= prior = 4.252296918894222e-05, likelihood = 0.1353352832366127\n",
      ".. c = nor (err = 2) => Prob = 3.428426089764319e-05 <= prior = 0.00025332832708306, likelihood = 0.1353352832366127\n",
      ".. c = gaol (err = 2) => Prob = 3.673313667604628e-07 <= prior = 2.714232075889929e-06, likelihood = 0.1353352832366127\n",
      ".. c = mon (err = 2) => Prob = 6.61196460168833e-06 <= prior = 4.885617736601872e-05, likelihood = 0.1353352832366127\n",
      ".. c = ong (err = 2) => Prob = 1.2244378892015426e-07 <= prior = 9.047440252966429e-07, likelihood = 0.1353352832366127\n",
      ".. c = los (err = 2) => Prob = 3.673313667604628e-07 <= prior = 2.714232075889929e-06, likelihood = 0.1353352832366127\n",
      ".. c = wo (err = 2) => Prob = 1.2244378892015426e-07 <= prior = 9.047440252966429e-07, likelihood = 0.1353352832366127\n",
      ".. c = rod (err = 2) => Prob = 1.2244378892015426e-06 <= prior = 9.047440252966429e-06, likelihood = 0.1353352832366127\n",
      ".. c = nod (err = 2) => Prob = 9.795503113612341e-07 <= prior = 7.2379522023731435e-06, likelihood = 0.1353352832366127\n",
      ".. c = ox (err = 2) => Prob = 2.4488757784030853e-07 <= prior = 1.8094880505932859e-06, likelihood = 0.1353352832366127\n",
      ".. c = guy (err = 2) => Prob = 2.4488757784030853e-07 <= prior = 1.8094880505932859e-06, likelihood = 0.1353352832366127\n",
      ".. c = ok (err = 2) => Prob = 1.2244378892015426e-07 <= prior = 9.047440252966429e-07, likelihood = 0.1353352832366127\n",
      ".. c = low (err = 2) => Prob = 1.6040136348540208e-05 <= prior = 0.00011852146731386023, likelihood = 0.1353352832366127\n",
      ".. c = ton (err = 2) => Prob = 8.571065224410799e-07 <= prior = 6.333208177076501e-06, likelihood = 0.1353352832366127\n",
      ".. c = golf (err = 2) => Prob = 1.2244378892015426e-07 <= prior = 9.047440252966429e-07, likelihood = 0.1353352832366127\n",
      ".. c = con (err = 2) => Prob = 1.2244378892015426e-07 <= prior = 9.047440252966429e-07, likelihood = 0.1353352832366127\n",
      ".. c = hug (err = 2) => Prob = 1.2244378892015426e-07 <= prior = 9.047440252966429e-07, likelihood = 0.1353352832366127\n",
      ".. c = oe (err = 2) => Prob = 2.4488757784030853e-07 <= prior = 1.8094880505932859e-06, likelihood = 0.1353352832366127\n",
      ".. c = foh (err = 2) => Prob = 1.2244378892015426e-07 <= prior = 9.047440252966429e-07, likelihood = 0.1353352832366127\n",
      ".. c = cogs (err = 2) => Prob = 1.2244378892015426e-07 <= prior = 9.047440252966429e-07, likelihood = 0.1353352832366127\n",
      ".. c = how (err = 2) => Prob = 0.00016101358243000285 <= prior = 0.0011897383932650855, likelihood = 0.1353352832366127\n",
      ".. c = vow (err = 2) => Prob = 6.122189446007713e-07 <= prior = 4.5237201264832144e-06, likelihood = 0.1353352832366127\n",
      ".. c = doe (err = 2) => Prob = 1.2244378892015426e-07 <= prior = 9.047440252966429e-07, likelihood = 0.1353352832366127\n",
      ".. c = hop (err = 2) => Prob = 1.2244378892015426e-07 <= prior = 9.047440252966429e-07, likelihood = 0.1353352832366127\n",
      ".. c = mug (err = 2) => Prob = 2.4488757784030853e-07 <= prior = 1.8094880505932859e-06, likelihood = 0.1353352832366127\n",
      ".. c = wag (err = 2) => Prob = 6.122189446007713e-07 <= prior = 4.5237201264832144e-06, likelihood = 0.1353352832366127\n",
      ".. c = mot (err = 2) => Prob = 8.571065224410799e-07 <= prior = 6.333208177076501e-06, likelihood = 0.1353352832366127\n",
      ".. c = not (err = 2) => Prob = 0.0008113125453849422 <= prior = 0.005994833911615556, likelihood = 0.1353352832366127\n",
      ".. c = flog (err = 2) => Prob = 2.4488757784030853e-07 <= prior = 1.8094880505932859e-06, likelihood = 0.1353352832366127\n",
      ".. c = no (err = 2) => Prob = 0.00028749801638452223 <= prior = 0.002124338971396518, likelihood = 0.1353352832366127\n",
      ".. c = meg (err = 2) => Prob = 1.2244378892015426e-07 <= prior = 9.047440252966429e-07, likelihood = 0.1353352832366127\n",
      ".. c = to (err = 2) => Prob = 0.0035222180320771575 <= prior = 0.02602586663168323, likelihood = 0.1353352832366127\n",
      ".. c = toi (err = 2) => Prob = 2.4488757784030853e-07 <= prior = 1.8094880505932859e-06, likelihood = 0.1353352832366127\n",
      ".. c = von (err = 2) => Prob = 1.3468816781216968e-06 <= prior = 9.952184278263072e-06, likelihood = 0.1353352832366127\n",
      ".. c = gem (err = 2) => Prob = 3.673313667604628e-07 <= prior = 2.714232075889929e-06, likelihood = 0.1353352832366127\n",
      ".. c = bow (err = 2) => Prob = 5.2650829235666335e-06 <= prior = 3.890399308775565e-05, likelihood = 0.1353352832366127\n",
      ".. c = ou (err = 2) => Prob = 3.673313667604628e-07 <= prior = 2.714232075889929e-06, likelihood = 0.1353352832366127\n",
      ".. c = don (err = 2) => Prob = 7.113984136260963e-05 <= prior = 0.0005256562786973496, likelihood = 0.1353352832366127\n",
      ".. c = ego (err = 2) => Prob = 1.2244378892015426e-07 <= prior = 9.047440252966429e-07, likelihood = 0.1353352832366127\n",
      ".. c = gig (err = 2) => Prob = 3.673313667604628e-07 <= prior = 2.714232075889929e-06, likelihood = 0.1353352832366127\n",
      ".. c = rob (err = 2) => Prob = 6.122189446007713e-07 <= prior = 4.5237201264832144e-06, likelihood = 0.1353352832366127\n",
      ".. c = gorge (err = 2) => Prob = 2.4488757784030853e-07 <= prior = 1.8094880505932859e-06, likelihood = 0.1353352832366127\n",
      ".. c = of (err = 2) => Prob = 0.0049008126515291735 <= prior = 0.03621237961249813, likelihood = 0.1353352832366127\n",
      ".. c = roe (err = 2) => Prob = 1.2244378892015426e-07 <= prior = 9.047440252966429e-07, likelihood = 0.1353352832366127\n",
      ".. c = vo (err = 2) => Prob = 1.2244378892015426e-07 <= prior = 9.047440252966429e-07, likelihood = 0.1353352832366127\n",
      ".. c = gage (err = 2) => Prob = 4.897751556806171e-07 <= prior = 3.6189761011865717e-06, likelihood = 0.1353352832366127\n",
      ".. c = cox (err = 2) => Prob = 2.4488757784030853e-07 <= prior = 1.8094880505932859e-06, likelihood = 0.1353352832366127\n",
      ".. c = pox (err = 2) => Prob = 1.2244378892015426e-07 <= prior = 9.047440252966429e-07, likelihood = 0.1353352832366127\n",
      ".. c = egg (err = 2) => Prob = 1.7142130448821597e-06 <= prior = 1.2666416354153001e-05, likelihood = 0.1353352832366127\n",
      ".. c = col (err = 2) => Prob = 1.2244378892015426e-07 <= prior = 9.047440252966429e-07, likelihood = 0.1353352832366127\n",
      ".. c = cor (err = 2) => Prob = 1.2244378892015426e-07 <= prior = 9.047440252966429e-07, likelihood = 0.1353352832366127\n",
      ".. c = mo (err = 2) => Prob = 1.2244378892015426e-07 <= prior = 9.047440252966429e-07, likelihood = 0.1353352832366127\n",
      ".. c = org (err = 2) => Prob = 3.183538511924011e-06 <= prior = 2.3523344657712718e-05, likelihood = 0.1353352832366127\n",
      ".. c = toe (err = 2) => Prob = 4.407976401125553e-06 <= prior = 3.2570784910679145e-05, likelihood = 0.1353352832366127\n",
      ".. c = dot (err = 2) => Prob = 2.4488757784030853e-07 <= prior = 1.8094880505932859e-06, likelihood = 0.1353352832366127\n",
      ".. c = pot (err = 2) => Prob = 9.795503113612341e-07 <= prior = 7.2379522023731435e-06, likelihood = 0.1353352832366127\n",
      ".. c = git (err = 2) => Prob = 1.2244378892015426e-07 <= prior = 9.047440252966429e-07, likelihood = 0.1353352832366127\n",
      ".. c = hoy (err = 2) => Prob = 1.2244378892015426e-07 <= prior = 9.047440252966429e-07, likelihood = 0.1353352832366127\n",
      ".. c = co (err = 2) => Prob = 3.673313667604628e-06 <= prior = 2.714232075889929e-05, likelihood = 0.1353352832366127\n",
      ".. c = good (err = 2) => Prob = 9.109817895659477e-05 <= prior = 0.0006731295548207024, likelihood = 0.1353352832366127\n",
      ".. c = lo (err = 2) => Prob = 1.2244378892015426e-07 <= prior = 9.047440252966429e-07, likelihood = 0.1353352832366127\n",
      ".. c = cos (err = 2) => Prob = 1.2244378892015426e-07 <= prior = 9.047440252966429e-07, likelihood = 0.1353352832366127\n",
      ".. c = oo (err = 2) => Prob = 1.1019941002813883e-06 <= prior = 8.142696227669786e-06, likelihood = 0.1353352832366127\n",
      ".. c = do (err = 2) => Prob = 0.00018403301474699185 <= prior = 0.0013598302700208544, likelihood = 0.1353352832366127\n",
      ".. c = pon (err = 2) => Prob = 3.673313667604628e-07 <= prior = 2.714232075889929e-06, likelihood = 0.1353352832366127\n",
      ".. c = hon (err = 2) => Prob = 2.4488757784030853e-07 <= prior = 1.8094880505932859e-06, likelihood = 0.1353352832366127\n",
      ".. c = tow (err = 2) => Prob = 1.2244378892015426e-07 <= prior = 9.047440252966429e-07, likelihood = 0.1353352832366127\n",
      ".. c = tom (err = 2) => Prob = 4.897751556806171e-07 <= prior = 3.6189761011865717e-06, likelihood = 0.1353352832366127\n",
      ".. c = gal (err = 2) => Prob = 1.2244378892015426e-07 <= prior = 9.047440252966429e-07, likelihood = 0.1353352832366127\n",
      ".. c = bag (err = 2) => Prob = 2.5713195673232394e-06 <= prior = 1.8999624531229502e-05, likelihood = 0.1353352832366127\n",
      ".. c = jug (err = 2) => Prob = 7.346627335209256e-07 <= prior = 5.428464151779858e-06, likelihood = 0.1353352832366127\n",
      ".. c = yon (err = 2) => Prob = 1.2244378892015426e-07 <= prior = 9.047440252966429e-07, likelihood = 0.1353352832366127\n",
      ".. c = roi (err = 2) => Prob = 1.1019941002813883e-06 <= prior = 8.142696227669786e-06, likelihood = 0.1353352832366127\n",
      ".. c = om (err = 2) => Prob = 1.2244378892015426e-07 <= prior = 9.047440252966429e-07, likelihood = 0.1353352832366127\n",
      ".. c = goot (err = 2) => Prob = 3.673313667604628e-07 <= prior = 2.714232075889929e-06, likelihood = 0.1353352832366127\n",
      ".. c = mop (err = 2) => Prob = 6.122189446007713e-07 <= prior = 4.5237201264832144e-06, likelihood = 0.1353352832366127\n",
      ".. c = top (err = 2) => Prob = 5.142639134646479e-06 <= prior = 3.7999249062459004e-05, likelihood = 0.1353352832366127\n",
      ".. c = o (err = 2) => Prob = 3.1468053752479645e-05 <= prior = 0.00023251921450123723, likelihood = 0.1353352832366127\n",
      ".. c = hogs (err = 2) => Prob = 2.4488757784030853e-07 <= prior = 1.8094880505932859e-06, likelihood = 0.1353352832366127\n",
      ".. c = glow (err = 2) => Prob = 2.6937633562433936e-06 <= prior = 1.9904368556526143e-05, likelihood = 0.1353352832366127\n",
      ".. c = hot (err = 2) => Prob = 1.4570810881498357e-05 <= prior = 0.00010766453901030051, likelihood = 0.1353352832366127\n",
      ".. c = g (err = 2) => Prob = 6.856852179528639e-06 <= prior = 5.0665665416612006e-05, likelihood = 0.1353352832366127\n",
      ".. c = vos (err = 2) => Prob = 1.2244378892015426e-07 <= prior = 9.047440252966429e-07, likelihood = 0.1353352832366127\n",
      ".. c = fox (err = 2) => Prob = 2.816207145163548e-06 <= prior = 2.0809112581822788e-05, likelihood = 0.1353352832366127\n",
      ".. c = grow (err = 2) => Prob = 9.060840380091416e-06 <= prior = 6.695105787195158e-05, likelihood = 0.1353352832366127\n",
      ".. c = rot (err = 2) => Prob = 1.2244378892015426e-07 <= prior = 9.047440252966429e-07, likelihood = 0.1353352832366127\n",
      ".. c = gum (err = 2) => Prob = 7.346627335209256e-07 <= prior = 5.428464151779858e-06, likelihood = 0.1353352832366127\n",
      ".. c = box (err = 2) => Prob = 9.183284169011569e-06 <= prior = 6.785580189724822e-05, likelihood = 0.1353352832366127\n",
      ".. c = son (err = 2) => Prob = 4.1998219599612915e-05 <= prior = 0.00031032720067674855, likelihood = 0.1353352832366127\n",
      ".. c = gut (err = 2) => Prob = 1.7142130448821597e-06 <= prior = 1.2666416354153001e-05, likelihood = 0.1353352832366127\n",
      ".. c = get (err = 2) => Prob = 5.730369321463219e-05 <= prior = 0.0004234202038388289, likelihood = 0.1353352832366127\n",
      ".. c = nov (err = 2) => Prob = 1.2244378892015426e-07 <= prior = 9.047440252966429e-07, likelihood = 0.1353352832366127\n",
      ".. c = gown (err = 2) => Prob = 6.489520812768176e-06 <= prior = 4.795143334072208e-05, likelihood = 0.1353352832366127\n",
      ".. c = aug (err = 2) => Prob = 1.2244378892015426e-07 <= prior = 9.047440252966429e-07, likelihood = 0.1353352832366127\n",
      ".. c = cong (err = 2) => Prob = 1.2244378892015426e-07 <= prior = 9.047440252966429e-07, likelihood = 0.1353352832366127\n",
      ".. c = pig (err = 2) => Prob = 1.1019941002813883e-06 <= prior = 8.142696227669786e-06, likelihood = 0.1353352832366127\n",
      ".. c = sow (err = 2) => Prob = 4.897751556806171e-07 <= prior = 3.6189761011865717e-06, likelihood = 0.1353352832366127\n",
      ".. c = ago (err = 2) => Prob = 1.322392920337666e-05 <= prior = 9.771235473203743e-05, likelihood = 0.1353352832366127\n",
      ".. c = gee (err = 2) => Prob = 1.2244378892015426e-07 <= prior = 9.047440252966429e-07, likelihood = 0.1353352832366127\n",
      ".. c = log (err = 2) => Prob = 2.448875778403085e-06 <= prior = 1.8094880505932858e-05, likelihood = 0.1353352832366127\n",
      ".. c = oz (err = 2) => Prob = 1.2244378892015426e-07 <= prior = 9.047440252966429e-07, likelihood = 0.1353352832366127\n",
      ".. c = bog (err = 2) => Prob = 2.4488757784030853e-07 <= prior = 1.8094880505932859e-06, likelihood = 0.1353352832366127\n",
      ".. c = gosp (err = 2) => Prob = 1.2244378892015426e-07 <= prior = 9.047440252966429e-07, likelihood = 0.1353352832366127\n",
      ".. c = joe (err = 2) => Prob = 1.2244378892015426e-07 <= prior = 9.047440252966429e-07, likelihood = 0.1353352832366127\n",
      ".. c = ogg (err = 2) => Prob = 2.5713195673232394e-06 <= prior = 1.8999624531229502e-05, likelihood = 0.1353352832366127\n",
      ".. c = now (err = 2) => Prob = 0.0002077871097975018 <= prior = 0.0015353506109284031, likelihood = 0.1353352832366127\n",
      ".. c = os (err = 2) => Prob = 3.673313667604628e-07 <= prior = 2.714232075889929e-06, likelihood = 0.1353352832366127\n",
      ".. c = gott (err = 2) => Prob = 1.2244378892015426e-07 <= prior = 9.047440252966429e-07, likelihood = 0.1353352832366127\n",
      ".. c = rou (err = 2) => Prob = 2.4488757784030853e-07 <= prior = 1.8094880505932859e-06, likelihood = 0.1353352832366127\n",
      ".. c = god (err = 2) => Prob = 4.4447095378015995e-05 <= prior = 0.0003284220811826814, likelihood = 0.1353352832366127\n",
      ".. c = ho (err = 2) => Prob = 1.1019941002813883e-06 <= prior = 8.142696227669786e-06, likelihood = 0.1353352832366127\n",
      ".. c = sot (err = 2) => Prob = 1.2244378892015426e-07 <= prior = 9.047440252966429e-07, likelihood = 0.1353352832366127\n",
      ".. c = ooh (err = 2) => Prob = 1.3468816781216968e-06 <= prior = 9.952184278263072e-06, likelihood = 0.1353352832366127\n",
      ".. c = got (err = 2) => Prob = 3.428426089764319e-05 <= prior = 0.00025332832708306, likelihood = 0.1353352832366127\n",
      ".. c = foi (err = 2) => Prob = 3.673313667604628e-07 <= prior = 2.714232075889929e-06, likelihood = 0.1353352832366127\n",
      ".. c = gas (err = 2) => Prob = 1.9591006227224682e-06 <= prior = 1.4475904404746287e-05, likelihood = 0.1353352832366127\n",
      ".. c = gdp (err = 2) => Prob = 1.2244378892015426e-07 <= prior = 9.047440252966429e-07, likelihood = 0.1353352832366127\n",
      ".. c = pg (err = 2) => Prob = 7.346627335209256e-07 <= prior = 5.428464151779858e-06, likelihood = 0.1353352832366127\n",
      ".. c = long (err = 2) => Prob = 0.00012134179481987287 <= prior = 0.0008966013290689732, likelihood = 0.1353352832366127\n",
      ".. c = gory (err = 2) => Prob = 3.673313667604628e-07 <= prior = 2.714232075889929e-06, likelihood = 0.1353352832366127\n",
      ".. c = sol (err = 2) => Prob = 1.2244378892015426e-07 <= prior = 9.047440252966429e-07, likelihood = 0.1353352832366127\n",
      ".. c = joy (err = 2) => Prob = 1.089749721389373e-05 <= prior = 8.052221825140122e-05, likelihood = 0.1353352832366127\n",
      ".. c = gout (err = 2) => Prob = 1.4693254670418513e-06 <= prior = 1.0856928303559716e-05, likelihood = 0.1353352832366127\n",
      ".. c = roy (err = 2) => Prob = 1.2244378892015426e-07 <= prior = 9.047440252966429e-07, likelihood = 0.1353352832366127\n",
      ".. c = grs (err = 2) => Prob = 2.4488757784030853e-07 <= prior = 1.8094880505932859e-06, likelihood = 0.1353352832366127\n",
      ".. c = goes (err = 2) => Prob = 7.346627335209256e-06 <= prior = 5.428464151779858e-05, likelihood = 0.1353352832366127\n",
      ".. c = nom (err = 2) => Prob = 2.4488757784030853e-07 <= prior = 1.8094880505932859e-06, likelihood = 0.1353352832366127\n",
      ".. c = eg (err = 2) => Prob = 1.2244378892015426e-07 <= prior = 9.047440252966429e-07, likelihood = 0.1353352832366127\n",
      ".. c = going (err = 2) => Prob = 4.6038864633978003e-05 <= prior = 0.00034018375351153776, likelihood = 0.1353352832366127\n",
      ".. c = dog (err = 2) => Prob = 7.836402490889873e-06 <= prior = 5.790361761898515e-05, likelihood = 0.1353352832366127\n",
      ".. c = boa (err = 2) => Prob = 1.2244378892015426e-07 <= prior = 9.047440252966429e-07, likelihood = 0.1353352832366127\n",
      ".. c = so (err = 2) => Prob = 0.0003694129111721054 <= prior = 0.002729612724319972, likelihood = 0.1353352832366127\n",
      ".. c = goal (err = 2) => Prob = 3.4284260897643195e-06 <= prior = 2.5332832708306003e-05, likelihood = 0.1353352832366127\n",
      ".. c = mob (err = 2) => Prob = 3.183538511924011e-06 <= prior = 2.3523344657712718e-05, likelihood = 0.1353352832366127\n",
      ".. c = gin (err = 2) => Prob = 6.122189446007713e-07 <= prior = 4.5237201264832144e-06, likelihood = 0.1353352832366127\n",
      ".. c = foe (err = 2) => Prob = 2.5713195673232394e-06 <= prior = 1.8999624531229502e-05, likelihood = 0.1353352832366127\n",
      ".. c = dogs (err = 2) => Prob = 4.652863978965862e-06 <= prior = 3.4380272961272434e-05, likelihood = 0.1353352832366127\n",
      ".. c = gag (err = 2) => Prob = 2.4488757784030853e-07 <= prior = 1.8094880505932859e-06, likelihood = 0.1353352832366127\n",
      ".. c = op (err = 2) => Prob = 9.795503113612341e-07 <= prior = 7.2379522023731435e-06, likelihood = 0.1353352832366127\n",
      ".. c = peg (err = 2) => Prob = 4.897751556806171e-07 <= prior = 3.6189761011865717e-06, likelihood = 0.1353352832366127\n",
      ".. c = cop (err = 2) => Prob = 1.2244378892015426e-07 <= prior = 9.047440252966429e-07, likelihood = 0.1353352832366127\n",
      ".. c = fig (err = 2) => Prob = 3.918201245444936e-05 <= prior = 0.0002895180880949257, likelihood = 0.1353352832366127\n",
      ".. c = woe (err = 2) => Prob = 1.2244378892015426e-07 <= prior = 9.047440252966429e-07, likelihood = 0.1353352832366127\n",
      ".. c = ing (err = 2) => Prob = 3.673313667604628e-07 <= prior = 2.714232075889929e-06, likelihood = 0.1353352832366127\n",
      ".. c = grm (err = 2) => Prob = 8.571065224410799e-07 <= prior = 6.333208177076501e-06, likelihood = 0.1353352832366127\n"
     ]
    },
    {
     "data": {
      "text/plain": [
       "'of'"
      ]
     },
     "execution_count": 62,
     "metadata": {},
     "output_type": "execute_result"
    }
   ],
   "source": [
    "correct('gog')"
   ]
  },
  {
   "cell_type": "markdown",
   "metadata": {},
   "source": [
    "Correcting \"gog\" to \"of\" is probably not correct. Can we change the base of the $M_0$ to prevent it from doing so? Can you think of a way to find the constant given a set of \"training examples\"? "
   ]
  },
  {
   "cell_type": "markdown",
   "metadata": {},
   "source": [
    "### Utilities"
   ]
  },
  {
   "cell_type": "code",
   "execution_count": 86,
   "metadata": {
    "collapsed": false,
    "scrolled": true
   },
   "outputs": [
    {
     "name": "stdout",
     "output_type": "stream",
     "text": [
      "['aah', 'abacus', 'abasement', 'abbot', 'abbots', 'abbreviations', 'abc', 'abdicate', 'abdicated', 'abductors', 'abel', 'abeyance', 'abhor', 'abhorrence', 'abhorrent', 'abilities', 'abject', 'abjure', 'ablest', 'ably', 'aboard', 'abodes', 'abominably', 'abomination', 'abort', 'abortive', 'abounding', 'aboveboard', 'abramovna', 'abridge', 'abrogated', 'absentee', 'absentees', 'absentmindedly', 'absolutism', 'abstention', 'abstiens', 'abstruse', 'ac', 'acacia', 'academies', 'acadia', 'acceded', 'acceding', 'accidently', 'accommodated', 'accommodations', 'accompli', 'accoucheur', 'accountable', 'accounting', 'accouterments', 'accredited', 'accursed', 'accuser', 'accusers', 'accusing', 'ace', 'acetabular', 'acetatis', 'acetones', 'achtung', 'acids', 'acknowledges', 'acquaint', 'acquiesced', 'acquiescence', 'acquirement', 'acquires', 'acquittal', 'acreage', 'activate', 'activist', 'acuteness', 'ad', 'adair', 'adamses', 'adaptation', 'adaptations', 'addison', 'adducing', 'adduct', 'adelaide', 'adele', 'aden', 'adherence', 'adiposis', 'adj', 'adjoined', 'adjunct', 'adjustments', 'adjuvant', 'adlai', 'administrating', 'administrators', 'admirals', 'admirers', 'admires', 'admiringly', 'admonishing', 'admonishingly', 'admonitory', 'ado', 'adonai', 'adorers', 'adores', 'adorned', 'adorning', 'adornment', 'adrenal', 'adrenals', 'adrian', 'adrift', 'adv', 'adve', 'adventuress', 'advisability', 'advisory', 'advocacy', 'aerial', 'afebrile', 'affability', 'affably', 'affaire', 'affiliation', 'affirming', 'affixed', 'affluent', 'affluents', 'afflux', 'affright', 'affront', 'affronted', 'affronts', 'afghan', 'afghanistan', 'afield', 'afore', 'aforesaid', 'aft', 'afterglow', 'afterlife', 'afwaid', 'agar', 'agenda', 'aggravatedly', 'aggravates', 'aggregated', 'agnes', 'agog', 'agonized', 'agonizingly', 'agra', 'agrement', 'agriculturalist', 'ague', 'agwee', 'ahahah', 'ailing', 'ailments', 'ain', 'aircraft', 'airiness', 'airline', 'airport', 'ajar', 'akharovs', 'akinfi', 'akron', 'al', 'alae', 'alan', 'alarms', 'alaskan', 'albanians', 'albumin', 'albuminous', 'albumoses', 'albuquerque', 'alder', 'alders', 'aldersgate', 'aldershot', 'ale', 'alenina', 'alertly', 'alesha', 'alexey', 'alfalfa', 'alfred', 'algiers', 'ali', 'alias', 'alicia', 'align', 'aligning', 'aliment', 'alimony', 'alkalies', 'alkaloid', 'alkaloids', 'allah', 'allegation', 'allege', 'allegedly', 'allegheny', 'alleging', 'allegories', 'allegory', 'allen', 'alleviation', 'allez', 'alliee', 'allison', 'allocate', 'allocation', 'alloit', 'allons', 'allopaths', 'allot', 'allowances', 'allured', 'allurement', 'allurements', 'alluring', 'alluringly', 'alluvial', 'alma', 'almanac', 'almonds', 'almshouse', 'almshouses', 'aloe', 'alopecia', 'alopoecia', 'alphonse', 'alte', 'altercation', 'alternated', 'alternation', 'alternatives', 'altgeld', 'alum', 'amant', 'amants', 'amass', 'amazon', 'amble', 'ambled', 'ambler', 'ambling', 'ambuscade', 'amen', 'amends', 'amene', 'amenities', 'amethyst', 'amicably', 'amiens', 'ammoniated', 'amniotic', 'amorys', 'amos', 'amoureuse', 'amoy', 'amp', 'amphilochus', 'amplifying', 'ampoule', 'amstetten', 'amulet', 'amusingly', 'amy', 'anaesthetise', 'anaesthetised', 'analyse', 'analyst', 'anaphylactic', 'anarchical', 'anarchist', 'anastomose', 'anastomoses', 'anathematized', 'ancestry', 'anchors', 'anconeus', 'andover', 'andwew', 'andy', 'aneurysmo', 'angela', 'angelically', 'angelo', 'angiomata', 'angiomatous', 'angiotribes', 'angleterre', 'aniline', 'animate', 'animatedly', 'animating', 'animosities', 'animus', 'anita', 'aniversary', 'ankylosing', 'annal', 'annex', 'annexing', 'annihilating', 'anniversaries', 'announces', 'ano', 'anode', 'anointed', 'anoints', 'anomalies', 'anon', 'ansicht', 'anstruther', 'answerable', 'antagonizing', 'antechambers', 'anterooms', 'anthracite', 'anthropoid', 'antibody', 'antics', 'anticus', 'antidotes', 'antigen', 'antinational', 'antipathetic', 'antipathies', 'antipodes', 'antipyrin', 'antonov', 'antwerp', 'anymore', 'aortitis', 'apache', 'apaches', 'apathetic', 'apocalyptic', 'apollo', 'apollon', 'apologized', 'aponeurotic', 'apoplectic', 'apoplexy', 'apothecaries', 'apparel', 'apparelled', 'appeasing', 'appellations', 'appendectomy', 'applaud', 'applauding', 'apportioning', 'appositely', 'appositeness', 'appraisal', 'appraised', 'appraising', 'appreciable', 'appreciative', 'apprehended', 'apprenticed', 'appropriating', 'approximates', 'appwove', 'apraksin', 'aproned', 'apropos', 'aquaintances', 'aquarium', 'aqueducts', 'aqueous', 'ar', 'arabchik', 'arabic', 'arabs', 'arabum', 'arat', 'arbiter', 'arbiters', 'arbitrament', 'arbitrariness', 'arbitrated', 'arbitrators', 'arcade', 'archaeological', 'archangel', 'archduchy', 'archery', 'arches', 'archipelago', 'archives', 'archway', 'arcy', 'ardently', 'arduously', 'areola', 'argentina', 'argues', 'argumentative', 'argumentatively', 'argus', 'arinka', 'aristocracies', 'aristocrats', 'aristotle', 'arizonians', 'ark', 'armenia', 'armenians', 'armfeldts', 'armor', 'armory', 'armpit', 'arnsworth', 'aroma', 'arouses', 'arraigned', 'arrears', 'arrestment', 'arsenals', 'arshin', 'arteriole', 'arthralgia', 'arthrodesis', 'articulate', 'articulated', 'artifice', 'artists', 'ascendancy', 'ascetic', 'aseptically', 'asile', 'askanazy', 'asp', 'asperity', 'aspersion', 'asphyxiated', 'aspirating', 'aspired', 'assailant', 'assailants', 'assailing', 'assassin', 'assassinated', 'assassins', 'assemblymen', 'asserts', 'assess', 'assessor', 'assez', 'assiduity', 'assiduously', 'assignat', 'assignation', 'assimilable', 'assimilate', 'assimilating', 'assures', 'asterisks', 'astor', 'astraea', 'astrakhan', 'astride', 'astuteness', 'atchison', 'atheist', 'atheistic', 'atheistical', 'athenian', 'athens', 'athletics', 'atkinson', 'atlas', 'atomic', 'atonement', 'atrocity', 'att', 'attainted', 'attendez', 'attendre', 'attica', 'attics', 'attila', 'attired', 'attorneys', 'attractively', 'aubert', 'auckland', 'auctions', 'audacious', 'audiences', 'audit', 'auditing', 'auditoriums', 'aug', 'augezd', 'aught', 'augments', 'augury', 'augustine', 'augustus', 'auscultating', 'auscultation', 'auspicious', 'auspiciously', 'aussi', 'austerity', 'australians', 'authenticity', 'authorise', 'authoritatively', 'authorization', 'autoclave', 'autocracy', 'autocrat', 'automobile', 'autre', 'auxiliaries', 'availability', 'availed', 'avare', 'ave', 'averaged', 'averages', 'avez', 'aviation', 'avoids', 'avoue', 'avow', 'avulsed', 'avulsing', 'awaked', 'awistocwacy', 'awl', 'awls', 'axe', 'axles', 'ayez', 'aylmer', 'azor', 'azov', 'azur', 'babel', 'babes', 'babinski', 'babyhood', 'babylon', 'baccelli', 'bacchus', 'bache', 'backbiter', 'backgammon', 'backwoodsman', 'backwoodsmen', 'badness', 'bagley', 'bailey', 'baited', 'baits', 'bakeshops', 'baldly', 'baldwin', 'baleful', 'balfour', 'balkan', 'ballad', 'ballads', 'ballasted', 'balloted', 'balloting', 'baltic', 'baltimores', 'balustraded', 'balzac', 'bamboo', 'banana', 'banditti', 'bandolier', 'bandoliers', 'bandsmen', 'bane', 'banish', 'banister', 'banteringly', 'baptismal', 'baptist', 'barbarians', 'barbed', 'barclays', 'bardeen', 'barge', 'bargees', 'barked', 'barker', 'barks', 'barlow', 'barns', 'barometric', 'baroness', 'baronet', 'barony', 'barrelled', 'barricade', 'barron', 'barrow', 'barrowloads', 'bart', 'barter', 'bartered', 'barthelemi', 'barton', 'baryta', 'baseless', 'basely', 'basement', 'bashfully', 'bashfulness', 'basically', 'basilar', 'bask', 'basketful', 'baskets', 'basle', 'basov', 'bassano', 'bastards', 'bataillons', 'batard', 'batch', 'bathtubs', 'batiste', 'batman', 'baton', 'battens', 'battlefields', 'battleground', 'battre', 'bavaria', 'baxter', 'bayoneted', 'bazaars', 'bazdeevs', 'bc', 'beacon', 'beaded', 'beading', 'beans', 'bearable', 'bearskins', 'beastly', 'beauche', 'beaux', 'becker', 'bedsteads', 'bedtime', 'beech', 'beekeeping', 'befalls', 'befitted', 'befriend', 'befriended', 'beggarly', 'beggarman', 'beggary', 'begrudge', 'begrudged', 'beheaded', 'beige', 'bekker', 'belabor', 'belauded', 'beleaguered', 'belfast', 'belgians', 'believer', 'belle', 'bellicose', 'bellies', 'bellowitz', 'bellum', 'belying', 'ben', 'bended', 'bendings', 'benediction', 'beneficially', 'beneficiaries', 'bennett', 'bennigsenites', 'bennigsens', 'bennington', 'benumbed', 'benzol', 'bequest', 'berkeley', 'berks', 'bermuda', 'bernadotte', 'berne', 'bernhard', 'berwick', 'besashed', 'beseeching', 'besouhoff', 'bespattering', 'bessieres', 'bestial', 'beta', 'beth', 'bethink', 'bethlehem', 'betokening', 'betook', 'betrayals', 'betrays', 'bettah', 'betted', 'betting', 'betwixt', 'bevelled', 'beverages', 'bewail', 'bewails', 'bewitchingly', 'bexar', 'bezubova', 'bezukhob', 'biassed', 'bibulous', 'bicarbonate', 'bickering', 'bicycle', 'bicycling', 'bidden', 'bidder', 'bide', 'bienseance', 'bifida', 'biggest', 'biglow', 'bijou', 'bike', 'billets', 'billy', 'billycock', 'bimetallism', 'bimetallist', 'binder', 'binds', 'biochemical', 'bipped', 'birchbark', 'birchmoor', 'birdie', 'biretta', 'birney', 'birthdays', 'births', 'bisecting', 'bisulphate', 'biter', 'biurate', 'bl', 'blackish', 'blackmailed', 'blackmailing', 'blacksmithing', 'blacksmiths', 'bladed', 'blameless', 'blamelessly', 'blanched', 'blasius', 'blasphemy', 'blasted', 'blasting', 'blasts', 'blazoned', 'bleared', 'bleating', 'blemishes', 'blest', 'blight', 'blinded', 'blinding', 'blissfully', 'bloc', 'bloch', 'blockhouses', 'blockquote', 'bloke', 'bloodgood', 'blooming', 'bloomsbury', 'blotched', 'blubberers', 'bludgeon', 'bluebeard', 'blunted', 'blur', 'blurred', 'blurs', 'blurt', 'blurted', 'blushingly', 'bluster', 'boa', 'boastful', 'boatmen', 'bobby', 'bobtail', 'boded', 'bodes', 'boer', 'bogdanovich', 'bogota', 'boire', 'bolder', 'bolding', 'bolivia', 'bolotnoe', 'bolsheviki', 'bolshevism', 'bolshevists', 'bolster', 'bombard', 'bombarded', 'bombay', 'bomber', 'bonanza', 'bonded', 'bondholders', 'bonheur', 'bonniest', 'bonny', 'booby', 'bookcases', 'booked', 'booking', 'booklet', 'bookshop', 'boonesboro', 'boor', 'booth', 'booths', 'bootmaker', 'bordermen', 'boredom', 'borgeaud', 'borisov', 'borough', 'borovitski', 'borrowings', 'borzozowska', 'bosnia', 'bosoms', 'bossed', 'boswell', 'bothnia', 'bough', 'boughs', 'bougies', 'boulton', 'bounce', 'bounteous', 'bowled', 'bowler', 'bowwowing', 'boxed', 'boycott', 'boycotted', 'boyfriend', 'br', 'brachio', 'bracket', 'brackets', 'bradley', 'brag', 'braggart', 'braiding', 'bramble', 'branched', 'branding', 'brandish', 'brandon', 'brat', 'bravado', 'braving', 'bravoure', 'brawler', 'brawls', 'breakdown', 'breakup', 'breasted', 'breastpin', 'breathes', 'breeds', 'breezy', 'bremen', 'brest', 'brevis', 'brewer', 'brewery', 'brewing', 'brian', 'briar', 'brickish', 'bricklaying', 'bridged', 'briefer', 'briefs', 'brig', 'brigadier', 'brighten', 'brimful', 'brimming', 'brims', 'brindled', 'brisker', 'bristled', 'bristly', 'briton', 'broadcloth', 'broadening', 'broadway', 'brochure', 'broker', 'bronchiectasis', 'bronchitis', 'broncho', 'bronnikov', 'bronnitski', 'bronnitskis', 'brooch', 'brooded', 'brooklyn', 'brothels', 'browed', 'browsing', 'brozin', 'brunette', 'brunswick', 'brushes', 'brushing', 'brushwood', 'brusquely', 'brussels', 'brutus', 'bryant', 'bryn', 'bu', 'bubble', 'bubbles', 'bubbling', 'bubonic', 'buckles', 'bucks', 'buddha', 'buddhist', 'buena', 'buffaloes', 'buffoons', 'bug', 'buggy', 'bulkier', 'bulkiest', 'bulwarks', 'bulwer', 'bumblebee', 'bumblebees', 'bumped', 'bumping', 'bunks', 'bunsen', 'bunt', 'bunting', 'bunyan', 'buonapartes', 'buonapartists', 'buoyed', 'burdino', 'bureaucracy', 'bureaucratic', 'burgess', 'burgher', 'burghers', 'burglar', 'burglaries', 'burglars', 'burgundy', 'burlington', 'burly', 'burnished', 'burnoose', 'burnside', 'burroughs', 'bus', 'busier', 'businessman', 'bustlingly', 'busts', 'busybody', 'busying', 'butchers', 'bute', 'butte', 'butted', 'butterflies', 'buttonhole', 'butts', 'buzzed', 'bweed', 'bwethwen', 'bwicks', 'bwinging', 'bwought', 'bwushed', 'bykov', 'byron', 'bystanders', 'byways', 'ca', 'cabby', 'cabmen', 'cabriolet', 'cachectic', 'cachets', 'cackle', 'cacodylate', 'cactus', 'cadaverous', 'cadets', 'cafe', 'caffein', 'caged', 'cain', 'caird', 'cairo', 'caisson', 'cajolery', 'cakelike', 'cal', 'calamine', 'calamitous', 'calcined', 'calcis', 'calculus', 'caleb', 'calendars', 'calibres', 'calico', 'californian', 'californians', 'californy', 'calkers', 'callings', 'calmette', 'calms', 'calorie', 'caltrops', 'calumny', 'calvaria', 'cambon', 'cameron', 'camlet', 'campaigned', 'campaigner', 'campbell', 'camped', 'camphor', 'camping', 'campo', 'canalised', 'cancel', 'cancellated', 'cancellation', 'cancelli', 'candidly', 'candlelight', 'candlesticks', 'candor', 'candy', 'canister', 'canned', 'canneries', 'cannons', 'canoe', 'canonized', 'canst', 'canteenkeeper', 'canter', 'cantharidis', 'canvass', 'canyon', 'capability', 'capacious', 'capacities', 'caper', 'capered', 'capitaine', 'capitale', 'capitalism', 'capitation', 'capitis', 'capotes', 'caprices', 'capricious', 'capriciously', 'capsicum', 'capsules', 'captivating', 'captives', 'carabineers', 'caraffe', 'carbohydrates', 'carbolised', 'carcinomatous', 'cardinell', 'carding', 'cardplayer', 'careening', 'careers', 'carer', 'caret', 'caricature', 'carlsbad', 'carlyle', 'carnage', 'carnival', 'carnivora', 'carolinians', 'carousal', 'carp', 'carpentry', 'carping', 'carree', 'carrion', 'carryings', 'carson', 'carter', 'carteret', 'carterets', 'carters', 'cartier', 'cartload', 'cartloads', 'cartoons', 'cartridges', 'cartwright', 'cascade', 'caseful', 'cashbox', 'caskets', 'casque', 'cassette', 'castanet', 'castanets', 'castrated', 'casts', 'casualties', 'cataclysms', 'catafalque', 'catcher', 'catchplay', 'catchwords', 'catechism', 'catechisms', 'cater', 'catharine', 'cathedrals', 'catheterising', 'catholicism', 'catlike', 'cattlemen', 'causalgia', 'causations', 'causatively', 'causeless', 'cauteries', 'cauterise', 'cautioned', 'cavae', 'cavalcade', 'cavaliers', 'caved', 'cawolla', 'ceaselessly', 'cecil', 'cecilia', 'ceilings', 'celebrates', 'celebrations', 'celebres', 'celebrity', 'cellaret', 'cellulitic', 'celsus', 'censer', 'censers', 'censuring', 'centennial', 'centimetres', 'centrifugal', 'cependant', 'cereal', 'cerebellum', 'cerebritis', 'certains', 'cervera', 'ces', 'cessions', 'cet', 'chafe', 'chaff', 'chaffingly', 'chafing', 'chained', 'chaise', 'chaises', 'chalice', 'chalked', 'chalks', 'challengingly', 'chalme', 'champ', 'champing', 'champs', 'chancery', 'chandelier', 'chandeliers', 'changers', 'chant', 'chante', 'chaplain', 'characterises', 'chariot', 'charlatan', 'charlie', 'charlotte', 'charme', 'charmee', 'charmingly', 'charpie', 'chartering', 'chary', 'chas', 'chasers', 'chasseur', 'chaste', 'chastened', 'chatrov', 'chats', 'chatty', 'chaucer', 'cheadle', 'checkerboards', 'checkmate', 'checkmated', 'cheeked', 'cheilotomy', 'cheloid', 'chemically', 'chemicals', 'chemiotaxis', 'chemise', 'chemists', 'chemotaxis', 'cherokee', 'cherokees', 'cherubini', 'chessboard', 'chessplayer', 'chesterfield', 'chests', 'chew', 'chewed', 'cheyenne', 'chi', 'chiding', 'chiene', 'chiffon', 'childbearing', 'childbed', 'childless', 'childwen', 'chile', 'chillicothe', 'chime', 'chimera', 'chimerical', 'chiming', 'chimpanzee', 'chinaware', 'chinchilla', 'chinks', 'chinoises', 'chins', 'chipault', 'chips', 'chiropodists', 'chirruping', 'chiselling', 'chlorate', 'chlorosis', 'choate', 'cholera', 'chondromata', 'chooses', 'chop', 'chopped', 'choppers', 'chorea', 'chris', 'christendom', 'christine', 'christmastime', 'chromic', 'chromicised', 'chronicler', 'chroniclers', 'chubb', 'chubby', 'chuck', 'chuckling', 'chum', 'churchill', 'churchyard', 'churlish', 'churned', 'churning', 'chyluria', 'cicatrise', 'cicero', 'cider', 'cigarettes', 'cinder', 'cinema', 'circled', 'circlet', 'circuiting', 'circuits', 'circulates', 'circumscribes', 'circumspection', 'circumstantially', 'circus', 'cite', 'citizenesses', 'citrate', 'civics', 'cladius', 'claimant', 'claimants', 'clamber', 'clamping', 'clamps', 'clan', 'clank', 'clannish', 'clare', 'clarification', 'clarifying', 'clarion', 'clarity', 'clarke', 'claspings', 'classically', 'classify', 'claude', 'clausewitz', 'claviceps', 'clavicles', 'cleaner', 'clearance', 'clearcut', 'clearheadedness', 'cleavage', 'cleaving', 'cleft', 'clement', 'clench', 'cleopatra', 'clifford', 'climber', 'clinched', 'clinching', 'clinic', 'clinics', 'clinked', 'clocks', 'clodhoppers', 'cloister', 'closet', 'clotilde', 'clotted', 'clowns', 'clucked', 'clumps', 'clustered', 'clymer', 'cms', 'coagula', 'coaled', 'coarseness', 'coarser', 'coarsest', 'coastal', 'coating', 'coax', 'coaxing', 'cob', 'cobbler', 'cobblestones', 'cobwebby', 'cobwebs', 'cocain', 'cockcrow', 'cocktail', 'cocoa', 'cocottes', 'codein', 'codman', 'cody', 'coexistence', 'coexisting', 'coffeepot', 'cogency', 'cognitive', 'cognizable', 'cognizant', 'cogs', 'cogwheel', 'cohens', 'cohnheim', 'coiffures', 'coiling', 'coincidences', 'coiners', 'col', 'coleridge', 'colfax', 'collaboration', 'collahs', 'collapses', 'collarbones', 'collaterals', 'collegiate', 'collide', 'collides', 'colliding', 'collins', 'colloquies', 'colonels', 'colosseum', 'colostomy', 'colourful', 'colours', 'combatant', 'combated', 'combative', 'combatted', 'combers', 'cometh', 'comings', 'comite', 'commandeered', 'commending', 'commensurable', 'commentary', 'commentator', 'commenting', 'commercialism', 'commiserating', 'commissary', 'commitment', 'committeeman', 'commodores', 'commotions', 'communicable', 'communicative', 'communing', 'commuted', 'commuting', 'compactly', 'compagne', 'compagnie', 'comparisons', 'compatriot', 'compatriots', 'compensatory', 'compete', 'compile', 'compilers', 'complementary', 'complements', 'complicating', 'complimentary', 'compositor', 'compounds', 'comprendre', 'comprenez', 'comprise', 'comprising', 'compromiser', 'comptez', 'comptrollers', 'compute', 'computing', 'comtesse', 'con', 'concatinatae', 'concavo', 'conceding', 'conceives', 'concepts', 'conceptual', 'conciliated', 'conciliating', 'conclaves', 'conclusively', 'conclusiveness', 'concomitant', 'concomitants', 'concussion', 'cond', 'condemnations', 'condensing', 'condign', 'condiments', 'condolence', 'conduce', 'conducing', 'conductivity', 'conductors', 'conducts', 'condy', 'condylar', 'condylomatous', 'confectioner', 'confidante', 'confinements', 'confirmatory', 'conforming', 'conformists', 'conformity', 'conforms', 'confounding', 'confront', 'confrontation', 'confuse', 'confusedly', 'confuted', 'cong', 'congenitally', 'congestive', 'congratulating', 'congratulation', 'congregated', 'coniston', 'conjecturing', 'conjoined', 'conjunctivitis', 'conjure', 'conjuror', 'connais', 'connaissez', 'connexion', 'connoisseur', 'consciously', 'conscripts', 'conscwiption', 'consecrated', 'consensus', 'consenting', 'consents', 'conservatism', 'conserved', 'consigne', 'consistory', 'consolatory', 'consoler', 'consolidating', 'consonant', 'consonants', 'consortium', 'conspiratorial', 'conspirators', 'conspiring', 'constancy', 'constantinople', 'constipated', 'constituency', 'constrain', 'constrains', 'constricts', 'constructionists', 'consultant', 'consults', 'consummated', 'contagion', 'contagious', 'container', 'contemplative', 'contemporaneously', 'contente', 'contentedly', 'contentment', 'contez', 'continuations', 'contorting', 'contortions', 'contrabass', 'contractility', 'contractual', 'contraire', 'contributes', 'contributory', 'contrition', 'contrivance', 'controlledly', 'controller', 'controverted', 'conundrums', 'convene', 'conventionalities', 'conventionality', 'conversational', 'convertible', 'conveyances', 'convient', 'convoked', 'convoyman', 'convulse', 'convulsion', 'cooing', 'cookers', 'cookshop', 'coolest', 'cooped', 'cooperating', 'cop', 'copeland', 'copier', 'coquet', 'coquette', 'cor', 'coraco', 'coracoid', 'cordage', 'cording', 'corks', 'cornetcy', 'cornfield', 'cornfields', 'cornice', 'corollary', 'corona', 'coronado', 'coronary', 'coronoid', 'corporals', 'corpulence', 'corrals', 'corrective', 'corrects', 'corridors', 'corroborate', 'corrupting', 'corset', 'corsican', 'cortez', 'cortlandt', 'corvisart', 'corydon', 'cos', 'cosaques', 'cosmetic', 'cosmography', 'costa', 'coster', 'cosy', 'cotillions', 'cottages', 'cottons', 'cottonwood', 'cotyledons', 'couched', 'couches', 'couldst', 'couler', 'councillor', 'counselling', 'counselor', 'counselors', 'counteraction', 'counterattack', 'counterfeiting', 'countermanded', 'countermarches', 'counterorders', 'counterpaned', 'counterpart', 'counterpoise', 'counters', 'countesses', 'countinghouse', 'countwy', 'courant', 'coursing', 'courtesan', 'courthouse', 'courtyards', 'couture', 'coverage', 'coverlet', 'covertly', 'cowardly', 'cowhouse', 'coxcombs', 'coyness', 'coyote', 'craftsman', 'craftsmanship', 'craggy', 'craig', 'crammed', 'crane', 'crashed', 'crashing', 'crater', 'crates', 'cravats', 'cravatte', 'craving', 'creaks', 'crease', 'credentials', 'credibility', 'creditable', 'credits', 'creeks', 'creolin', 'creosote', 'crepitans', 'crepitating', 'crescent', 'crestfallen', 'cret', 'crewe', 'crews', 'cribriform', 'crickets', 'crimea', 'crinkled', 'crisply', 'critic', 'criticise', 'criticising', 'criticizes', 'critique', 'croaked', 'croats', 'crocuses', 'croly', 'crony', 'crosart', 'crossbeam', 'crossings', 'crossness', 'crossway', 'crotchety', 'croup', 'croupous', 'croups', 'croupy', 'crucified', 'cruise', 'crumbly', 'crureus', 'crusade', 'crusty', 'crybabies', 'crybaby', 'crystallised', 'crystallized', 'cub', 'cubital', 'cubitus', 'cucumber', 'cucumbers', 'cudgelled', 'cudgels', 'cuisse', 'cullen', 'culminate', 'cult', 'cultivates', 'cultivating', 'cultural', 'cultured', 'cum', 'cumbrous', 'cunctators', 'cuneiform', 'cupful', 'cupidity', 'cups', 'curate', 'curetting', 'curing', 'curiosities', 'curlpapers', 'curtail', 'curtained', 'curtseying', 'curtsy', 'cushay', 'cushioned', 'cusp', 'custer', 'custodian', 'cutler', 'cutlery', 'cuttings', 'cutup', 'cuvier', 'cweation', 'cweep', 'cwoss', 'cwow', 'cy', 'cycle', 'cyclical', 'cycling', 'cylindrical', 'cymbals', 'cynically', 'cyrus', 'czech', 'czechs', 'dahe', 'daintiest', 'daisy', 'dakotan', 'dakotans', 'dallas', 'dalliance', 'dallied', 'dallying', 'dalmatic', 'damaging', 'damascus', 'dames', 'damper', 'dampness', 'damsel', 'dandin', 'dane', 'dangles', 'danilov', 'danser', 'danseuse', 'dappled', 'darlington', 'dartos', 'darwin', 'das', 'dashboard', 'database', 'dato', 'daubed', 'daubing', 'dave', 'davenport', 'dawbarn', 'dawson', 'dayton', 'deacons', 'deadline', 'deadlocked', 'deadness', 'deafeningly', 'deah', 'dean', 'dearer', 'deathbed', 'deathbeds', 'deathly', 'debit', 'debonair', 'debouching', 'decadence', 'decalcified', 'decanters', 'decapsulation', 'decaying', 'decays', 'decease', 'deceitful', 'deceiver', 'deceivers', 'decked', 'decks', 'declivity', 'decolorised', 'decomposes', 'decorate', 'decorating', 'decorative', 'decorous', 'decrepitude', 'decried', 'dedicate', 'dedicates', 'deductive', 'deeming', 'deepen', 'deepening', 'deepens', 'deeps', 'defame', 'default', 'defenceless', 'defendant', 'defenseless', 'deferens', 'defiantly', 'deficiencies', 'deficit', 'defiled', 'defiles', 'defiling', 'definiteness', 'deflected', 'deflecting', 'deflection', 'defoe', 'defrauded', 'defray', 'degenerating', 'degrading', 'degwaded', 'dehydrate', 'dehydrates', 'deities', 'del', 'deliberating', 'deliberative', 'delimited', 'deliverer', 'delude', 'deluding', 'deluged', 'delusions', 'delve', 'delving', 'demain', 'demandent', 'demeanour', 'dementat', 'dementyev', 'demerara', 'demkin', 'demolish', 'demolished', 'demonetized', 'demonstrable', 'demonstrates', 'demonstrator', 'demoralized', 'demosthenes', 'demurely', 'denis', 'denoted', 'denotes', 'denouement', 'denuded', 'denunciations', 'deodorant', 'departmental', 'depict', 'depicting', 'depleted', 'deploring', 'deploy', 'deployed', 'depopulated', 'deportment', 'deposes', 'depositaries', 'depositary', 'depositing', 'depositors', 'deprecate', 'deprecating', 'depressions', 'deprivation', 'depuis', 'deputations', 'depwavity', 'derbies', 'derby', 'dere', 'deride', 'derisively', 'derivatives', 'derives', 'dermal', 'dermatocele', 'dernburg', 'derogates', 'derogatory', 'descry', 'desecration', 'deseret', 'deserters', 'desertest', 'designate', 'designer', 'designing', 'desist', 'desisted', 'desktop', 'desolate', 'despatched', 'despises', 'despising', 'despoil', 'despoiled', 'despondency', 'despotic', 'desquamated', 'dessert', 'destinies', 'destitution', 'destructions', 'detailing', 'detector', 'detention', 'deteriorate', 'deteriorated', 'deterred', 'detest', 'dethrone', 'dethroned', 'detonate', 'detonators', 'detour', 'detoxicated', 'detracted', 'detractors', 'detrimental', 'detritus', 'detruite', 'deux', 'devait', 'devastating', 'devastation', 'developer', 'devises', 'devising', 'devoirs', 'devonshire', 'devotee', 'devotees', 'devour', 'devoutly', 'devriez', 'dews', 'dexter', 'dexterity', 'dey', 'diabolical', 'diadem', 'diagonal', 'dial', 'diaphanous', 'diaries', 'dichotomy', 'dick', 'dickinson', 'dickson', 'dicrotic', 'dictates', 'dictation', 'dictionaries', 'dictum', 'diderot', 'diego', 'diese', 'dietary', 'dieted', 'diffidence', 'diffident', 'digesting', 'digestive', 'dighton', 'digitalin', 'digs', 'dihydrochloride', 'dilates', 'dilatory', 'dilettanti', 'dilly', 'diluent', 'diluting', 'dimension', 'dimpling', 'dinah', 'dinned', 'dinnerless', 'dio', 'dioxydiamido', 'diplo', 'diplococcus', 'diploma', 'diplomas', 'directeur', 'directive', 'dirk', 'dis', 'disabling', 'disadvantageously', 'disaffected', 'disagrees', 'disallowance', 'disappoints', 'disastrously', 'disbanded', 'disbanding', 'disbelieving', 'discarding', 'disciples', 'disciplinary', 'disciplining', 'discloses', 'disclosing', 'disclosure', 'disco', 'discoid', 'discomforts', 'discomposure', 'disconcerting', 'disconnectedly', 'disconsolately', 'discontentedly', 'discontents', 'discontinuance', 'discontinued', 'discordantly', 'discountenanced', 'discouragement', 'discourages', 'discouraging', 'discovers', 'discreditable', 'discrepancy', 'discriminated', 'discriminatory', 'discusses', 'disdaining', 'disentangle', 'disfranchise', 'disfranchisements', 'disgraces', 'disgracing', 'disguises', 'disguising', 'disgusted', 'disharmony', 'dishonesty', 'dishonour', 'dishonourable', 'disillusion', 'disillusionments', 'disinclination', 'disinfectant', 'disintegrating', 'disjecta', 'disjointed', 'disks', 'dislikes', 'disliking', 'dislocate', 'dislocating', 'dislodge', 'disloyalty', 'dismemberment', 'dismissals', 'disobeys', 'disorganization', 'disown', 'disparage', 'dispassionate', 'dispel', 'dispensations', 'displeases', 'displeasing', 'disport', 'disproportionate', 'disputatious', 'disqualification', 'disqualify', 'disquiet', 'disquieted', 'disrespectfully', 'disrobe', 'disrupt', 'disrupting', 'disseminate', 'dissolving', 'dissuasions', 'distaff', 'distally', 'distending', 'distends', 'distilleries', 'distillers', 'distinguee', 'distort', 'distractedly', 'distracting', 'distressful', 'distrustful', 'disturber', 'ditching', 'diuretics', 'diurnal', 'dive', 'dived', 'diverge', 'diverged', 'divergence', 'divers', 'diversions', 'diversities', 'divest', 'divested', 'dividend', 'divides', 'divinely', 'diving', 'divinities', 'dix', 'dixon', 'dizziness', 'dmitrov', 'dmitrovsk', 'docketing', 'dockyard', 'documentation', 'doddering', 'doe', 'dogma', 'dogmatism', 'dole', 'doled', 'doleful', 'dolefully', 'doles', 'dolls', 'dolokhova', 'dolphin', 'dominicans', 'donald', 'donc', 'donkey', 'donna', 'donne', 'dooties', 'doppelkummel', 'dora', 'dormir', 'dorothea', 'dorothy', 'dorsales', 'dorsalis', 'dorsi', 'dost', 'dotage', 'doth', 'doting', 'dots', 'dottles', 'doubling', 'doubter', 'douceur', 'douches', 'dough', 'douleurs', 'doute', 'dovey', 'downed', 'downright', 'doyen', 'dozhoyveyko', 'drab', 'dragnet', 'drake', 'dramas', 'dramatically', 'dramatized', 'draping', 'draymen', 'dreamers', 'dreamest', 'dreaminess', 'dreamt', 'dredge', 'dressmakers', 'drilling', 'drills', 'drinker', 'drizzling', 'droits', 'droll', 'droned', 'droning', 'dropsical', 'dropsy', 'drought', 'droves', 'drowns', 'drowsily', 'drubetskoys', 'drudgery', 'druggist', 'drummed', 'drummers', 'drunkards', 'dryden', 'dub', 'dubious', 'dubuque', 'duchenois', 'ducks', 'dudgeon', 'dueling', 'duets', 'dullest', 'dullness', 'dulness', 'dumbfounded', 'dumbly', 'dumfound', 'dumping', 'dumps', 'dundas', 'dungeon', 'duniway', 'dupe', 'dupes', 'duplicate', 'duplicates', 'duplicity', 'dupuytren', 'durham', 'durings', 'durosnel', 'durst', 'durum', 'duskier', 'dussek', 'dustcoat', 'dutiful', 'dutifully', 'dvina', 'dwagging', 'dweller', 'dwellings', 'dwive', 'dwown', 'dwy', 'dy', 'dyeing', 'dynamic', 'dyspepsia', 'eagles', 'earache', 'earle', 'earner', 'earshot', 'earthquake', 'earthquakes', 'earthworks', 'earthy', 'easing', 'easter', 'easterly', 'easterners', 'easygoing', 'eaves', 'eavesdroppers', 'ebbed', 'ebbing', 'ebullient', 'eccentricities', 'ecchymosed', 'ecchymoses', 'echelons', 'echinoccus', 'echinococcal', 'echoing', 'echthyma', 'ecka', 'eclairaient', 'economies', 'economized', 'ecstasies', 'ecthyma', 'ecuador', 'eddied', 'eddies', 'eddying', 'eden', 'edentulous', 'edgar', 'edifices', 'edin', 'editorially', 'edwards', 'eerie', 'efface', 'effaced', 'effacing', 'effervescing', 'effete', 'effrayee', 'effrontery', 'effusions', 'eg', 'egerton', 'egged', 'eggleston', 'eggshell', 'eglonitz', 'eglow', 'ego', 'egotistic', 'egress', 'egria', 'egyptians', 'eighths', 'eightpence', 'ejaculating', 'ejected', 'el', 'elbe', 'elbowing', 'elchingen', 'electorate', 'electron', 'electronics', 'electrotyped', 'elects', 'elephants', 'elets', 'elevates', 'elevators', 'eley', 'elided', 'elijah', 'eliminates', 'elisabeth', 'elisaveta', 'elise', 'ellen', 'ellet', 'elliptical', 'ellis', 'elm', 'elocution', 'elohim', 'elongates', 'elongation', 'elopement', 'elopements', 'elucidate', 'elude', 'elusive', 'emaciates', 'emanated', 'emancipate', 'emancipators', 'embankments', 'embargoes', 'embarrassments', 'embassage', 'embedding', 'embitter', 'embodiment', 'embody', 'embodying', 'embossed', 'embroidering', 'embryos', 'emetin', 'emigrate', 'emigree', 'emigres', 'emilie', 'emily', 'emissaries', 'emission', 'emphasise', 'empia', 'empirical', 'empirically', 'emplastrum', 'empower', 'empowering', 'empresses', 'emptiest', 'empting', 'emulated', 'enacting', 'enacts', 'encamp', 'encapsuled', 'encased', 'enchondroma', 'encircled', 'enclose', 'enclosures', 'encompassed', 'encourages', 'encroached', 'encrustation', 'encumbered', 'encumbering', 'encyclopaedias', 'encysted', 'endangering', 'endeared', 'endearment', 'endearments', 'endears', 'endeavours', 'endell', 'endings', 'endocardium', 'endoneural', 'endorsement', 'endorsing', 'endothelioid', 'endotheliomas', 'endotheliomata', 'endow', 'endowing', 'endowment', 'enema', 'energique', 'enfin', 'enfolded', 'enfranchise', 'engendered', 'engineered', 'englanders', 'engle', 'engorged', 'engrained', 'engrele', 'engrossing', 'engulfed', 'engulfing', 'enhancing', 'enigma', 'enigmatical', 'enjoined', 'enjoining', 'enlighteners', 'enlistment', 'enmeshed', 'enmities', 'ennemi', 'enquire', 'enquiry', 'enriching', 'enslaved', 'ensnared', 'ensuit', 'entangle', 'entanglement', 'entangling', 'entendent', 'entente', 'enthusiasms', 'entice', 'enticed', 'enticingly', 'ention', 'entitle', 'entitlement', 'entitles', 'entitling', 'entrances', 'entree', 'entrench', 'entrusts', 'entweat', 'enucleated', 'enucleators', 'enunciated', 'enveloping', 'enviously', 'environmental', 'environs', 'envisage', 'envisagez', 'envying', 'enwich', 'enwrapped', 'enzyme', 'enzymes', 'eosinophilia', 'epaulet', 'ephraim', 'epiblast', 'epic', 'epics', 'epicurean', 'epidemic', 'epigastrium', 'epigrams', 'epilation', 'epileptic', 'epileptics', 'epileptiform', 'epineurium', 'epiphany', 'episcopal', 'episcopate', 'epistles', 'epitheliomatous', 'epitheliomatus', 'epithelionia', 'epithets', 'epitrochlear', 'eprouver', 'equator', 'equestrian', 'equine', 'equipages', 'equities', 'equivocate', 'eradicate', 'eradicated', 'eradicating', 'eradication', 'erased', 'erases', 'ere', 'erecting', 'erector', 'ergotin', 'eric', 'ermine', 'ermishin', 'ermolovs', 'ernest', 'erode', 'erpassed', 'errands', 'errare', 'erratically', 'erudite', 'erupted', 'erupting', 'eruptive', 'erysipelatous', 'escharotic', 'escharotics', 'eschars', 'escorting', 'esp', 'espousal', 'espouse', 'essaying', 'essayist', 'essen', 'essex', 'establishes', 'esteeming', 'esther', 'esthonia', 'estimates', 'estranged', 'etait', 'etat', 'etats', 'ethel', 'etherege', 'ethnic', 'ethnographic', 'etiological', 'eton', 'ety', 'euer', 'eunuchs', 'europeans', 'eustace', 'eut', 'ev', 'eva', 'evacuate', 'evaluate', 'evaluation', 'evangelists', 'evans', 'evasive', 'evermore', 'evewy', 'evewybody', 'evewyone', 'evewything', 'evildoer', 'evinced', 'evincing', 'evolutions', 'ewing', 'exactions', 'exactness', 'exalting', 'exalts', 'exam', 'examiner', 'excavated', 'excavating', 'excedens', 'excepted', 'exchanges', 'exchequer', 'excites', 'excludes', 'exclusionist', 'excoriated', 'excoriations', 'excrement', 'excusable', 'execrable', 'executioners', 'executor', 'exemplar', 'exempted', 'exempting', 'exhaled', 'exhales', 'exhausting', 'exhaustive', 'exhortations', 'exorbitant', 'exorcise', 'exotoses', 'expands', 'expanses', 'expansions', 'expectancies', 'expectantly', 'expedite', 'expeditiously', 'expelling', 'experimented', 'expertise', 'expiation', 'expire', 'explique', 'exploitation', 'explosive', 'expostulated', 'expostulating', 'expunge', 'expunging', 'exquisitely', 'exsiccat', 'exsiccated', 'ext', 'extant', 'extemporised', 'extensions', 'extenuate', 'extenuating', 'exterior', 'externals', 'extinguish', 'extinguishes', 'extirpate', 'extirpated', 'extolled', 'extolling', 'extremist', 'extremites', 'extricated', 'exudates', 'exuded', 'eyebrow', 'eyeglass', 'eyeglasses', 'eyelashes', 'eying', 'fabrication', 'fabulous', 'facet', 'facetious', 'fachons', 'facilitated', 'factotum', 'facultative', 'fad', 'fading', 'fahrenheit', 'faintest', 'fainthearted', 'faints', 'fairchild', 'fairest', 'fairfield', 'fairies', 'faites', 'faithless', 'faithlessness', 'faiwy', 'falaba', 'fallacies', 'fallacious', 'fallacy', 'falleth', 'fallibility', 'falsehoods', 'falsified', 'faltering', 'fameuse', 'fanatical', 'fancywork', 'faneuils', 'fangled', 'fanlight', 'fanny', 'fantasy', 'fanwise', 'farce', 'fared', 'fareham', 'fares', 'farmerettes', 'farnham', 'faro', 'farrand', 'farrington', 'fas', 'fascial', 'fasciculated', 'fashioning', 'fashions', 'fasted', 'fasteners', 'fastidious', 'fastness', 'fatale', 'fatalism', 'fates', 'fatherless', 'fatherly', 'fats', 'fatted', 'fatten', 'fattening', 'fattest', 'faultfinding', 'faulty', 'fawningly', 'fax', 'fearfully', 'featherbeds', 'feathered', 'feats', 'feb', 'fedchenko', 'federalism', 'federals', 'federative', 'fedeshon', 'fedorovich', 'fedotov', 'feedback', 'feedeth', 'feind', 'felicitations', 'felicities', 'felicity', 'felix', 'feller', 'felling', 'fellowship', 'felo', 'felon', 'felonies', 'felstein', 'felted', 'felts', 'felty', 'femgalka', 'feminist', 'femmes', 'femorals', 'fenced', 'fencer', 'feoklitych', 'fergusson', 'ferociously', 'ferons', 'ferri', 'ferries', 'ferrymen', 'fertilizes', 'fess', 'fester', 'festivity', 'fetters', 'feu', 'feverishness', 'fewest', 'fez', 'fiat', 'fibrillation', 'fibrils', 'fiddle', 'fidgeted', 'fidgeting', 'fieldglass', 'fieldwork', 'fiend', 'fiends', 'fiew', 'fiftieth', 'figaro', 'figner', 'figurehead', 'filbert', 'filched', 'filiform', 'filler', 'filmy', 'fils', 'filtered', 'filters', 'filth', 'finder', 'findings', 'finesse', 'fingerboard', 'finite', 'finns', 'firebrand', 'firemen', 'firms', 'fished', 'fishery', 'fissuring', 'fistulas', 'fitch', 'fitful', 'fixes', 'fixture', 'fjords', 'flagging', 'flair', 'flammes', 'flanders', 'flanked', 'flanking', 'flare', 'flares', 'flats', 'flatters', 'flatulence', 'flaubert', 'flaunt', 'flaws', 'flayed', 'flaying', 'fleck', 'fleets', 'fleissig', 'fletcher', 'fleur', 'flexibly', 'flexile', 'flexure', 'flick', 'flicking', 'flights', 'flings', 'flirtatiousness', 'flirting', 'flitting', 'flocking', 'floppy', 'florists', 'flotation', 'floundered', 'flout', 'flouted', 'flowered', 'flowering', 'flowerpots', 'fluctuated', 'fluctuates', 'fluff', 'flurries', 'flurry', 'flurrying', 'flute', 'fn', 'foal', 'foams', 'fogs', 'foh', 'foibles', 'foie', 'foil', 'foliaceous', 'foliated', 'folio', 'fomented', 'fontanelle', 'fontanelles', 'foo', 'foodstuffs', 'foolishly', 'footboard', 'footlights', 'footpaths', 'footprints', 'foppishness', 'foragers', 'forays', 'forbear', 'forbearance', 'forbids', 'forcer', 'fords', 'fore', 'forearms', 'forecasting', 'forecastle', 'forecasts', 'foreclosing', 'forefathers', 'forefingers', 'forefront', 'foregone', 'foreground', 'foremen', 'forenoon', 'forepaws', 'forerunner', 'foreshadowed', 'foresters', 'foretaste', 'foretell', 'forevermore', 'forewarned', 'forfeited', 'forfeiture', 'forfeitures', 'forgathered', 'forger', 'forgeries', 'forgetful', 'forme', 'formication', 'formio', 'formless', 'formulation', 'forsaking', 'fortifying', 'fortnightly', 'fossil', 'fostering', 'foulis', 'foundries', 'foundry', 'fourchette', 'fournier', 'foxes', 'foxy', 'fractions', 'fragile', 'fragmentary', 'frailty', 'frambesia', 'francaise', 'frances', 'franco', 'franklins', 'fraternal', 'fraternizing', 'fratricidal', 'fraulein', 'frayed', 'freakish', 'freaks', 'fred', 'freebody', 'freeing', 'freer', 'frees', 'freesoil', 'freest', 'freewill', 'freeze', 'fremitus', 'frenchie', 'frenchified', 'freneau', 'frenzied', 'freshened', 'fretted', 'friar', 'fridge', 'fried', 'friedrich', 'friendliest', 'frightfully', 'frilled', 'fringed', 'frise', 'frivolously', 'frocked', 'frogged', 'frolic', 'frolicking', 'fronted', 'frontenac', 'fronts', 'frosted', 'frothingham', 'frowde', 'frowningly', 'froze', 'fruhstuck', 'fruition', 'fruschtique', 'frustrated', 'frustration', 'frye', 'fuchsin', 'fuck', 'fulfilment', 'fullest', 'fulling', 'fulness', 'fumbled', 'fumed', 'fumes', 'fuming', 'functionary', 'functionating', 'fundamentals', 'funded', 'fundus', 'fungated', 'fungates', 'funnel', 'funnier', 'furies', 'furieuse', 'furnaces', 'furred', 'furry', 'fuses', 'fusillade', 'fusing', 'fussed', 'fussily', 'fussing', 'fussy', 'futilities', 'fwashing', 'fwo', 'ga', 'gabions', 'gables', 'gachina', 'gainer', 'gainful', 'gainfully', 'gaitered', 'gal', 'galant', 'galaxy', 'galere', 'galicia', 'galilee', 'galitsyn', 'gallantry', 'galled', 'galleries', 'galley', 'gallicism', 'gallicisms', 'gallon', 'gallops', 'galloway', 'galvanised', 'galvanism', 'galvanometer', 'galveston', 'gamble', 'gambols', 'gamut', 'ganges', 'gangway', 'gapes', 'gaps', 'garage', 'garb', 'garbs', 'gardeners', 'gardening', 'gare', 'gargle', 'garlic', 'garnering', 'garnished', 'garrett', 'garrisons', 'garrulous', 'garrulously', 'garter', 'garters', 'gascon', 'gasconades', 'gase', 'gaslight', 'gasogene', 'gasoline', 'gasps', 'gastein', 'gathereth', 'gaunter', 'gauzy', 'gavril', 'gazetteer', 'gazettes', 'gdp', 'gdrard', 'geben', 'gee', 'geiser', 'gen', 'gendarme', 'gender', 'gene', 'genera', 'generalisation', 'generalities', 'generalizations', 'generalizing', 'generate', 'generative', 'generaux', 'genesee', 'genesis', 'genetic', 'genevese', 'genewal', 'genii', 'genito', 'genteel', 'gentian', 'gentile', 'gentille', 'gentlemanly', 'gentlest', 'gentlewoman', 'genug', 'genus', 'geoffrey', 'geographic', 'geologists', 'geometric', 'georgetown', 'gerakov', 'germain', 'germanic', 'germinal', 'germination', 'gertrude', 'gesellschaft', 'gesticulated', 'gesticulations', 'gewiss', 'ghent', 'ghostly', 'ghosts', 'gibb', 'gibrard', 'gibson', 'giemsa', 'gifford', 'giggler', 'gilded', 'gimlet', 'ginger', 'gipsy', 'girchik', 'gird', 'girdles', 'girlfriend', 'girlishly', 'git', 'gladden', 'gladsome', 'glandulae', 'glasgow', 'gleaned', 'glen', 'glenoid', 'glinka', 'glints', 'glisten', 'glistened', 'gloria', 'glorify', 'glossal', 'gloucester', 'glum', 'glumly', 'gluttony', 'gnashed', 'gnashing', 'gnaws', 'goaded', 'goading', 'goalkeeper', 'goats', 'goatskin', 'gobble', 'gobelin', 'goddaughter', 'godlike', 'godmother', 'goldbach', 'golf', 'golukhovski', 'gomez', 'gong', 'gonococci', 'goodby', 'goodly', 'goodwill', 'goodwins', 'gorchakov', 'gorgeous', 'gorilla', 'gosling', 'gosp', 'gossamer', 'gossiping', 'gossner', 'gott', 'gottsreich', 'gouged', 'gouvernement', 'governeor', 'gowers', 'grab', 'grabs', 'gracchus', 'gracieux', 'gracilis', 'graduates', 'grady', 'graecorum', 'graf', 'graham', 'grammatical', 'grandchildren', 'grandees', 'grandfathers', 'grandiloquent', 'grandiloquently', 'grandly', 'grands', 'granite', 'granny', 'granulomata', 'granulosum', 'grapes', 'graph', 'graphics', 'grappled', 'gras', 'grasseyement', 'grasshoppers', 'grassland', 'grassy', 'gratuitous', 'gratuity', 'graveled', 'graven', 'gravest', 'gravid', 'gravitated', 'grayish', 'graze', 'grecian', 'greed', 'greenhouse', 'greenwich', 'grewsome', 'grice', 'grid', 'gridneva', 'griffiths', 'grime', 'grimke', 'grimly', 'grist', 'grit', 'gritti', 'gritty', 'grms', 'groat', 'grocer', 'grooving', 'gros', 'grossich', 'grossvater', 'groves', 'growl', 'growling', 'gruesome', 'gruffly', 'grumble', 'grumpy', 'grunted', 'gruntersdorf', 'grunts', 'guai', 'guaiacol', 'guardians', 'guatemala', 'guesses', 'guewilla', 'guffaw', 'guideline', 'guild', 'guile', 'guillotined', 'guiltlessness', 'gulled', 'gulped', 'gummed', 'gurgle', 'gurgling', 'gush', 'gushers', 'gushes', 'gushing', 'gustave', 'gusto', 'guthrie', 'gutta', 'gutted', 'guttered', 'guttering', 'gutters', 'gwace', 'gweat', 'gwief', 'gwiska', 'gwovel', 'gwown', 'gwudge', 'gymnastics', 'gzhat', 'habeus', 'habitations', 'hacked', 'haemic', 'haemolysis', 'haemophilics', 'haemophylics', 'haemorrhoids', 'haemostasis', 'hafiz', 'hairdressing', 'hairless', 'haitian', 'hale', 'haled', 'hallooing', 'hallucinations', 'hamlet', 'hamlets', 'hamlin', 'hammond', 'hampden', 'hampering', 'hampton', 'hancocks', 'handbills', 'handcuffed', 'handcuffs', 'handedness', 'handicapping', 'handicraft', 'handiest', 'handiwork', 'handleless', 'handrails', 'handsomest', 'haney', 'hangings', 'hankey', 'hanna', 'hannibal', 'hanoverian', 'hanoverians', 'hans', 'hansoms', 'harassing', 'harbingers', 'harbored', 'harboured', 'hardenburg', 'hardening', 'hardihood', 'hardtack', 'harley', 'harmonies', 'harmonises', 'harmonium', 'harmonize', 'harmonized', 'harnessing', 'harold', 'harrier', 'harrisburg', 'harrying', 'harsher', 'harvesters', 'harvey', 'hasp', 'hastings', 'hatched', 'hatchet', 'hatest', 'hatters', 'haugwitz', 'hauled', 'haulers', 'haunches', 'haute', 'hawked', 'hayfield', 'hayfork', 'hayling', 'hays', 'hazarded', 'hazardous', 'headgear', 'headings', 'headline', 'headmaster', 'headstrong', 'headway', 'heah', 'healers', 'hearings', 'hearken', 'hearst', 'hearth', 'heartrending', 'heathens', 'heating', 'heavers', 'heaviest', 'hecker', 'hectare', 'heeded', 'heeled', 'heelless', 'heinous', 'helicopter', 'heligoland', 'hello', 'helm', 'helmets', 'helpmeet', 'helter', 'hemoplastin', 'hendricks', 'henker', 'henri', 'henrietta', 'heralds', 'herbivora', 'herculean', 'herder', 'hereinbefore', 'hereof', 'hereunto', 'hermitage', 'herniated', 'herniotomy', 'heroically', 'heroine', 'hesitations', 'hesse', 'heteroplastic', 'hetty', 'hetzelsdorf', 'hew', 'hewed', 'hewins', 'hieroglyphics', 'highfalutin', 'highnesses', 'highroads', 'hillsdale', 'hillsides', 'hilltop', 'hilly', 'hindenburg', 'hindrances', 'hindu', 'hinge', 'hinsdale', 'hiram', 'hirelings', 'hise', 'histologically', 'histology', 'historically', 'hitched', 'hits', 'hittel', 'hoax', 'hobart', 'hobbies', 'hobbledehoy', 'hobnob', 'hochgeboren', 'hockey', 'hodder', 'hoes', 'hofmarschal', 'hohenlohe', 'hohenzollern', 'hoisted', 'holies', 'hollowed', 'holly', 'holocausts', 'holt', 'holyoke', 'homelike', 'homemakers', 'homeopaths', 'homer', 'homesteaders', 'homework', 'homosexual', 'honduras', 'honeur', 'honeyed', 'honeymoons', 'hongkong', 'honolulu', 'honorably', 'honoria', 'honoring', 'honoured', 'honowably', 'hooded', 'hooks', 'hooped', 'hoosier', 'hop', 'hopefully', 'horatio', 'horizons', 'horizontally', 'hornets', 'horsecloth', 'horseflies', 'hosanna', 'hostage', 'hostel', 'hostelry', 'hotch', 'hottest', 'hough', 'hourra', 'hourwich', 'houseful', 'householders', 'housekeeping', 'hovels', 'howwible', 'hoy', 'htm', 'hubs', 'huckster', 'huffed', 'hug', 'hugo', 'humanitarian', 'humanum', 'humbled', 'humbler', 'humdrum', 'humid', 'humidity', 'humiliations', 'humorist', 'humorously', 'humoured', 'humours', 'hump', 'hunchback', 'hunched', 'hunching', 'hundredfold', 'hundredweight', 'hungrily', 'huntington', 'hurricane', 'husbandmen', 'hushing', 'huskily', 'husks', 'hussies', 'hussy', 'hustling', 'hyde', 'hydra', 'hydrarg', 'hydrarthrosis', 'hydrate', 'hydraulics', 'hydrocephalus', 'hydrochlorate', 'hydrochloride', 'hydrocyanic', 'hydrophobicus', 'hyoscin', 'hyperplastic', 'hypertrophies', 'hypnotics', 'hypochondria', 'hypocrisy', 'hypocrite', 'hypothetical', 'ianovich', 'ibid', 'icebags', 'icel', 'iceland', 'ich', 'ichabod', 'ichthyma', 'icteric', 'id', 'ideally', 'identically', 'ideological', 'ideology', 'idiocy', 'idioms', 'idiosyncrasy', 'idled', 'idler', 'idlers', 'idolatry', 'idolized', 'ignatevna', 'ignatka', 'ignatovich', 'ignatych', 'ignoramuses', 'ignores', 'ignoring', 'ignotum', 'ilagins', 'ileum', 'iliacs', 'iliad', 'iligin', 'ilii', 'illicit', 'illimitable', 'illuminate', 'illuminati', 'illuminations', 'illustrates', 'ilyinka', 'imaginations', 'imaginings', 'imbedded', 'imbibe', 'imbibed', 'imitates', 'imitators', 'imlay', 'immaculate', 'immemorial', 'immensity', 'immersing', 'immobile', 'immortally', 'immovability', 'immovable', 'immunise', 'immutability', 'imp', 'impairing', 'impairs', 'impalpable', 'impartiality', 'impartially', 'impeached', 'impeachments', 'impede', 'impediment', 'impeding', 'impel', 'impelling', 'impels', 'imperatively', 'imperator', 'imperilled', 'impermeability', 'impersonal', 'impersonate', 'imperturbably', 'impetigo', 'impious', 'implacable', 'implement', 'implementation', 'impolite', 'impolitely', 'impoliteness', 'importantly', 'importunities', 'importunity', 'impost', 'impostors', 'imposture', 'impregnable', 'impresses', 'impressing', 'imprint', 'improbabilities', 'improvisations', 'imprudent', 'imprudently', 'impugned', 'impulsively', 'impulsiveness', 'impurity', 'impute', 'inaccessibility', 'inadequately', 'inadvertent', 'inadvertently', 'inalienable', 'inanition', 'inappropriately', 'inapt', 'inarticulate', 'inattentively', 'inaudible', 'incapacitated', 'incapacitates', 'incapacitating', 'incendiarisms', 'incentive', 'incisors', 'incitement', 'incites', 'inciting', 'incivility', 'inclines', 'inclosure', 'incommensurate', 'incompetence', 'incompetency', 'incompletely', 'inconclusive', 'inconsequent', 'inconsequential', 'inconsiderable', 'inconsistency', 'inconsolable', 'inconstancy', 'incontestably', 'inconveniencing', 'inconveniently', 'incorporating', 'incorrectly', 'incriminate', 'incubating', 'incurable', 'incursions', 'incurved', 'ind', 'indecent', 'indecorous', 'indefiniteness', 'indemnities', 'indentations', 'indentures', 'independency', 'indexing', 'indianapolis', 'indianians', 'indicator', 'indicted', 'indicting', 'indictments', 'indigenous', 'indignities', 'indignity', 'indirection', 'indiscreetly', 'indiscretions', 'indiscriminately', 'inditing', 'individu', 'indomitable', 'indoor', 'indorsement', 'indrawing', 'inducement', 'inducements', 'industrialized', 'industrially', 'ineffective', 'ineffectiveness', 'ineffectives', 'ineffectual', 'ineffectually', 'inefficiency', 'inelegant', 'ineligible', 'inequitable', 'inertiae', 'inexperience', 'inexpressible', 'inextricably', 'infamies', 'infamy', 'inferiority', 'infested', 'infidelity', 'infiltrations', 'infirmaries', 'infirmity', 'inflames', 'inflated', 'infliction', 'inflicts', 'infolding', 'informality', 'informally', 'informant', 'informer', 'infraction', 'infractions', 'inframaxillary', 'infraspinous', 'infrastructure', 'infringe', 'infringements', 'infringers', 'infringes', 'ingest', 'ingested', 'ingesting', 'ingestion', 'ingratiatingly', 'ingredient', 'ingress', 'inhabit', 'inhale', 'inherently', 'inheres', 'inhibiting', 'inhibition', 'inhumane', 'inhumanity', 'inhumanly', 'inimically', 'inimitably', 'iniquities', 'iniquity', 'initially', 'initiatives', 'initiator', 'inkpot', 'inman', 'inmate', 'inmost', 'innards', 'innermost', 'innkeepers', 'innovative', 'inoculations', 'inoperative', 'inopportune', 'inordinate', 'input', 'inquirer', 'inquires', 'inscribe', 'insecure', 'insecurity', 'insensate', 'insensible', 'insensitiveness', 'inseparably', 'inserting', 'insertions', 'insider', 'insignia', 'insincerity', 'insistent', 'insistently', 'insolubly', 'insomnia', 'inspirited', 'inspissated', 'instal', 'install', 'installments', 'installs', 'instants', 'instep', 'instigating', 'instigator', 'instilled', 'institutes', 'instituting', 'institutional', 'instrumental', 'insufferable', 'insufficiency', 'insupportable', 'insured', 'insurgent', 'insurmountably', 'insurrectionary', 'insurrectionists', 'insusceptible', 'intake', 'integrate', 'integrated', 'integrating', 'intendant', 'intensify', 'intensifying', 'intentional', 'intentness', 'intents', 'interact', 'interactions', 'interactive', 'interceded', 'intercepted', 'interchangeable', 'interconnected', 'interface', 'interlacing', 'interlarding', 'interlines', 'interlocking', 'interlocutor', 'interlopers', 'intermediacy', 'interminable', 'interminglings', 'intermission', 'intermit', 'intermittently', 'internally', 'internet', 'internode', 'interposition', 'interregnum', 'intersect', 'intersecting', 'interspersed', 'interstices', 'intertarsal', 'intertwined', 'intervenes', 'interwoven', 'intestate', 'intestines', 'intimated', 'intimation', 'intimidate', 'intimidating', 'intimite', 'intolerant', 'intothe', 'intoxicatingly', 'intoxications', 'intravenously', 'intrench', 'intricacy', 'introduces', 'introspect', 'intrusions', 'intuitions', 'inured', 'invective', 'inventing', 'inventive', 'inventories', 'investigator', 'investors', 'inveterate', 'invigorating', 'inviolable', 'inviolate', 'invites', 'invitingly', 'invoke', 'invoked', 'involuted', 'involution', 'invulnerable', 'iodi', 'iodism', 'ion', 'iota', 'iowans', 'ipatka', 'ipecacuanha', 'irascibility', 'irate', 'ire', 'irina', 'irishman', 'irishmen', 'irons', 'irrationally', 'irreconcilable', 'irreconcilables', 'irreconcilably', 'irredeemably', 'irregularities', 'irrepressibly', 'irresponsive', 'irrevocability', 'irrigate', 'irrigating', 'irritations', 'isaac', 'isabel', 'isaiah', 'ischium', 'ishmael', 'isles', 'ism', 'ist', 'italicized', 'itchiness', 'itchy', 'itinerant', 'iting', 'ivanovs', 'ja', 'jabber', 'jacks', 'jacques', 'jaded', 'jaffa', 'jailed', 'jake', 'jamais', 'jan', 'janet', 'jazz', 'jealo', 'jealously', 'jean', 'jeans', 'jeff', 'jeffersonians', 'jehovah', 'jenks', 'jennies', 'jeopardized', 'jerkin', 'jerkings', 'jerks', 'jesters', 'jeweller', 'jezail', 'jimmy', 'joan', 'jobbing', 'jockey', 'joconde', 'jocose', 'jocularity', 'jocularly', 'joe', 'joel', 'johnny', 'johnston', 'jokingly', 'jolies', 'jollification', 'jolt', 'jordan', 'jose', 'jottings', 'journ', 'journeying', 'joylessly', 'joyousness', 'jubilant', 'judah', 'judas', 'judgeships', 'judgments', 'judith', 'judy', 'jugoslavia', 'jugs', 'juiciness', 'juliet', 'julius', 'julner', 'jumble', 'jupiter', 'jurist', 'juryman', 'justiciable', 'justifiability', 'justinian', 'justness', 'justo', 'jutted', 'jutting', 'juvenile', 'ka', 'kaftans', 'kakistocracy', 'kalamazoo', 'kalaw', 'kalisch', 'kamensky', 'kari', 'karlovich', 'kaska', 'katherine', 'kearney', 'keepers', 'kempis', 'kempt', 'kendall', 'kennelman', 'kennelmen', 'kenneth', 'kensington', 'kentuckians', 'keogh', 'kepler', 'keratoma', 'keratomata', 'kerchiefs', 'kerseys', 'kettles', 'khan', 'khandrikov', 'kibitka', 'kicking', 'kicks', 'kidnap', 'kidnapped', 'kikin', 'kilometre', 'kinaesthetic', 'kindlier', 'kinetic', 'kingly', 'kinship', 'kinswoman', 'kirk', 'kiselev', 'kishenev', 'kite', 'kittenish', 'kitty', 'km', 'knack', 'knaggs', 'kneaded', 'kneading', 'knell', 'knobs', 'knockings', 'knotty', 'knuckles', 'koko', 'kolya', 'komarov', 'komoneno', 'kondratevna', 'konigsberg', 'kopeks', 'korniki', 'koslovski', 'kovno', 'kremenchug', 'krieg', 'krishna', 'krug', 'kudrino', 'kurbski', 'kursk', 'kurskies', 'kuz', 'kvas', 'kwudener', 'lab', 'labelled', 'laboratories', 'labourers', 'labours', 'lacrymal', 'lactate', 'lacteals', 'lactic', 'ladykins', 'ladyship', 'lafa', 'laggards', 'laguna', 'lair', 'laissez', 'lambach', 'lambkin', 'lambs', 'lamentable', 'lamentation', 'lamentations', 'laments', 'lancashire', 'lancers', 'lancet', 'lanciers', 'landgrave', 'landlordism', 'landmarks', 'landslide', 'lanfrey', 'langham', 'languished', 'laocoon', 'lapsing', 'largish', 'lark', 'larry', 'larvae', 'las', 'laser', 'lashing', 'latecomers', 'lateness', 'lateralis', 'lathering', 'latrines', 'latvia', 'lauck', 'laughers', 'laughlin', 'launching', 'lava', 'lavater', 'lavender', 'lavishly', 'lavwuska', 'lawbreaking', 'lawford', 'lawfulness', 'lawlessness', 'lawmakers', 'lawton', 'layman', 'layout', 'lazarchuk', 'laziness', 'lb', 'lea', 'leaded', 'leaden', 'leadville', 'leafy', 'leak', 'learner', 'learnt', 'leasing', 'leathery', 'lebanon', 'lecturer', 'ledderhose', 'ledgers', 'lediard', 'leeds', 'legalizing', 'legations', 'legends', 'leggings', 'legible', 'legislator', 'legitimation', 'legitimist', 'legree', 'leipsic', 'leishman', 'leisler', 'lemarrois', 'lembert', 'lemons', 'leniently', 'lenity', 'lenox', 'lenses', 'lentelli', 'lenten', 'leon', 'leonine', 'leopard', 'leper', 'leprous', 'leslie', 'lessening', 'lessens', 'lesseps', 'letashovka', 'lethargy', 'leucin', 'leukaemia', 'levellers', 'levels', 'levi', 'leviathan', 'levies', 'levity', 'lexical', 'li', 'liabilities', 'liaison', 'liberalism', 'liberality', 'liberally', 'liberating', 'liberia', 'librarian', 'licence', 'licentiousness', 'lichtenfels', 'lichtenstein', 'licks', 'lidded', 'liebchen', 'lifespan', 'lifestyle', 'liffs', 'ligate', 'lightened', 'lightheartedly', 'lighthorse', 'ligne', 'likelier', 'lilies', 'liliuokalani', 'limbed', 'limbered', 'limbo', 'limes', 'limply', 'limps', 'lineage', 'lingo', 'linguistic', 'linimentum', 'linoleum', 'linseed', 'linsey', 'linz', 'lions', 'lipetsk', 'lipoid', 'liquefying', 'lis', 'lisa', 'lisp', 'lispingly', 'listlessly', 'listlessness', 'litany', 'litashevka', 'litchfield', 'literal', 'literate', 'lithe', 'lithuania', 'litigants', 'litigation', 'litre', 'liveries', 'livonian', 'liza', 'llewellyn', 'lo', 'loafing', 'loam', 'loath', 'loathe', 'loathed', 'lobingier', 'lobster', 'localise', 'localising', 'localities', 'locate', 'locating', 'lockup', 'locomotion', 'loculi', 'locus', 'lodes', 'lodi', 'loftiest', 'loftily', 'logement', 'logging', 'logician', 'login', 'loi', 'loin', 'loins', 'loitering', 'lolling', 'lombard', 'londoners', 'lonelier', 'lonesome', 'longshoremen', 'longtemps', 'loofah', 'loophole', 'loopholes', 'looseness', 'loosening', 'loots', 'lopped', 'lopukhins', 'loquacious', 'loquacity', 'lording', 'lordling', 'lore', 'lorry', 'lothman', 'lottery', 'louse', 'lout', 'lovayski', 'lovejoy', 'loveliness', 'lowed', 'lowers', 'lowliest', 'lowly', 'lows', 'loyalist', 'lozenge', 'lozenges', 'ltd', 'lubomirski', 'lubricant', 'lucia', 'lucidum', 'luckily', 'lucretia', 'ludicrous', 'luff', 'luke', 'lukich', 'lunched', 'lunching', 'lunchtime', 'lurching', 'lush', 'luster', 'lustrous', 'lusty', 'luteum', 'luther', 'lutheran', 'lutherans', 'luthers', 'luxations', 'luxemburg', 'luxuriantly', 'luxuriously', 'lvovich', 'lvovna', 'ly', 'lymphangitic', 'lynch', 'lyons', 'lyre', 'lyric', 'lyrical', 'lysol', 'lyubim', 'mabel', 'mac', 'machinations', 'macked', 'mackenna', 'mackes', 'mackintosh', 'maclachan', 'macular', 'madcap', 'maddened', 'madere', 'madmen', 'madmoiselle', 'madonna', 'maggot', 'maggoty', 'magically', 'magnanimously', 'magnet', 'magnifico', 'magnified', 'magnolia', 'magyars', 'mahan', 'maidens', 'maim', 'mainframe', 'mains', 'mainstream', 'maistre', 'maitre', 'maitresse', 'maize', 'majesties', 'majora', 'majus', 'maketh', 'makings', 'makins', 'maksim', 'mala', 'maladies', 'malakhov', 'malarial', 'malay', 'malbrook', 'malcontent', 'malcontents', 'malefactors', 'malformation', 'malformations', 'malgre', 'malheureux', 'malign', 'malignantly', 'malignity', 'malingerers', 'mall', 'malnutrition', 'malt', 'malvinas', 'mameluke', 'mammal', 'mammas', 'mamontov', 'manageress', 'managerial', 'manchuria', 'mandate', 'mandatories', 'manfully', 'mange', 'manger', 'mangled', 'manhattan', 'manifessto', 'manifesting', 'manifestly', 'manipulate', 'manipulated', 'manipulates', 'manless', 'mann', 'manna', 'manning', 'manoeuvered', 'manoeuvre', 'manoevered', 'manpower', 'manque', 'mansfeld', 'mansfield', 'mantles', 'manufactory', 'manured', 'manures', 'mapping', 'marat', 'marathon', 'maraude', 'marbled', 'marco', 'marechaux', 'marengo', 'margaux', 'marian', 'marin', 'marius', 'marketing', 'markings', 'marlborough', 'marm', 'marne', 'marred', 'marries', 'marshalls', 'marshes', 'marston', 'martinet', 'martinists', 'martyrlike', 'martyrs', 'marvel', 'marveled', 'marveling', 'marvelously', 'marx', 'marxian', 'massacres', 'massasoit', 'masterpiece', 'matched', 'matchmaker', 'mathematician', 'mathematicians', 'mather', 'matheson', 'mathilde', 'matreshka', 'matrevna', 'matrimonial', 'matt', 'matting', 'mattock', 'mattress', 'maturing', 'matveich', 'maude', 'maudlin', 'maudsley', 'maurice', 'mauritius', 'mautern', 'mawr', 'maxillae', 'maxims', 'maxwell', 'mayest', 'mayonnaise', 'mazuwka', 'mcclintock', 'mcfarlane', 'mclaughlin', 'mcquire', 'md', 'meagre', 'meanest', 'meaningful', 'meaninglessly', 'meanings', 'meany', 'measurable', 'meatal', 'mechanicks', 'meckel', 'mecklenburgers', 'meddler', 'mediaeval', 'mediastinal', 'mediate', 'mediators', 'medicinally', 'medico', 'medieval', 'meditated', 'meditations', 'medius', 'medvedev', 'medyn', 'meekest', 'meg', 'mein', 'meinen', 'melancholie', 'melbourne', 'mele', 'melk', 'melodious', 'melodramatically', 'melts', 'membra', 'meme', 'memoir', 'memoranda', 'menacingly', 'menard', 'mendacious', 'mendicant', 'mendicants', 'mendota', 'menendez', 'meningeal', 'meningen', 'meningocele', 'meniscus', 'mentality', 'menthol', 'menu', 'mercenaries', 'meredith', 'merger', 'merges', 'meridian', 'merite', 'merited', 'meritorious', 'merritt', 'merveille', 'mesalliance', 'mesdames', 'mesh', 'meshchanski', 'meshkov', 'mesial', 'mesoblastic', 'mesopotamia', 'mesquite', 'messengers', 'messrs', 'metacarpus', 'metamorphosis', 'metaphor', 'metaphorically', 'metaphysical', 'metatarsus', 'mete', 'meted', 'metempsychosis', 'metes', 'methinks', 'methode', 'methodical', 'methodically', 'methodology', 'methylene', 'metier', 'metre', 'metronome', 'mettle', 'meyer', 'microbes', 'microphone', 'microscopically', 'middlesex', 'middling', 'midfield', 'midges', 'midsummer', 'mifflin', 'mightily', 'mike', 'mikhelson', 'mikolka', 'mikulicz', 'milashka', 'mileage', 'miliary', 'militarism', 'militarist', 'militarymen', 'milking', 'milldam', 'mille', 'millimetre', 'millimetres', 'milliners', 'millionairess', 'millionth', 'millis', 'millpool', 'miloradoviches', 'milton', 'mimicking', 'min', 'minimal', 'minimize', 'minimizing', 'minion', 'ministerial', 'minora', 'minorca', 'mint', 'mintage', 'minuit', 'minus', 'minutemen', 'miracles', 'miriam', 'mironov', 'mirthful', 'misadventure', 'miscalculated', 'miscarriages', 'miscarried', 'mischance', 'misconduct', 'miscreant', 'misdeeds', 'misdemeanors', 'misericorde', 'misinformed', 'misjudged', 'mislead', 'mismanaged', 'mismanagement', 'misplaced', 'misrepeated', 'misrule', 'missionary', 'missis', 'misspelled', 'missy', 'mistook', 'mistrusting', 'mists', 'misunderstand', 'misunderstood', 'mitigates', 'mitrofanych', 'miwacle', 'miwonov', 'mlle', 'mm', 'mmm', 'mo', 'mobbed', 'mobbing', 'mocked', 'mockingly', 'models', 'moderating', 'module', 'moines', 'mokhavaya', 'mokhovaya', 'moldavian', 'molded', 'molecule', 'molested', 'molibre', 'molle', 'molliten', 'momburg', 'momenta', 'momentarily', 'monarchist', 'monarchists', 'mondays', 'moneyed', 'monger', 'mongrel', 'monitoring', 'monocrat', 'monologue', 'monomaniac', 'monopolists', 'monopolized', 'monopolizers', 'monosyllable', 'monro', 'montcalm', 'montdidier', 'montmorencys', 'moody', 'moonless', 'morale', 'moravian', 'mori', 'moribund', 'morley', 'moroccan', 'moroseness', 'morrant', 'morristown', 'morsel', 'morsels', 'mortals', 'mortify', 'mortifying', 'mortimer', 'morton', 'moschcowitz', 'moscovite', 'moslem', 'mosquee', 'mosquito', 'motherland', 'motherless', 'motif', 'motivate', 'motivation', 'motorist', 'motorway', 'mott', 'mottled', 'mottling', 'mounds', 'mounseer', 'mourn', 'mourned', 'mousseline', 'moustached', 'mouthpiece', 'movie', 'mowed', 'mowers', 'moyens', 'moyka', 'mt', 'mucin', 'mucius', 'mucus', 'muddling', 'muddying', 'mudrov', 'muff', 'mufti', 'mulled', 'multimedia', 'multitudes', 'mundi', 'munich', 'munificent', 'murfreesboro', 'murky', 'murray', 'muscovy', 'muscularis', 'muse', 'musketeers', 'muss', 'musty', 'mutation', 'mutations', 'muter', 'mutilans', 'mutilation', 'mutineers', 'mutinous', 'mutterings', 'muzzled', 'mycotic', 'myelia', 'myeloid', 'myelomatosis', 'myomas', 'myriads', 'mythological', 'mythology', 'naiv', 'nan', 'nancy', 'nankeen', 'naphthol', 'napkins', 'narcotisation', 'nares', 'narrators', 'narrowings', 'narrows', 'naryshkina', 'naryshkins', 'nascent', 'nataisha', 'natalia', 'nates', 'nathanael', 'nationalists', 'nationalizing', 'nationally', 'naturalization', 'nautical', 'navigators', 'navvies', 'navvy', 'neapolitans', 'neared', 'nebulous', 'necklaces', 'necktie', 'necroses', 'nee', 'needing', 'needy', 'nefarious', 'neffer', 'negatived', 'negligent', 'negligently', 'negotiates', 'nehmen', 'neighborhoods', 'neilsen', 'neisser', 'neithah', 'nelson', 'neoplasms', 'nephews', 'nephritis', 'nephroma', 'nervorum', 'neskuchny', 'ness', 'nestlings', 'nether', 'netherlands', 'nets', 'neurasthenia', 'neuroglia', 'neuromata', 'neutralised', 'neverovski', 'newburyport', 'newcastle', 'newest', 'newfoundland', 'newness', 'newsboys', 'newsmonger', 'newtown', 'nexus', 'nicer', 'nicest', 'niceties', 'niches', 'nick', 'nickel', 'nieces', 'nigel', 'nigger', 'nightfall', 'nightingales', 'nightly', 'nightshirt', 'nighttime', 'nikanorovich', 'nikitenko', 'nikolievich', 'nikolski', 'nikulins', 'nimrod', 'nina', 'nineties', 'nipper', 'nipples', 'nippon', 'nitrogenous', 'nl', 'nm', 'noah', 'nobler', 'noblesse', 'nobodies', 'nocturne', 'nocturnes', 'noel', 'noised', 'noisome', 'nonchalance', 'nonchalantly', 'nonconformist', 'nondescript', 'nonentity', 'nonetheless', 'nonhuman', 'nonintervention', 'nonmilitary', 'nonmoral', 'nonperformance', 'nonreceipt', 'noonday', 'noose', 'norm', 'normalize', 'normalized', 'norman', 'normandy', 'northerners', 'northumberland', 'nos', 'notified', 'notify', 'notifying', 'notochord', 'notres', 'nought', 'nov', 'nova', 'novarsenbillon', 'novice', 'novikov', 'novocaine', 'noxa', 'noxious', 'nullifies', 'numbed', 'numskull', 'nur', 'nursemaids', 'nurtured', 'nutshell', 'ny', 'nymphe', 'oar', 'oars', 'oasis', 'ober', 'obese', 'objectives', 'objectors', 'obliges', 'obligingly', 'obliquity', 'obliterative', 'obregon', 'obs', 'obscurely', 'obscures', 'obscurities', 'obsequious', 'obsessed', 'obtrude', 'obtruded', 'obtuseness', 'obviates', 'occident', 'occlusive', 'occupancy', 'occupants', 'occupational', 'occupiers', 'occuring', 'oceanic', 'ochakov', 'oct', 'octavo', 'octogenarians', 'oculi', 'oculomotor', 'oddly', 'odds', 'ode', 'odyntsova', 'oestreicher', 'offahd', 'offenser', 'officiating', 'officier', 'officious', 'ogden', 'oho', 'oiled', 'oils', 'ojibways', 'ok', 'ole', 'olin', 'olney', 'om', 'omaha', 'omelet', 'omens', 'ominously', 'omne', 'omnipotence', 'omnipresent', 'omniscience', 'oncoming', 'ong', 'onions', 'onlooker', 'onrush', 'onslaught', 'ont', 'onterkoff', 'onufrich', 'onya', 'oooh', 'oozes', 'opal', 'opecacano', 'openness', 'openwork', 'operable', 'operatic', 'operational', 'operators', 'ophthalmoscope', 'ophthalmoscopic', 'opponens', 'oppressively', 'opsonin', 'opt', 'optic', 'optical', 'optimistic', 'optional', 'oracle', 'oranges', 'orchard', 'orchards', 'ordains', 'ordinated', 'ordynka', 'oreille', 'organically', 'organisational', 'organise', 'organiser', 'organismal', 'organizational', 'orientals', 'orientation', 'orlovs', 'orthopaedic', 'oscar', 'oscillated', 'oscillates', 'oscillating', 'oscillation', 'ossify', 'ostensible', 'ostensibly', 'ostentatiously', 'osteoclasts', 'osteogenetic', 'osteosarcoma', 'osteosclerosis', 'osteotomy', 'ostralitz', 'ostrogorski', 'ostrolenka', 'otorrhoea', 'otto', 'oublie', 'oudinot', 'oui', 'ousting', 'outbuildings', 'outcast', 'outcries', 'outdistanced', 'outdo', 'outdoing', 'outfits', 'outflanked', 'outflankings', 'outgallop', 'outhouse', 'outhouses', 'outing', 'outlaw', 'outlets', 'outlining', 'outraged', 'outraging', 'outran', 'outrivaled', 'outsiders', 'outsides', 'outstrips', 'outvying', 'outweighs', 'ovale', 'ovations', 'ovens', 'overbalance', 'overbalancing', 'overbear', 'overbearing', 'overboots', 'overburdened', 'overcast', 'overcrowded', 'overdid', 'overdue', 'overfat', 'overfed', 'overhauling', 'overhearing', 'overhung', 'overjoyed', 'overlaid', 'overlay', 'overlie', 'overloaded', 'overpayment', 'overran', 'overriding', 'overrule', 'overruled', 'oversea', 'overseen', 'overshadowing', 'overshoes', 'oversight', 'overstepped', 'overstocked', 'overstretched', 'overstrung', 'overtakes', 'overtures', 'overturn', 'overturning', 'overview', 'overwhelmingly', 'overwork', 'ovo', 'ovum', 'owen', 'owes', 'oxaluric', 'oxfordshire', 'oxidising', 'oz', 'ozaena', 'ozone', 'pachy', 'pachydermatocele', 'pachymeningitis', 'pacifier', 'packages', 'packer', 'packets', 'packhorse', 'padlocked', 'padlocks', 'padre', 'pagan', 'pageboy', 'pagenstecher', 'pagodas', 'pagodes', 'pahlen', 'pails', 'painters', 'paleness', 'palestine', 'pallet', 'palliated', 'palliation', 'palpebral', 'pals', 'palsies', 'palter', 'pampered', 'pamphleteer', 'pamphleteers', 'pancras', 'panelled', 'panelling', 'pangs', 'panins', 'panoply', 'pans', 'papal', 'papier', 'papillomatous', 'para', 'parables', 'paraded', 'paradol', 'paradoxical', 'paraissent', 'parait', 'parallelogram', 'parallels', 'paramandibular', 'parameter', 'paraphrase', 'parce', 'parceled', 'parceling', 'parchments', 'pardoned', 'pardonner', 'pari', 'parisienne', 'parking', 'parlance', 'parley', 'parlour', 'parma', 'parodying', 'paroling', 'paronychia', 'parqueted', 'parry', 'parson', 'parsonage', 'parsons', 'participants', 'participates', 'participating', 'partie', 'partite', 'pashette', 'passe', 'passu', 'pastilles', 'pastoral', 'pasturage', 'pastured', 'pasty', 'patchwork', 'pate', 'patellae', 'patentee', 'paternity', 'patersons', 'pathetically', 'pathfinder', 'pathfinders', 'pathognomic', 'pathognomonic', 'pathologists', 'pathos', 'patrolling', 'patroons', 'patte', 'patter', 'patterns', 'patties', 'patty', 'paula', 'pauncefote', 'paunch', 'paupers', 'pawed', 'pawns', 'paws', 'pawtucket', 'peaceable', 'peaches', 'peanuts', 'peasantry', 'pebble', 'pebbles', 'peche', 'pecked', 'pectorals', 'pedal', 'pedantically', 'peddler', 'peddlers', 'pediculosis', 'peeled', 'peerage', 'peeress', 'peevishly', 'peggy', 'pelisses', 'pelt', 'pemberton', 'penal', 'penalizing', 'penance', 'pendulum', 'penetrans', 'peninsula', 'penitence', 'penitentiary', 'penniless', 'penns', 'pensioner', 'pensioners', 'pent', 'penthouses', 'pentonville', 'perambulator', 'perceives', 'perceiving', 'percent', 'perceptions', 'percha', 'perchance', 'percolating', 'percussed', 'percussing', 'perdere', 'perfidiousness', 'pericranium', 'periglandular', 'perilously', 'perimuscular', 'periodical', 'periodicals', 'periodicity', 'peristalsis', 'peritendinous', 'permanganate', 'permeates', 'permutations', 'perpendicular', 'perpetually', 'perpetuating', 'perseveringly', 'personate', 'personen', 'personified', 'perspire', 'pertinaciously', 'perturb', 'perturbation', 'perusal', 'pervade', 'pervades', 'perverse', 'perversion', 'pervious', 'pest', 'pestering', 'pestewing', 'pesthouse', 'pestilence', 'petal', 'petenka', 'petered', 'peterhof', 'peterkin', 'peters', 'petersbourg', 'petersfield', 'petisenfans', 'petite', 'petrarch', 'petroleum', 'petropol', 'petrous', 'petrushka', 'pets', 'pettifogging', 'petting', 'petulance', 'pfeiler', 'phantasm', 'phantom', 'phantoms', 'pharmacopoeial', 'pharyngitis', 'pheasant', 'phil', 'philanthropic', 'philanthropist', 'philology', 'philosophically', 'philosophies', 'philosophize', 'phlebitic', 'phlebolith', 'phleboliths', 'phlegmonous', 'phlyctenular', 'phoebe', 'phosphates', 'phosphorus', 'photo', 'photographer', 'photographic', 'photophobia', 'pickens', 'picnic', 'picturesquely', 'picturesqueness', 'piebald', 'piecemeal', 'piedmont', 'piedmontese', 'pies', 'pigeonholes', 'pigeons', 'pigments', 'pigmy', 'pigtail', 'pikestaff', 'pilgrimages', 'pill', 'pilots', 'pimple', 'pimples', 'pinchot', 'pinckneys', 'pineapple', 'pinnacle', 'pinnacles', 'pinned', 'pious', 'piquant', 'piquet', 'piracies', 'pirie', 'pistil', 'pitcher', 'pitchfork', 'pitching', 'pithy', 'pities', 'pittance', 'pizarro', 'placarded', 'placement', 'placenta', 'placental', 'plaid', 'plaintiff', 'plaintively', 'planed', 'planked', 'planking', 'planner', 'plannings', 'plantagenet', 'plashed', 'plastun', 'plat', 'plateful', 'platelets', 'plating', 'platitudes', 'plato', 'platonic', 'platoons', 'platosha', 'platovs', 'plattsburgh', 'plaudits', 'playfellow', 'pleadingly', 'pleads', 'pleasantest', 'pleasurable', 'plenary', 'plethoric', 'pleurs', 'pliant', 'plodding', 'plood', 'plottings', 'plough', 'ploughed', 'plover', 'plowing', 'plowland', 'plugged', 'plugging', 'plugs', 'pluie', 'plum', 'plumb', 'plumbers', 'plumper', 'plunies', 'plurality', 'plutocracy', 'ply', 'plying', 'pm', 'pmb', 'pocahontas', 'pock', 'pocketbooks', 'podnovinsk', 'podnovinski', 'podolian', 'poetical', 'poignant', 'pointer', 'poisoner', 'poisonings', 'pokers', 'poky', 'polar', 'polemic', 'poleon', 'polling', 'pollution', 'polly', 'polyglot', 'polymer', 'polypoidal', 'polytechnic', 'pomade', 'pomposity', 'poncet', 'ponder', 'ponies', 'pontiac', 'pontoon', 'pooling', 'poorhouse', 'poppy', 'poppyseed', 'popularization', 'populated', 'populistic', 'porches', 'pores', 'porfirio', 'poring', 'portend', 'portent', 'portentous', 'portionless', 'portray', 'portsdown', 'portsmouth', 'portuguese', 'posed', 'posen', 'poses', 'posnyakov', 'possibilite', 'postage', 'postcard', 'poster', 'posthouses', 'postilions', 'posting', 'postmarks', 'postponement', 'postulant', 'postulated', 'postulates', 'postulating', 'postural', 'potch', 'potentates', 'potentially', 'potier', 'potman', 'potocka', 'pott', 'pottery', 'poughkeepsie', 'pounce', 'powdah', 'powdering', 'powdery', 'powell', 'powerlessness', 'powhatan', 'pox', 'prague', 'prancing', 'pranks', 'praskovya', 'prattle', 'prayerful', 'precautionary', 'preceptor', 'prechistenka', 'precipice', 'precipitance', 'precluding', 'predator', 'predestination', 'predicament', 'predictable', 'predominantly', 'preening', 'preferments', 'preformed', 'preis', 'prejudiced', 'premeditation', 'premise', 'premonition', 'preoccupations', 'preopinant', 'prepares', 'preponderance', 'presage', 'presaging', 'prescribes', 'presentable', 'presentations', 'presentment', 'preserver', 'presidt', 'presnya', 'preston', 'presuming', 'presumptive', 'presupposable', 'pretension', 'pretentiously', 'preternaturally', 'preur', 'prevalence', 'preyed', 'prided', 'pried', 'priesthood', 'prima', 'primeval', 'primiparae', 'primordial', 'principe', 'principes', 'prishprish', 'pritchard', 'privat', 'privatisation', 'privatization', 'prizing', 'probation', 'problematical', 'processor', 'procrastinator', 'procuring', 'prodigal', 'prodigiosus', 'prodigious', 'prodigiously', 'prodigy', 'producer', 'profane', 'professe', 'professedly', 'professionally', 'proficient', 'profitability', 'profiteer', 'profligacy', 'profundus', 'progenitors', 'progeny', 'programming', 'progressively', 'progressivism', 'prohibitionists', 'prohibitions', 'prokhor', 'proletarian', 'prolific', 'prolongation', 'promenade', 'promenades', 'promener', 'promotes', 'prompter', 'prompting', 'promptings', 'promptitude', 'pronged', 'pronunciation', 'proosia', 'propagandists', 'propagation', 'prophesy', 'prophetic', 'propitious', 'proportional', 'proportioned', 'propositions', 'propound', 'propounded', 'propounding', 'proptosis', 'prosaic', 'proscription', 'proscriptions', 'prospecting', 'prostatectomy', 'prostatitis', 'protargol', 'protectionist', 'protectionists', 'protectorates', 'protectors', 'protectress', 'proteolytic', 'protestation', 'proto', 'protracted', 'protrudes', 'provender', 'proverbe', 'provider', 'provisioned', 'provisons', 'provokes', 'provoking', 'provost', 'prowl', 'proximally', 'prudently', 'przazdziecka', 'psalm', 'pseud', 'psychiatric', 'psychic', 'psychologist', 'pua', 'pubis', 'publicist', 'publicists', 'pucker', 'puerperium', 'puget', 'puhse', 'pulex', 'pulls', 'pulpits', 'pulsates', 'pulsed', 'pumped', 'pumps', 'punctually', 'puncturing', 'punt', 'puppy', 'purgation', 'purpurea', 'purpuric', 'pursuant', 'pursues', 'purveyor', 'pushkin', 'putnam', 'putrefying', 'puttee', 'pwh', 'pwiests', 'pwoceed', 'pwomoted', 'pwonounce', 'pwovince', 'pwovisions', 'pyelitis', 'pylorus', 'pyocyanase', 'pyosalpynx', 'pyramid', 'quadratus', 'quadrilateral', 'quahtehmasteh', 'qualifying', 'qualms', 'quanti', 'quantitative', 'quantum', 'quarte', 'quarterly', 'quartette', 'quavering', 'queens', 'queerly', 'quelle', 'quelled', 'quenched', 'queried', 'querulousness', 'questionably', 'questionings', 'questionnaire', 'quests', 'queue', 'quickens', 'quickest', 'quid', 'quieted', 'quilts', 'quincey', 'quire', 'quires', 'quitrents', 'quits', 'quitting', 'quixotic', 'quizzing', 'quod', 'quoits', 'quos', 'quotations', 'quotes', 'quoth', 'ra', 'rabbi', 'rabbits', 'raced', 'rachel', 'racism', 'racked', 'racking', 'raconteur', 'radiate', 'radiates', 'radiation', 'radiations', 'radically', 'radzivilov', 'raevskis', 'rafters', 'rafts', 'rages', 'rah', 'raider', 'raillery', 'raiment', 'rainbow', 'raindrops', 'rainfall', 'raison', 'rambling', 'ramblings', 'ramrods', 'ramshackle', 'ranching', 'ranchman', 'ranchmen', 'rancor', 'randolphs', 'ransack', 'ransom', 'ranvier', 'rapacious', 'rapiers', 'rapped', 'ras', 'rasgulyay', 'rashers', 'rashes', 'rashness', 'rath', 'raths', 'ratifies', 'ratiocination', 'rationally', 'raum', 'ravage', 'ravages', 'raved', 'raveled', 'raven', 'ravenous', 'ravens', 'ravines', 'raving', 'ravish', 'raymond', 'razed', 'razumovski', 'reactor', 'reacts', 'readjusting', 'readjustment', 'readmit', 'readmitted', 'reaffirmed', 'realities', 'realization', 'realizes', 'reams', 'rearing', 'rearrangement', 'reassembled', 'reasserted', 'reassigned', 'reaumur', 'reawaken', 'reawakened', 'reawakening', 'reawoke', 'rebecca', 'rebellious', 'rebirth', 'reborn', 'rebound', 'rebuilt', 'rebukes', 'rebuking', 'rec', 'recanted', 'recast', 'recede', 'receptor', 'recipe', 'recipient', 'recipients', 'reciprocated', 'recital', 'recitation', 'recitations', 'recklessness', 'reckons', 'reclaim', 'reclaimed', 'reclining', 'recognises', 'recognitions', 'recoiled', 'recoils', 'recommence', 'recommending', 'reconciling', 'reconnaissance', 'reconnaissante', 'reconnoiter', 'reconnoitering', 'reconsideration', 'reconstructed', 'reconstructive', 'recorder', 'recording', 'recounts', 'recreational', 'recreations', 'recruited', 'rectangular', 'recto', 'rector', 'rectus', 'recuperate', 'recurrences', 'recurvatum', 'recurved', 'recycle', 'redeemable', 'redeeming', 'redemptioner', 'redemptioners', 'rediscovered', 'redolent', 'redressing', 'redstone', 'redundancy', 'reef', 'reek', 'reeked', 'reeled', 'reeling', 'reestablishes', 'reexamined', 'referee', 'referendums', 'referral', 'refilling', 'refills', 'refine', 'refineries', 'refining', 'refitting', 'refixing', 'reflux', 'refolded', 'refresh', 'refreshingly', 'refrigerator', 'refugee', 'refutation', 'refutations', 'refute', 'refuted', 'refutes', 'regal', 'regatta', 'registers', 'registry', 'regularizing', 'regulates', 'regulatory', 'reharnessed', 'rehearsal', 'rehearsing', 'reheat', 'reid', 'reimbursed', 'reinforcement', 'reinspected', 'reinstate', 'reinstating', 'reiteration', 'rejecting', 'rejoinders', 'rejoining', 'rejuvenated', 'relent', 'relevance', 'relevantly', 'reliability', 'relishing', 'relive', 'relived', 'reload', 'reloaded', 'remanded', 'remarry', 'remission', 'remits', 'remittent', 'remitting', 'remonstrance', 'remorseless', 'remorselessly', 'remortgaged', 'remoteness', 'remount', 'remounted', 'remunerative', 'rendezvous', 'renominating', 'renovation', 'renown', 'rensselaer', 'rental', 'renter', 'renters', 'rentes', 'rentrez', 'repacked', 'repacking', 'repartee', 'repassed', 'repast', 'repeats', 'repenting', 'repents', 'repertoire', 'replaited', 'replaiting', 'replenished', 'repletion', 'reportedly', 'repression', 'reprimanding', 'reproche', 'reproduces', 'reproducing', 'reproductive', 'reproof', 'reproving', 'reprovingly', 'reptile', 'repudiating', 'repudiation', 'repulsively', 'repurchasing', 'reputable', 'reputations', 'requisitions', 'rescinded', 'researcher', 'resentful', 'resenting', 'resentments', 'reservationists', 'reservoir', 'residences', 'residential', 'resignedly', 'resistless', 'resonant', 'resorting', 'resorts', 'respectability', 'respirations', 'respondent', 'responds', 'responses', 'responsive', 'restarted', 'restatement', 'restful', 'restfully', 'restitution', 'restrains', 'resumes', 'resurrection', 'retailer', 'retailing', 'retaliations', 'retard', 'retarding', 'retell', 'retelling', 'reticular', 'retinitis', 'retinues', 'retorts', 'retraced', 'retracting', 'retraite', 'retribution', 'retrieve', 'retrieving', 'retrogressing', 'retrospection', 'retuned', 'reuben', 'reunite', 'reveled', 'revelers', 'revellers', 'revelry', 'reverberate', 'reverberating', 'reverberation', 'revered', 'reverend', 'reverential', 'reverently', 'reveries', 'revert', 'reverting', 'revisions', 'revolved', 'revolvers', 'revolves', 'revolving', 'revulsion', 'rewritten', 'rhapsodies', 'rhinebeck', 'rhipheus', 'rhomboids', 'rhymes', 'ri', 'ribbed', 'ricans', 'richardson', 'ricord', 'riderless', 'ridiculously', 'rien', 'rifts', 'righting', 'rightless', 'ringleader', 'ringworm', 'rinsing', 'rioted', 'rioters', 'rip', 'ripon', 'rippling', 'rire', 'riser', 'risers', 'risky', 'ritchie', 'rituals', 'rivaling', 'riverbank', 'riverbanks', 'rives', 'riveters', 'roadless', 'roadsides', 'roamed', 'roaming', 'robbers', 'robed', 'robertson', 'robespierre', 'robin', 'robs', 'rochester', 'rockefellers', 'roe', 'roguish', 'rohans', 'roller', 'rolls', 'romances', 'romper', 'romping', 'ronde', 'roofless', 'roomier', 'rosa', 'rosebushes', 'rosenkampf', 'rosier', 'rot', 'rotary', 'rotate', 'roth', 'rotterdam', 'rotund', 'rotundum', 'rouged', 'roundabout', 'rounder', 'rounding', 'roux', 'rover', 'rovers', 'rowdy', 'rowe', 'roy', 'royale', 'royaute', 'rrrr', 'rubbishy', 'rubbles', 'rubs', 'rudenesses', 'ruder', 'rudolf', 'rue', 'rueful', 'ruffians', 'ruffled', 'rugby', 'rugged', 'rumbled', 'ruminated', 'rumpled', 'rumyantsovs', 'rurik', 'russie', 'rustan', 'rustchuk', 'rustled', 'rustomjee', 'ruth', 'rutherford', 'ruthlessly', 'ruza', 'ryazana', 'saar', 'sabastiani', 'sabered', 'sabretaches', 'saccharatus', 'saccular', 'sachiez', 'sackful', 'sacramento', 'sacree', 'sacrilegious', 'sacristan', 'sacrospinalis', 'sadden', 'saddened', 'saddest', 'sadovaya', 'safes', 'safi', 'sagebrush', 'sagely', 'sages', 'sailings', 'salem', 'salivation', 'salkindsohn', 'salol', 'salomoni', 'saloon', 'salter', 'salut', 'salutation', 'saluting', 'salve', 'sameness', 'samoset', 'samples', 'sanctified', 'sanctifying', 'sanctioning', 'sandbag', 'sandstone', 'sane', 'santiago', 'saphrophytes', 'sapping', 'saprophytic', 'saragossa', 'sarasate', 'saratov', 'sarco', 'sarcomata', 'sardonic', 'sardonically', 'sargent', 'sashes', 'satan', 'satchels', 'sate', 'satellite', 'satirical', 'satirist', 'satisfies', 'satyr', 'saucepan', 'saucy', 'sauerkraut', 'saul', 'sauntering', 'sausages', 'savageness', 'savants', 'saves', 'savor', 'savored', 'savoring', 'savostyanov', 'sawdust', 'sawies', 'sawing', 'saws', 'sca', 'scabbard', 'scabbards', 'scaevola', 'scala', 'scalawags', 'scald', 'scalenus', 'scalers', 'scalping', 'scamp', 'scampered', 'scan', 'scandinavian', 'scantily', 'scapegraces', 'scarify', 'scatters', 'scenario', 'sceptic', 'sceptre', 'schaudinn', 'schedules', 'schemer', 'scheming', 'schimmelbusch', 'schism', 'schnapps', 'schoolbook', 'schuylkill', 'schwa', 'schwachen', 'schwann', 'schwartzenberg', 'schwarzenberg', 'scientists', 'scolded', 'scopolamin', 'scorbutics', 'scoring', 'scorning', 'scotfree', 'scotia', 'scots', 'scoundwel', 'scoundwels', 'scour', 'scoured', 'scouted', 'scow', 'scowl', 'scows', 'scratches', 'scrawl', 'screws', 'scribble', 'scribes', 'script', 'scrofulous', 'scrotal', 'scrub', 'scrubbed', 'scrunching', 'scrupulously', 'scrutinizingly', 'scudding', 'scullery', 'scullions', 'sculptor', 'scummed', 'scurf', 'scurry', 'scurrying', 'scuttle', 'scythe', 'scythia', 'sd', 'seager', 'seamed', 'seaport', 'sears', 'seashore', 'seaside', 'seasonable', 'seattle', 'secessionist', 'secourable', 'secretariat', 'secrete', 'secretest', 'sectarianism', 'sedan', 'sedateness', 'sedatives', 'sedentary', 'sedgwick', 'sediment', 'seditious', 'sedmoretzki', 'seduced', 'seductive', 'seduisante', 'sedyablyaka', 'seedless', 'seemliness', 'seethed', 'sein', 'seine', 'seizures', 'selivanov', 'selle', 'sellers', 'selvedges', 'semantic', 'semen', 'semicircular', 'semicouncil', 'semidark', 'semifluid', 'semiliterate', 'seminal', 'seminar', 'seminarists', 'seminude', 'semiopen', 'semple', 'senatorial', 'senders', 'senegal', 'seniors', 'senor', 'sens', 'senselessness', 'sensing', 'sensitivity', 'sensori', 'sentimentality', 'sentimentally', 'sentinelles', 'separable', 'separatist', 'separatists', 'septicaemic', 'sequestration', 'serait', 'serajevo', 'serbian', 'serbs', 'serfdom', 'serges', 'serics', 'sermon', 'serpukhov', 'serrated', 'seruvaru', 'server', 'sesame', 'setons', 'settee', 'settings', 'settler', 'sevastyanych', 'sevenths', 'severally', 'severer', 'severn', 'seville', 'sew', 'sewed', 'sewene', 'sexe', 'sexless', 'sexuality', 'sexually', 'sez', 'sg', 'shabbiest', 'shabbily', 'shadowy', 'shah', 'shak', 'shakes', 'shakespeare', 'shale', 'shallowness', 'shamefacedly', 'shamelessly', 'shanties', 'shantung', 'shapovalov', 'shareholder', 'sharpen', 'sharpshooter', 'shatters', 'shcherbatov', 'shcherbitov', 'sheaf', 'sheen', 'sheepish', 'shellfire', 'shenandoah', 'shenkii', 'shepherdesses', 'sheridan', 'sheriff', 'shetland', 'shew', 'shied', 'shielding', 'shiftily', 'shiftiness', 'shifts', 'shines', 'shineth', 'shiningly', 'shinn', 'shinshina', 'shipboard', 'shipbuilder', 'shipment', 'shipper', 'shipwreck', 'shirley', 'shirtlike', 'shit', 'shitov', 'shocking', 'shocks', 'sholto', 'sholtos', 'shortage', 'shortcomings', 'shortest', 'shoved', 'shoveled', 'shoves', 'showering', 'showmen', 'shrapnel', 'shrewdest', 'shrewdness', 'shrewsbury', 'shrillest', 'shrimp', 'shrinkage', 'shrivelling', 'shrub', 'shudders', 'shuffled', 'shun', 'shunned', 'shuya', 'siam', 'sibilant', 'sicily', 'sickened', 'sickroom', 'sidedly', 'sidewalk', 'sifted', 'sifting', 'sightedness', 'sigismond', 'signaler', 'signalers', 'signaling', 'signalled', 'signals', 'signer', 'signers', 'signifies', 'silencing', 'silesian', 'silhouette', 'silhouetted', 'silliness', 'silvered', 'simplehearted', 'simpleton', 'simpletons', 'simplifies', 'simplify', 'simplifying', 'simpson', 'sinclair', 'sinfulness', 'singularity', 'sinks', 'sipped', 'sird', 'sirin', 'sismondi', 'sistine', 'sittings', 'situate', 'sitz', 'sixties', 'skelter', 'skepticism', 'skeptics', 'ski', 'skies', 'skilful', 'skipped', 'skippers', 'skirmish', 'skirmishes', 'skirving', 'skits', 'skittish', 'skullcap', 'skyline', 'skyward', 'slackens', 'slackness', 'slafe', 'slandered', 'slater', 'slaughtering', 'slav', 'slavey', 'slavish', 'sledge', 'sleepily', 'sleepiness', 'slenderest', 'sleuth', 'slices', 'slidell', 'slime', 'slinging', 'slits', 'sloane', 'sloat', 'slobbering', 'sloops', 'slop', 'slot', 'slovaks', 'slovenly', 'slowed', 'sluiceways', 'slump', 'slurred', 'slyboots', 'smalley', 'smallish', 'smallpox', 'smarten', 'smartened', 'smarter', 'smartest', 'smasher', 'smashing', 'smells', 'smelter', 'smelting', 'smirched', 'smithereens', 'smithy', 'smitten', 'smokeless', 'smoker', 'smoother', 'smother', 'smudge', 'sn', 'snack', 'snacks', 'snaffle', 'snail', 'snakish', 'snare', 'sniff', 'snigger', 'snipped', 'sniveling', 'snore', 'snored', 'snowballs', 'snowbanks', 'snowed', 'snowflakes', 'snuffing', 'snuffling', 'snuggling', 'snugly', 'soaking', 'soames', 'soar', 'soared', 'soaring', 'sobered', 'soberly', 'soccer', 'sociological', 'sociology', 'sockets', 'socks', 'socrates', 'sofas', 'soie', 'soilers', 'soiling', 'soils', 'sol', 'solace', 'soldau', 'solder', 'solecism', 'soled', 'solfa', 'solfeggio', 'solicitations', 'solidification', 'solidity', 'solids', 'soll', 'solo', 'solvable', 'solvent', 'solvents', 'somberly', 'somerset', 'sometime', 'sommes', 'somnambulist', 'songstress', 'sontnya', 'soothingly', 'sooty', 'sophism', 'sophisticated', 'sophy', 'soporific', 'sorbier', 'sorbonne', 'sorted', 'sot', 'soto', 'sots', 'sottish', 'souled', 'soulless', 'soundly', 'sount', 'soups', 'soured', 'soused', 'soutenir', 'southerly', 'southerner', 'southerton', 'southwestern', 'souvenir', 'souverain', 'soviet', 'sows', 'soyez', 'soyna', 'spaciously', 'spades', 'spake', 'spangled', 'spaniard', 'spanned', 'spares', 'sparingly', 'sparkles', 'sparrows', 'spasski', 'spatial', 'spears', 'specialise', 'specialists', 'specification', 'specify', 'specifying', 'speciously', 'speckles', 'specter', 'spectrum', 'speculating', 'sped', 'speechless', 'spelled', 'spells', 'spends', 'spendthrift', 'spenser', 'spermaceti', 'spheno', 'spherical', 'sphincters', 'sphinxes', 'spice', 'spicule', 'spiders', 'spikes', 'spiking', 'spill', 'spilt', 'spina', 'spinae', 'spinners', 'spinster', 'spinsters', 'spiritually', 'spirituelle', 'spirituous', 'spitefully', 'spittoon', 'splendor', 'splintered', 'splintering', 'spluttering', 'spokane', 'spoliation', 'sponges', 'spongiopilene', 'sponsored', 'spontaneity', 'spool', 'spools', 'spoonfuls', 'spoons', 'sporadic', 'sporing', 'sporothrix', 'spotless', 'spotswood', 'spouting', 'sprawled', 'spraying', 'sprays', 'sprig', 'sprinkle', 'sprout', 'spruce', 'spurting', 'spyer', 'spyglass', 'spying', 'sq', 'squadwon', 'squalid', 'squander', 'squanto', 'squat', 'squaw', 'squealed', 'squealing', 'squeals', 'squires', 'sta', 'stabling', 'stadium', 'stag', 'stagnating', 'staircases', 'stairway', 'staking', 'stalactite', 'stalked', 'stallions', 'stalwart', 'stammering', 'stance', 'standi', 'stanley', 'stanza', 'starched', 'stares', 'starless', 'starlight', 'starring', 'starwise', 'statesmanlike', 'stationmasters', 'steadfast', 'steadings', 'steals', 'stealth', 'steamers', 'steaminess', 'steed', 'steely', 'steered', 'steffens', 'steins', 'stemmed', 'stench', 'stenographic', 'stentorian', 'stepanovich', 'stepanych', 'stepmothers', 'stepsons', 'stereoscopic', 'stereotyped', 'sterility', 'sterlets', 'sternal', 'sterne', 'sternness', 'steshka', 'steve', 'stevedore', 'stew', 'stiffen', 'stigmata', 'stills', 'stimulatingly', 'stinginess', 'stinking', 'stinted', 'stipulates', 'stipulating', 'stipulation', 'stirling', 'stockinged', 'stockman', 'stockton', 'stoffel', 'stonily', 'stopford', 'stoppage', 'storming', 'stoughton', 'stoves', 'straggler', 'straggly', 'straightens', 'straighter', 'straitened', 'stralsund', 'strangulation', 'strapped', 'strata', 'strategical', 'strategically', 'stratified', 'strauch', 'strawberry', 'streptcoccic', 'stressed', 'strewed', 'striated', 'strictest', 'strident', 'stridulous', 'striker', 'strikers', 'stringently', 'strippers', 'strivings', 'strolling', 'stromilova', 'strongholds', 'strophanthin', 'strophanthus', 'stroud', 'strumming', 'strut', 'stubby', 'stuffs', 'stumble', 'stumpy', 'stunned', 'stunning', 'stunted', 'stupefaction', 'stupefied', 'stupefying', 'stupider', 'stupidly', 'stupor', 'sturdily', 'stuttering', 'stuyvesant', 'stwuck', 'sty', 'stylish', 'suave', 'subcalcanean', 'subcapsular', 'subcarbonate', 'subcrural', 'subdeltoid', 'subduing', 'subjecting', 'subjugated', 'subjugates', 'subjugation', 'sublieutenancy', 'sublimed', 'sublimis', 'sublimity', 'sublingual', 'subscribers', 'subscriptions', 'subsidy', 'subsist', 'subsisting', 'substantiate', 'substantive', 'substitution', 'substitutions', 'subterranean', 'subtleties', 'subtracted', 'suburbs', 'subversion', 'subvert', 'subverted', 'subverting', 'subways', 'successively', 'succinct', 'succour', 'succumbing', 'succumbs', 'sucking', 'sucks', 'sudan', 'suddenness', 'sued', 'sufferance', 'suffocating', 'suffragan', 'sugary', 'suggestiveness', 'suitability', 'suitcase', 'sulky', 'sullivan', 'sulph', 'sulphates', 'sulphide', 'sulphonal', 'sultan', 'sultry', 'summarises', 'summarized', 'summarizing', 'summertime', 'summonses', 'sunbeams', 'sunburnt', 'sundered', 'sundials', 'sundry', 'sunflower', 'sup', 'superabundance', 'superbe', 'supercilious', 'superciliousness', 'superintending', 'supermarket', 'supernaturally', 'supernumerary', 'superscribed', 'superscripted', 'superscription', 'supersede', 'superstitiousness', 'supervened', 'supervised', 'supervisor', 'supervisors', 'supinate', 'supping', 'supplants', 'suppleness', 'suppliant', 'supplication', 'suppliers', 'supposedly', 'supposes', 'supraorbital', 'suprarenin', 'surf', 'surge', 'surging', 'surlier', 'surmised', 'surmounting', 'surname', 'surnames', 'surpliced', 'surrenders', 'surveyors', 'surveys', 'sushchevski', 'suspending', 'suspensions', 'sussex', 'sustenance', 'sutter', 'suvara', 'svayka', 'swabbed', 'swag', 'swaggerer', 'swaggering', 'swaggeringly', 'swamped', 'swank', 'swap', 'swash', 'swearing', 'swears', 'sweated', 'sweats', 'swede', 'sweeps', 'sweetened', 'sweetish', 'swerves', 'swifter', 'swimmer', 'swims', 'swindle', 'swindled', 'swindon', 'swine', 'swishing', 'switched', 'switches', 'swordsman', 'sychophants', 'sycosis', 'sylvan', 'sylvis', 'symbiosis', 'symmes', 'synchondrosis', 'synchronously', 'syncopal', 'syndicalism', 'syndrome', 'synonyms', 'syntactic', 'syria', 'syrian', 'syringo', 'syrupy', 'systole', 'tabetic', 'tableaux', 'tabletop', 'tablets', 'tabor', 'tabulate', 'taciturnity', 'tacked', 'tackled', 'tactic', 'tactile', 'tactless', 'tailing', 'tailless', 'takeover', 'taketh', 'takh', 'talented', 'talker', 'talkers', 'tallied', 'tallish', 'talma', 'tambov', 'tame', 'tamed', 'tampico', 'tangerine', 'tankerville', 'tanks', 'tantalizing', 'tante', 'tapestries', 'tapestry', 'tarred', 'tarry', 'tarrying', 'tarso', 'tassel', 'tasseled', 'tat', 'tate', 'tatterdemalions', 'tattle', 'tattooed', 'taunt', 'taussig', 'taut', 'tavel', 'taxi', 'te', 'tearfully', 'tearless', 'tearworn', 'teased', 'teaspoonful', 'technological', 'technology', 'teddy', 'tedium', 'teemed', 'teenage', 'teenager', 'teetotaler', 'telecommunication', 'telegraphs', 'television', 'teller', 'telly', 'temperamental', 'tempestuous', 'tempore', 'temporize', 'temporized', 'tempts', 'tenable', 'tenders', 'tendinous', 'tenements', 'tenets', 'tennyson', 'tensile', 'tentacles', 'tepid', 'terence', 'terminals', 'terminating', 'terminus', 'terraced', 'terrain', 'terrify', 'terrorising', 'terrorist', 'terrors', 'terse', 'tersely', 'testes', 'testified', 'testimonials', 'tetani', 'thaler', 'thankless', 'thatch', 'theah', 'theatrically', 'thebes', 'thecally', 'thefts', 'thenceforth', 'theorise', 'therapist', 'therapy', 'thereon', 'thereto', 'thermal', 'thermalgia', 'thermogene', 'thickest', 'thicknesses', 'thighbone', 'thimble', 'thinly', 'thinning', 'thins', 'thompson', 'thoreau', 'thoroughness', 'thoughtfulness', 'thoughtlessly', 'thrashed', 'threadbare', 'threescore', 'thresholds', 'throttling', 'thrummed', 'thrumming', 'thrusts', 'thudded', 'thudding', 'thumped', 'thundercloud', 'thundering', 'thunderstorm', 'thunderstorms', 'thurlow', 'thwart', 'thwash', 'thwough', 'thwow', 'thymus', 'thyreo', 'tiara', 'tiberius', 'tick', 'ticking', 'tickle', 'tickled', 'tidal', 'tides', 'tidiness', 'tiens', 'tierce', 'tiers', 'tigers', 'tightening', 'tile', 'tiled', 'tiling', 'tillman', 'tilt', 'tim', 'timbered', 'timed', 'timetable', 'timing', 'timofeevich', 'timothee', 'tinder', 'tinged', 'tingle', 'tiniest', 'tinker', 'tinned', 'tinsel', 'tints', 'tipplers', 'tires', 'tiresomely', 'titi', 'tittle', 'toastmaster', 'tobacconist', 'tocchi', 'tokens', 'tolerably', 'tolerant', 'tolled', 'tollers', 'tolls', 'tolstoi', 'tomahawk', 'tomboy', 'tombs', 'tombstones', 'tomfoolery', 'tommy', 'tompkins', 'tongs', 'tonne', 'tonus', 'tony', 'toothed', 'topcheenko', 'topeka', 'torban', 'torches', 'tornado', 'torpedoed', 'torpedoes', 'torrents', 'tortures', 'tottering', 'touche', 'touchpans', 'toujours', 'toured', 'tourism', 'tourist', 'tourments', 'tourniquets', 'tow', 'towered', 'townships', 'townsman', 'townsmen', 'toxaemias', 'toxaemic', 'toyshop', 'tr', 'traceable', 'trackless', 'tractable', 'traditionally', 'tragedies', 'trailed', 'trainee', 'trainer', 'traitorous', 'trajectory', 'trakh', 'trammeled', 'tramped', 'trample', 'tranquillize', 'tranquillized', 'tranquilly', 'transact', 'transcend', 'transferences', 'transfixes', 'transformer', 'transgressed', 'transgresses', 'transgressions', 'transitional', 'transitory', 'translations', 'translator', 'translucently', 'transmissible', 'transmoskva', 'transmuted', 'transparently', 'transplant', 'transportee', 'transshipments', 'transshipped', 'transudes', 'transuding', 'transversely', 'trappings', 'trata', 'traun', 'traverse', 'treacheries', 'treacherous', 'treadmill', 'treasured', 'treatise', 'treatments', 'trebled', 'treetops', 'trefoil', 'tremblement', 'trembles', 'trenchant', 'trent', 'trephined', 'trepoff', 'treponema', 'tresor', 'trespass', 'trespasser', 'trespasses', 'trestle', 'triangles', 'tribesmen', 'tributary', 'trichiniasis', 'trickery', 'trickle', 'trickles', 'tricky', 'trifacial', 'trifies', 'trifled', 'trigeminus', 'trilled', 'trilling', 'trills', 'trimly', 'trimming', 'trincomalee', 'trional', 'tripped', 'trips', 'trite', 'triviality', 'trochanteric', 'trolley', 'trooped', 'troopers', 'trop', 'troughs', 'troupe', 'trouvez', 'trove', 'truck', 'truer', 'trumbull', 'trumpets', 'truncated', 'truss', 'trustful', 'trustfulness', 'truthfully', 'trypanosomiasis', 'tsaritsin', 'tshausen', 'tss', 'tt', 'tubal', 'tubercular', 'tubman', 'tudor', 'tuesdays', 'tuffier', 'tumblerful', 'tumblerfuls', 'tumbling', 'tumultuously', 'tunes', 'tunics', 'tuning', 'tunneled', 'turbinate', 'turbine', 'turnover', 'turreted', 'tuscans', 'tuscaroras', 'tutoring', 'tutti', 'tverskaya', 'twaddle', 'twain', 'twanging', 'twansports', 'tweasuwy', 'twenties', 'twicks', 'twig', 'twinges', 'twists', 'twitches', 'twitter', 'twot', 'twue', 'ty', 'tympanitic', 'tympanum', 'tyne', 'typewrite', 'typewritist', 'tyre', 'tyrosin', 'tz', 'udder', 'uffa', 'uglier', 'ugliness', 'ukranian', 'ulcerans', 'ulsters', 'ulterior', 'ultimatum', 'ulyulyulyulyu', 'unabated', 'unaccompanied', 'unacknowledged', 'unaided', 'unalienable', 'unalterable', 'unalterably', 'unamiable', 'unanimity', 'unappreciated', 'unapproachability', 'unassailable', 'unattractively', 'unauthorized', 'unavailing', 'unavenged', 'unbelief', 'unbent', 'unborn', 'unbounded', 'unbreakable', 'unbrushed', 'unbuttoning', 'unbuttressed', 'uncanny', 'uncarpeted', 'unchangingly', 'unclasped', 'unclasping', 'unclaspings', 'unclear', 'unclothed', 'uncomplaining', 'uncomplainingly', 'unconciously', 'unconciousness', 'unconfirmed', 'uncongenial', 'unconquerable', 'unconsidered', 'uncontrollably', 'uncourteous', 'uncrossing', 'uncultivated', 'uncut', 'undah', 'undated', 'undefended', 'underclothes', 'underdone', 'undergraduate', 'undergrowth', 'underlip', 'undersell', 'undersized', 'undertakers', 'undertakes', 'undertone', 'undertones', 'undeservedly', 'undetermined', 'undid', 'undignified', 'undisciplined', 'undisguised', 'undisputed', 'undreamed', 'undulating', 'undulations', 'undyed', 'unearthed', 'unelected', 'unembarrassed', 'unendurable', 'unequaled', 'unequivocal', 'unerring', 'unerringly', 'unescorted', 'unevoked', 'unexpended', 'unexposed', 'unfairly', 'unfaithful', 'unfeigned', 'unfenced', 'unfits', 'unflinching', 'unfold', 'unfordable', 'unfounded', 'unfrocked', 'unfulfilled', 'unfurled', 'ungenerous', 'ungenerously', 'ungodly', 'ungovernable', 'unhampered', 'unheroic', 'unhesitatingly', 'unhinged', 'unhooked', 'unicorn', 'unified', 'unifying', 'unilocular', 'unimpaired', 'uninflamed', 'uninfluenced', 'uninitiated', 'uninstructed', 'unintended', 'uninterested', 'uninvited', 'unison', 'univers', 'unjustifiable', 'unkempt', 'unknowns', 'unleashed', 'unlicensed', 'unlicked', 'unlifting', 'unloosed', 'unmade', 'unmarred', 'unmarry', 'unmask', 'unmeaningly', 'unmelted', 'unmercifully', 'unmilitary', 'unmistakably', 'unmixed', 'unnaturalness', 'unnecessarily', 'unnerved', 'unobliterated', 'unobtrusive', 'unofficially', 'unopposed', 'unorganized', 'unpack', 'unpacked', 'unpacking', 'unpapered', 'unpardoned', 'unplaited', 'unpolished', 'unpracticed', 'unpretentious', 'unprovoked', 'unquestioning', 'unraveled', 'unravelled', 'unravelling', 'unreaped', 'unreasonably', 'unrecognisable', 'unrecorded', 'unreduced', 'unregulated', 'unremitting', 'unrepaired', 'unrestrainable', 'unrestrained', 'unripe', 'unrolling', 'unsaddling', 'unsanitary', 'unsatisfied', 'unscrupulous', 'unseat', 'unselfishly', 'unshapely', 'unsheathed', 'unsheathing', 'unsightliness', 'unskilful', 'unsmiling', 'unsociable', 'unsoldierly', 'unsoundly', 'unsparingly', 'unspent', 'unspoilt', 'unspoken', 'unstrapping', 'unstriped', 'unsurpassable', 'unswervingly', 'unsymmetrically', 'unsympathizing', 'unsystematic', 'untamed', 'untaxed', 'unteachable', 'untidiness', 'untidy', 'untiring', 'untried', 'untrustworthy', 'untying', 'ununited', 'unutterable', 'unvarying', 'unveiling', 'unwanted', 'unwary', 'unweaned', 'unwelcome', 'unwillingly', 'unwontedly', 'unworthiness', 'unwrapped', 'upbraided', 'upbringing', 'upbuilding', 'update', 'upgrade', 'upholder', 'upholds', 'uplifting', 'uplifts', 'uprightness', 'uprush', 'upstream', 'upswing', 'urachus', 'uratic', 'urbanity', 'urchin', 'ureter', 'urges', 'uric', 'urticaria', 'urticarial', 'uruguay', 'urusov', 'usher', 'usurpation', 'usurped', 'usvyazh', 'utero', 'utf', 'utilise', 'utilised', 'utilize', 'utilizes', 'utilizing', 'utterances', 'utters', 'uvula', 'vacation', 'vacillation', 'vacuum', 'vagabonds', 'vagaries', 'vaginitis', 'vagrancy', 'vagrants', 'vagueness', 'vainglorious', 'val', 'vale', 'valentine', 'valgum', 'valiantly', 'valise', 'valour', 'valuation', 'vancouver', 'vandalia', 'vanities', 'vanka', 'vanquishing', 'vanya', 'vapor', 'vapour', 'variant', 'varices', 'varicocele', 'variegated', 'varnished', 'varum', 'varvarka', 'vas', 'vasa', 'vascularised', 'vase', 'vaselin', 'vases', 'vasilchikov', 'vasilevna', 'vasilisa', 'vasomotor', 'vasorum', 'vassal', 'vassalage', 'vastus', 'vat', 'veal', 'vector', 'vegetarian', 'vegetative', 'velvets', 'venae', 'venal', 'vendor', 'venner', 'venomously', 'venter', 'ventilate', 'ventilated', 'ventilators', 'ventral', 'ventricle', 'ventricles', 'ventures', 'venturous', 'venules', 'venus', 'verbally', 'verbatim', 'verbs', 'veriest', 'verified', 'verifies', 'verifying', 'verlegt', 'verlust', 'vernal', 'verona', 'veronal', 'verrons', 'verso', 'vert', 'vertex', 'vesical', 'vesicle', 'vesico', 'vesna', 'vespertime', 'vestas', 'vestiges', 'vestment', 'vestries', 'vestry', 'vests', 'vetoes', 'vetoing', 'veux', 'vexations', 'vexing', 'vibratory', 'viceroy', 'victimized', 'victoire', 'victorieuses', 'victoriously', 'victuals', 'vient', 'vierge', 'vieux', 'viewer', 'viewpoint', 'vif', 'vight', 'vigil', 'vigilantes', 'vigour', 'viktorovna', 'vilas', 'viliya', 'villager', 'villagers', 'villainies', 'villainy', 'villi', 'villier', 'vinaigrette', 'vindicate', 'vindictively', 'vine', 'vines', 'vinesse', 'vineyards', 'violators', 'violins', 'virgil', 'virginal', 'virginian', 'virginians', 'virginias', 'virtual', 'vis', 'visage', 'visceral', 'vish', 'visibility', 'visionary', 'visitation', 'vistas', 'visualized', 'vitally', 'vitamin', 'vitiated', 'vitreous', 'vitriol', 'vittorio', 'vituperation', 'viva', 'vivandiere', 'vivants', 'vivarika', 'viz', 'vizard', 'vlas', 'vo', 'vogels', 'voit', 'volga', 'volkonsky', 'volleys', 'voltage', 'voltaires', 'voltorn', 'voluminous', 'volunteering', 'vomer', 'vomit', 'vomited', 'voracious', 'voraciously', 'vos', 'votive', 'voucher', 'vouching', 'vouchsafe', 'voulez', 'vousmemes', 'voyages', 'voyez', 'vrazhek', 'vrazhok', 'vrbna', 'vreatening', 'vue', 'vulcanite', 'vulgaris', 'vulgarity', 'vult', 'vulvo', 'vy', 'vyazemski', 'vying', 'wa', 'wabash', 'waddled', 'wade', 'wading', 'wafted', 'wafting', 'wagered', 'wagging', 'waggish', 'waggled', 'wagoners', 'waise', 'waising', 'waisted', 'waists', 'waitresses', 'waits', 'waived', 'wakened', 'wakens', 'waldo', 'wales', 'wallachian', 'wallenstein', 'wallerian', 'wallflower', 'wallowed', 'walnuts', 'walsall', 'walsingham', 'walt', 'wan', 'wand', 'wanderer', 'wanderers', 'wanders', 'waned', 'wantonly', 'wantonness', 'waps', 'warburton', 'warding', 'warily', 'warman', 'warne', 'warns', 'warped', 'wascal', 'washerwomen', 'washingtons', 'wast', 'wastage', 'wasteland', 'wat', 'watchdog', 'watches', 'watchmaker', 'waterway', 'waver', 'waxed', 'wayfaring', 'wayne', 'wayward', 'wead', 'weakens', 'wealthier', 'wealthiest', 'weaned', 'wearer', 'weason', 'webbed', 'weceives', 'wecollect', 'weconciliation', 'wecwuits', 'wed', 'wedded', 'wedlock', 'weeds', 'weedy', 'weekend', 'weepers', 'wefused', 'wegular', 'weib', 'weightiest', 'weimar', 'welcoming', 'wellesley', 'welling', 'wen', 'wench', 'wenches', 'weported', 'wert', 'wesel', 'westbury', 'westphail', 'wetted', 'wetting', 'wetu', 'weturn', 'weyl', 'wh', 'whatnot', 'whatnots', 'wheal', 'wheatfields', 'wheedled', 'whereupon', 'whiffs', 'whifling', 'whipping', 'whirlpool', 'whishing', 'whiskered', 'whiskey', 'whist', 'whitelaw', 'whiten', 'whitening', 'whittington', 'whizzed', 'whizzing', 'wholeheartedly', 'whoso', 'whosoever', 'wiberd', 'wicker', 'wid', 'widal', 'widden', 'wie', 'wield', 'wielders', 'wielding', 'wields', 'wiewiorowski', 'wigless', 'wigmore', 'wiki', 'wildbad', 'wildest', 'wildlife', 'wiles', 'wilkes', 'willed', 'willfully', 'williamsburg', 'willie', 'willings', 'willis', 'willoughby', 'willow', 'willows', 'wilmington', 'wilton', 'wimpfen', 'wimpole', 'windfall', 'windlass', 'windowpanes', 'windowsill', 'wined', 'wineglasses', 'winfield', 'winston', 'wintering', 'wirt', 'wiry', 'wiseacres', 'wiseman', 'wistful', 'witchery', 'witches', 'witching', 'withal', 'withering', 'witherspoon', 'withstood', 'witing', 'witticism', 'wittily', 'wiz', 'wizards', 'wlocki', 'wo', 'wobbahs', 'wobbed', 'wobber', 'wobbers', 'woe', 'woes', 'wogue', 'wolfhounds', 'womb', 'wonderment', 'wondrous', 'wonted', 'woodburn', 'woodcuts', 'woodcutting', 'woodford', 'woodson', 'woodwork', 'woolens', 'woolly', 'wools', 'woolseys', 'woot', 'wordforms', 'wordsworth', 'wordy', 'workforce', 'workhouse', 'workplace', 'workstation', 'worming', 'worries', 'worsening', 'worshiped', 'worshiper', 'worshipers', 'worshipped', 'worthier', 'worthily', 'worthwhile', 'wostovs', 'wotten', 'wrack', 'wrangle', 'wreckers', 'wrecking', 'wresting', 'wretchedness', 'wriggles', 'wrongdoing', 'wuined', 'wussian', 'wussians', 'wythe', 'wything', 'xiphi', 'xrange', 'xxxix', 'xxxv', 'xxxvi', 'xxxvii', 'xxxviii', 'yahweh', 'yankees', 'yawns', 'yea', 'yearly', 'yearning', 'yellowing', 'yelped', 'yeoman', 'yep', 'yer', 'yeux', 'yiddish', 'yoked', 'yokohama', 'yon', 'yore', 'yorkers', 'yorkshire', 'youngsters', 'youthfully', 'yukhnov', 'yukhnovna', 'yukhnovo', 'yuri', 'yusupov', 'yusupova', 'zakharchenko', 'zakharino', 'zakret', 'zakuska', 'zapata', 'zavarzinsk', 'zen', 'zenith', 'zere', 'zeus', 'zharov', 'zides', 'zikin', 'zinaida', 'zis', 'znamenka', 'zueblin', 'zum', 'zweck', 'zygoma', 'zygomatic']\n"
     ]
    }
   ],
   "source": [
    "rare_words = []\n",
    "for k in COUNTS:\n",
    "    if COUNTS[k] == 1:\n",
    "        rare_words.append(k)\n",
    "print(sorted(rare_words))"
   ]
  },
  {
   "cell_type": "markdown",
   "metadata": {},
   "source": [
    "## Further reading:\n",
    "\n",
    "* http://norvig.com/spell-correct.html\n",
    "* http://nbviewer.jupyter.org/url/norvig.com/ipython/How%20to%20Do%20Things%20with%20Words.ipynb. This is a notebook (python 2 though) for the book chapter: http://norvig.com/ngrams/ch14.pdf\n",
    "* http://www.python-course.eu/python3_memoization.php for an introduction  the `@memo` decorator. \n"
   ]
  },
  {
   "cell_type": "markdown",
   "metadata": {},
   "source": [
    "## Exercise\n",
    "\n",
    "1. The current implementation of the `correct()` function does not takes the context into consideration. Can you implement a version where the prior is based on the bigram language model? I.e., $P(w_{i+1} \\mid w_i) = P(w_{i} w_{i+1}) / P(w_i)$. \n",
    "\n"
   ]
  },
  {
   "cell_type": "code",
   "execution_count": null,
   "metadata": {
    "collapsed": true
   },
   "outputs": [],
   "source": []
  }
 ],
 "metadata": {
  "kernelspec": {
   "display_name": "Python 3",
   "language": "python",
   "name": "python3"
  },
  "language_info": {
   "codemirror_mode": {
    "name": "ipython",
    "version": 3
   },
   "file_extension": ".py",
   "mimetype": "text/x-python",
   "name": "python",
   "nbconvert_exporter": "python",
   "pygments_lexer": "ipython3",
   "version": "3.4.5"
  }
 },
 "nbformat": 4,
 "nbformat_minor": 0
}
